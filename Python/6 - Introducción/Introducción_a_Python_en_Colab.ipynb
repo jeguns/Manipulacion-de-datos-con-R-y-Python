{
  "nbformat": 4,
  "nbformat_minor": 0,
  "metadata": {
    "colab": {
      "provenance": [],
      "authorship_tag": "ABX9TyMj1RvnDXqdhYYePx6e6lvh",
      "include_colab_link": true
    },
    "kernelspec": {
      "name": "python3",
      "display_name": "Python 3"
    },
    "language_info": {
      "name": "python"
    }
  },
  "cells": [
    {
      "cell_type": "markdown",
      "metadata": {
        "id": "view-in-github",
        "colab_type": "text"
      },
      "source": [
        "<a href=\"https://colab.research.google.com/github/jeguns/Manipulacion-de-datos-con-R-y-Python/blob/main/Python/6%20-%20Introducci%C3%B3n/Introducci%C3%B3n_a_Python_en_Colab.ipynb\" target=\"_parent\"><img src=\"https://colab.research.google.com/assets/colab-badge.svg\" alt=\"Open In Colab\"/></a>"
      ]
    },
    {
      "cell_type": "code",
      "execution_count": null,
      "metadata": {
        "id": "nweZwxNdJpe3"
      },
      "outputs": [],
      "source": []
    },
    {
      "cell_type": "markdown",
      "source": [
        "En el curso desarrollaremos *código Python* orientado al **análisis de datos**\n",
        "\n",
        "*   Elemento de lista 1\n",
        "*   Elemento de lista 2\n",
        "\n",
        "`x = 4`\n",
        "\n",
        "$x^2 + y^2  = 1$\n",
        "\n",
        "♦ ⛵\n",
        "\n",
        "\n",
        "> Ejemplo de blockquote. Este texto saldrá un poco más hacia la derecha. Ejemplo de blockquote. Este texto saldrá un poco más hacia la derecha Ejemplo de blockquote. Este texto saldrá un poco más hacia la derecha Ejemplo de blockquote. Este texto saldrá un poco más hacia la derecha Ejemplo de blockquote. Este texto saldrá un poco más hacia la derecha\n",
        "\n"
      ],
      "metadata": {
        "id": "tFYl36SQKeNH"
      }
    },
    {
      "cell_type": "code",
      "source": [
        "4+12"
      ],
      "metadata": {
        "colab": {
          "base_uri": "https://localhost:8080/"
        },
        "id": "cmpIdeE1Mfd-",
        "outputId": "b8476c7d-571e-42d9-eaea-b13a47b3ab9b"
      },
      "execution_count": 2,
      "outputs": [
        {
          "output_type": "execute_result",
          "data": {
            "text/plain": [
              "16"
            ]
          },
          "metadata": {},
          "execution_count": 2
        }
      ]
    },
    {
      "cell_type": "code",
      "source": [
        "65/13 + 9*8 - 14"
      ],
      "metadata": {
        "colab": {
          "base_uri": "https://localhost:8080/"
        },
        "id": "dzE9KRCrMtYp",
        "outputId": "e67a440e-8615-425e-fa98-b5a35b506727"
      },
      "execution_count": 4,
      "outputs": [
        {
          "output_type": "execute_result",
          "data": {
            "text/plain": [
              "63.0"
            ]
          },
          "metadata": {},
          "execution_count": 4
        }
      ]
    },
    {
      "cell_type": "code",
      "source": [
        "25**0.5 # Raíz cuadrada de  25"
      ],
      "metadata": {
        "colab": {
          "base_uri": "https://localhost:8080/"
        },
        "id": "_X2dXBVJNArG",
        "outputId": "c7367fda-7486-4a11-ef39-440c798b084b"
      },
      "execution_count": 5,
      "outputs": [
        {
          "output_type": "execute_result",
          "data": {
            "text/plain": [
              "5.0"
            ]
          },
          "metadata": {},
          "execution_count": 5
        }
      ]
    },
    {
      "cell_type": "code",
      "source": [
        "import math\n",
        "math.sqrt(25) # raíz cuadrada"
      ],
      "metadata": {
        "colab": {
          "base_uri": "https://localhost:8080/"
        },
        "id": "rQf4LlmjNOny",
        "outputId": "c30772b4-04e2-4edb-eab0-5027ca1823a2"
      },
      "execution_count": 7,
      "outputs": [
        {
          "output_type": "execute_result",
          "data": {
            "text/plain": [
              "5.0"
            ]
          },
          "metadata": {},
          "execution_count": 7
        }
      ]
    },
    {
      "cell_type": "code",
      "source": [
        "math.log(423) # logaritmo natural (ln)"
      ],
      "metadata": {
        "colab": {
          "base_uri": "https://localhost:8080/"
        },
        "id": "GVGYSGHlN642",
        "outputId": "3948ed43-6d91-4716-9e84-d7d0f2287528"
      },
      "execution_count": 8,
      "outputs": [
        {
          "output_type": "execute_result",
          "data": {
            "text/plain": [
              "6.0473721790462776"
            ]
          },
          "metadata": {},
          "execution_count": 8
        }
      ]
    },
    {
      "cell_type": "code",
      "source": [
        "math.log10(423) # logaritmo en base 10"
      ],
      "metadata": {
        "colab": {
          "base_uri": "https://localhost:8080/"
        },
        "id": "EJoTe-sYOWNt",
        "outputId": "32cd73cf-f4e2-4415-9cf0-14b0a8b694ae"
      },
      "execution_count": 10,
      "outputs": [
        {
          "output_type": "execute_result",
          "data": {
            "text/plain": [
              "2.6263403673750423"
            ]
          },
          "metadata": {},
          "execution_count": 10
        }
      ]
    },
    {
      "cell_type": "code",
      "source": [
        "10**2.6263403673750423"
      ],
      "metadata": {
        "colab": {
          "base_uri": "https://localhost:8080/"
        },
        "id": "oO15o6P_OeD9",
        "outputId": "1e7fbff5-cc7a-4396-fc38-e1d01caf8d73"
      },
      "execution_count": 11,
      "outputs": [
        {
          "output_type": "execute_result",
          "data": {
            "text/plain": [
              "422.99999999999994"
            ]
          },
          "metadata": {},
          "execution_count": 11
        }
      ]
    },
    {
      "cell_type": "code",
      "source": [
        "math.exp(10) # exponencial e^10"
      ],
      "metadata": {
        "colab": {
          "base_uri": "https://localhost:8080/"
        },
        "id": "RZuAMc6iOhXw",
        "outputId": "f54be3c0-7909-456f-cbae-8d6f8402014b"
      },
      "execution_count": 12,
      "outputs": [
        {
          "output_type": "execute_result",
          "data": {
            "text/plain": [
              "22026.465794806718"
            ]
          },
          "metadata": {},
          "execution_count": 12
        }
      ]
    },
    {
      "cell_type": "code",
      "source": [
        "2.5**3"
      ],
      "metadata": {
        "colab": {
          "base_uri": "https://localhost:8080/"
        },
        "id": "Co9FiFmOOnV8",
        "outputId": "37db03f7-b36d-421b-ee08-424b32186e6b"
      },
      "execution_count": 13,
      "outputs": [
        {
          "output_type": "execute_result",
          "data": {
            "text/plain": [
              "15.625"
            ]
          },
          "metadata": {},
          "execution_count": 13
        }
      ]
    },
    {
      "cell_type": "code",
      "source": [
        "math.pow(2.5,3)"
      ],
      "metadata": {
        "colab": {
          "base_uri": "https://localhost:8080/"
        },
        "id": "4jafK_qnOsjw",
        "outputId": "e7ef0ca9-a0c4-4338-accc-7897d0a63766"
      },
      "execution_count": 14,
      "outputs": [
        {
          "output_type": "execute_result",
          "data": {
            "text/plain": [
              "15.625"
            ]
          },
          "metadata": {},
          "execution_count": 14
        }
      ]
    },
    {
      "cell_type": "code",
      "source": [
        "math.factorial(3)"
      ],
      "metadata": {
        "colab": {
          "base_uri": "https://localhost:8080/"
        },
        "id": "gsqKV8QhOwo1",
        "outputId": "0cbedce1-d8de-40f9-8bef-cd34c8bb53fe"
      },
      "execution_count": 15,
      "outputs": [
        {
          "output_type": "execute_result",
          "data": {
            "text/plain": [
              "6"
            ]
          },
          "metadata": {},
          "execution_count": 15
        }
      ]
    },
    {
      "cell_type": "code",
      "source": [
        "x = math.factorial(3)"
      ],
      "metadata": {
        "id": "Z4UEal2UO4L8"
      },
      "execution_count": 16,
      "outputs": []
    },
    {
      "cell_type": "code",
      "source": [
        "x"
      ],
      "metadata": {
        "colab": {
          "base_uri": "https://localhost:8080/"
        },
        "id": "WJqQnX_HO7et",
        "outputId": "e61c7749-019d-4d44-d715-5d12460be975"
      },
      "execution_count": 17,
      "outputs": [
        {
          "output_type": "execute_result",
          "data": {
            "text/plain": [
              "6"
            ]
          },
          "metadata": {},
          "execution_count": 17
        }
      ]
    }
  ]
}