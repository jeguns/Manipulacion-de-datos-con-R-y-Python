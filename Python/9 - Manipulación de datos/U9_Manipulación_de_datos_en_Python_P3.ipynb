{
  "nbformat": 4,
  "nbformat_minor": 0,
  "metadata": {
    "colab": {
      "provenance": [],
      "toc_visible": true,
      "authorship_tag": "ABX9TyM4mUsBqVUb4xWMT/sP9zXY",
      "include_colab_link": true
    },
    "kernelspec": {
      "name": "python3",
      "display_name": "Python 3"
    },
    "language_info": {
      "name": "python"
    }
  },
  "cells": [
    {
      "cell_type": "markdown",
      "metadata": {
        "id": "view-in-github",
        "colab_type": "text"
      },
      "source": [
        "<a href=\"https://colab.research.google.com/github/jeguns/Manipulacion-de-datos-con-R-y-Python/blob/main/Python/9%20-%20Manipulaci%C3%B3n%20de%20datos/U9_Manipulaci%C3%B3n_de_datos_en_Python_P3.ipynb\" target=\"_parent\"><img src=\"https://colab.research.google.com/assets/colab-badge.svg\" alt=\"Open In Colab\"/></a>"
      ]
    },
    {
      "cell_type": "markdown",
      "source": [
        "## Lectura"
      ],
      "metadata": {
        "id": "F_kEM-gHPzzw"
      }
    },
    {
      "cell_type": "code",
      "source": [
        "import pandas as pd\n",
        "from datetime import datetime, timedelta\n",
        "datos = pd.read_excel('U9 - DATOS4.xlsx', skiprows=14)\n",
        "datos.head(5)"
      ],
      "metadata": {
        "id": "Hv7kkbBbP743"
      },
      "execution_count": null,
      "outputs": []
    },
    {
      "cell_type": "code",
      "source": [
        "print(\"Columnas:\", datos.columns)\n"
      ],
      "metadata": {
        "id": "_PVhY76FsxET"
      },
      "execution_count": null,
      "outputs": []
    },
    {
      "cell_type": "markdown",
      "source": [
        "## Repaso"
      ],
      "metadata": {
        "id": "gUKet1rbQE47"
      }
    },
    {
      "cell_type": "code",
      "source": [
        "datos1 = (datos\n",
        "    .copy()\n",
        "    .rename(columns={datos.columns[0]: 'FECHA',\n",
        "                     datos.columns[1]: 'HORA',\n",
        "                     datos.columns[2]: 'TEMP',\n",
        "                     datos.columns[3]: 'PRECI',\n",
        "                     datos.columns[4]: 'HUMEDAD',\n",
        "                     datos.columns[5]: 'DIRECVEL',\n",
        "                     datos.columns[6]: 'VELOCVEL'})\n",
        "    .assign(FECHA    = lambda x: pd.to_datetime(x['FECHA'], format='%Y-%m-%d'),\n",
        "            DIRECVEL = lambda x: pd.to_numeric(x['DIRECVEL'], errors='coerce'))\n",
        ")"
      ],
      "metadata": {
        "id": "xQEv-GLzQGxX"
      },
      "execution_count": null,
      "outputs": []
    },
    {
      "cell_type": "code",
      "source": [
        "datos1.head()"
      ],
      "metadata": {
        "id": "wM1axVcqQWWi"
      },
      "execution_count": null,
      "outputs": []
    },
    {
      "cell_type": "code",
      "source": [
        "datos1.info()"
      ],
      "metadata": {
        "id": "ja3QRJBXQaJC"
      },
      "execution_count": null,
      "outputs": []
    },
    {
      "cell_type": "code",
      "source": [
        "Q1 = datos1['DIRECVEL'].quantile(0.25)\n",
        "Q3 = datos1['DIRECVEL'].quantile(0.75)\n",
        "LI = Q1 - 1.5 * (Q3 - Q1)  # límite inferior\n",
        "LS = Q3 + 1.5 * (Q3 - Q1)  # límite superior\n",
        "\n",
        "print(\"Q1:\", Q1)\n",
        "print(\"Q3:\", Q3)\n",
        "print(\"Límite inferior:\", LI)\n",
        "print(\"Límite superior:\", LS)"
      ],
      "metadata": {
        "id": "H4mNjd3JQ7Lt"
      },
      "execution_count": null,
      "outputs": []
    },
    {
      "cell_type": "code",
      "source": [
        "datos2 = datos1[(datos1['DIRECVEL'] > LI) & (datos1['DIRECVEL'] < LS)]\n",
        "datos2.head() # no atípicos"
      ],
      "metadata": {
        "id": "7aC1LhEUQ9y_"
      },
      "execution_count": null,
      "outputs": []
    },
    {
      "cell_type": "code",
      "source": [
        "datos3 = datos1[(datos1['DIRECVEL'] < LI) | (datos1['DIRECVEL'] > LS)]\n",
        "datos3.head() # atípicos"
      ],
      "metadata": {
        "id": "ipxUu3pgRC8a"
      },
      "execution_count": null,
      "outputs": []
    },
    {
      "cell_type": "markdown",
      "source": [
        "## pivot wider (.pivot)"
      ],
      "metadata": {
        "id": "KkI1Djrmv2nn"
      }
    },
    {
      "cell_type": "code",
      "source": [
        "datos1.drop(columns=['PRECI', 'HUMEDAD', 'DIRECVEL', 'VELOCVEL'])"
      ],
      "metadata": {
        "id": "wUTzcUj_RT1v"
      },
      "execution_count": null,
      "outputs": []
    },
    {
      "cell_type": "code",
      "source": [
        "(datos1\n",
        " .drop(columns=['PRECI', 'HUMEDAD', 'DIRECVEL', 'VELOCVEL'])\n",
        " .pivot(index='FECHA', columns='HORA', values='TEMP'))"
      ],
      "metadata": {
        "id": "Xh5SBd1wulfL"
      },
      "execution_count": null,
      "outputs": []
    },
    {
      "cell_type": "code",
      "source": [
        "datos4 = (datos1\n",
        "          .drop(columns=['PRECI', 'HUMEDAD', 'DIRECVEL', 'VELOCVEL'])\n",
        "          .pivot(index='FECHA', columns='HORA', values='TEMP'))\n",
        "datos4.head()"
      ],
      "metadata": {
        "id": "zewIsnSKRVOG"
      },
      "execution_count": null,
      "outputs": []
    },
    {
      "cell_type": "code",
      "source": [
        "datos4 = datos4.rename(columns={datos4.columns[0]: 'Medianoche'})\n",
        "datos4.head()"
      ],
      "metadata": {
        "id": "AzhzYpCnRWcD"
      },
      "execution_count": null,
      "outputs": []
    },
    {
      "cell_type": "code",
      "source": [
        "Q1 = datos4['Medianoche'].quantile(0.25)\n",
        "Q3 = datos4['Medianoche'].quantile(0.75)\n",
        "LI = Q1 - 1.5 * (Q3 - Q1)  # límite inferior\n",
        "LS = Q3 + 1.5 * (Q3 - Q1)  # límite superior\n",
        "\n",
        "print(\"Q1:\", Q1)\n",
        "print(\"Q3:\", Q3)\n",
        "print(\"Límite inferior:\", LI)\n",
        "print(\"Límite superior:\", LS)"
      ],
      "metadata": {
        "id": "SH-oDuaZRkcA"
      },
      "execution_count": null,
      "outputs": []
    },
    {
      "cell_type": "code",
      "source": [
        "datos5 = datos4[(datos4['Medianoche'] < LI) | (datos4['Medianoche'] > LS)]\n",
        "datos5.head() # atípicos"
      ],
      "metadata": {
        "id": "CcX1E6kjR0GU"
      },
      "execution_count": null,
      "outputs": []
    },
    {
      "cell_type": "code",
      "source": [
        "datos6 = datos4[(datos4['Medianoche'] > LI) & (datos4['Medianoche'] < LS)]\n",
        "datos6.head() # no atípicos"
      ],
      "metadata": {
        "id": "C8Zh0paHvqRW"
      },
      "execution_count": null,
      "outputs": []
    },
    {
      "cell_type": "markdown",
      "source": [
        "## pivot longer (.melt)"
      ],
      "metadata": {
        "id": "8gscCyDFv4fr"
      }
    },
    {
      "cell_type": "code",
      "source": [
        "df_dca = pd.DataFrame({\n",
        "    'Parcela': range(1, 4),\n",
        "    'T1': [10.5, 11.2, 9.8],\n",
        "    'T2': [12.0, 11.5, 13.1],\n",
        "    'T3': [10.8, 12.2, 11.4]\n",
        "})\n",
        "df_dca"
      ],
      "metadata": {
        "id": "bFC7E4SUv-f9"
      },
      "execution_count": null,
      "outputs": []
    },
    {
      "cell_type": "code",
      "source": [
        "df_dca.melt(id_vars    = ['Parcela'],\n",
        "            value_vars = ['T1', 'T2', 'T3'],\n",
        "            var_name   = 'Tratamiento',\n",
        "            value_name = 'Rendimiento')"
      ],
      "metadata": {
        "id": "KoFrk9iCwBlV"
      },
      "execution_count": null,
      "outputs": []
    }
  ]
}