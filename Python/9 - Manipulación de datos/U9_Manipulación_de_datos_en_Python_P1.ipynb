{
  "nbformat": 4,
  "nbformat_minor": 0,
  "metadata": {
    "colab": {
      "provenance": [],
      "authorship_tag": "ABX9TyNdnFsAjnu1w1xHuQ8SKHhK",
      "include_colab_link": true
    },
    "kernelspec": {
      "name": "python3",
      "display_name": "Python 3"
    },
    "language_info": {
      "name": "python"
    }
  },
  "cells": [
    {
      "cell_type": "markdown",
      "metadata": {
        "id": "view-in-github",
        "colab_type": "text"
      },
      "source": [
        "<a href=\"https://colab.research.google.com/github/jeguns/Manipulacion-de-datos-con-R-y-Python/blob/main/Python/9%20-%20Manipulaci%C3%B3n%20de%20datos/U9_Manipulaci%C3%B3n_de_datos_en_Python_P1.ipynb\" target=\"_parent\"><img src=\"https://colab.research.google.com/assets/colab-badge.svg\" alt=\"Open In Colab\"/></a>"
      ]
    },
    {
      "cell_type": "markdown",
      "source": [
        "## Lectura"
      ],
      "metadata": {
        "id": "F_kEM-gHPzzw"
      }
    },
    {
      "cell_type": "markdown",
      "source": [
        "El archivo U9 - DATOS1.xlsx corresponde a la [ENDES 2022](https://www.datosabiertos.gob.pe/dataset/encuesta-demogr%C3%A1fica-y-de-salud-familiar-endes-2022-instituto-nacional-de-estad%C3%ADstica-e)."
      ],
      "metadata": {
        "id": "5e1rPvIMfhni"
      }
    },
    {
      "cell_type": "code",
      "source": [
        "import pandas as pd\n",
        "datos = pd.read_excel('U9 - DATOS1.xlsx')\n",
        "datos.head(10)"
      ],
      "metadata": {
        "id": "Hv7kkbBbP743"
      },
      "execution_count": null,
      "outputs": []
    },
    {
      "cell_type": "markdown",
      "source": [
        "## Selección de variables"
      ],
      "metadata": {
        "id": "gUKet1rbQE47"
      }
    },
    {
      "cell_type": "code",
      "source": [
        "datos01 = datos[['HV009', 'HV010', 'HV014', 'HV015', 'HV024', 'HV025', 'HV035', 'HV042', 'NOMCCPP', 'LONGITUDX', 'LATITUDY']]"
      ],
      "metadata": {
        "id": "xQEv-GLzQGxX"
      },
      "execution_count": null,
      "outputs": []
    },
    {
      "cell_type": "code",
      "source": [
        "datos02 = datos.loc[:, ['HV009', 'HV010', 'HV014', 'HV015', 'HV024', 'HV025', 'HV035', 'HV042', 'NOMCCPP', 'LONGITUDX', 'LATITUDY']]"
      ],
      "metadata": {
        "id": "g061odOCfyDa"
      },
      "execution_count": null,
      "outputs": []
    },
    {
      "cell_type": "code",
      "source": [
        "datos03 = datos.iloc[:, [10, 11, 15, 16, 21, 22, 30, 33] + list(range(41, 44))]"
      ],
      "metadata": {
        "id": "wM1axVcqQWWi"
      },
      "execution_count": null,
      "outputs": []
    },
    {
      "cell_type": "code",
      "source": [
        "datos01.equals(datos02)"
      ],
      "metadata": {
        "id": "mKcs7lC8fxh_"
      },
      "execution_count": null,
      "outputs": []
    },
    {
      "cell_type": "code",
      "source": [
        "datos02.equals(datos03)"
      ],
      "metadata": {
        "id": "ja3QRJBXQaJC"
      },
      "execution_count": null,
      "outputs": []
    },
    {
      "cell_type": "code",
      "source": [
        "datos04 = datos.drop(columns=['ID1', 'HHID', 'HV000'])"
      ],
      "metadata": {
        "id": "H4mNjd3JQ7Lt"
      },
      "execution_count": null,
      "outputs": []
    },
    {
      "cell_type": "code",
      "source": [
        "datos05 = datos.iloc[:, 3:]"
      ],
      "metadata": {
        "id": "7aC1LhEUQ9y_"
      },
      "execution_count": null,
      "outputs": []
    },
    {
      "cell_type": "code",
      "source": [
        "datos04.equals(datos05)"
      ],
      "metadata": {
        "id": "ipxUu3pgRC8a"
      },
      "execution_count": null,
      "outputs": []
    },
    {
      "cell_type": "code",
      "source": [
        "datos06 = datos[['HV014']]"
      ],
      "metadata": {
        "id": "wUTzcUj_RT1v"
      },
      "execution_count": null,
      "outputs": []
    },
    {
      "cell_type": "code",
      "source": [
        "datos07 = datos['HV014']"
      ],
      "metadata": {
        "id": "zewIsnSKRVOG"
      },
      "execution_count": null,
      "outputs": []
    },
    {
      "cell_type": "code",
      "source": [
        "datos06.equals(datos07)"
      ],
      "metadata": {
        "id": "AzhzYpCnRWcD"
      },
      "execution_count": null,
      "outputs": []
    },
    {
      "cell_type": "code",
      "source": [
        "type(datos06)"
      ],
      "metadata": {
        "id": "EhzwBC9Sg_mR"
      },
      "execution_count": null,
      "outputs": []
    },
    {
      "cell_type": "code",
      "source": [
        "type(datos07)"
      ],
      "metadata": {
        "id": "tljIvMy3hBrf"
      },
      "execution_count": null,
      "outputs": []
    },
    {
      "cell_type": "markdown",
      "source": [
        "## Renombrar variables"
      ],
      "metadata": {
        "id": "dF6VVOXtRiwL"
      }
    },
    {
      "cell_type": "code",
      "source": [
        "datos01.columns"
      ],
      "metadata": {
        "id": "SH-oDuaZRkcA"
      },
      "execution_count": null,
      "outputs": []
    },
    {
      "cell_type": "code",
      "source": [
        "datos08 = datos01.copy()\n",
        "datos08.columns = ['TOTAL_HOGAR', 'TOTAL_MUJERES', 'TOTAL_NINOS', 'ENTREVISTA',\n",
        "                   'DEPARTAMENTO', 'AREA', 'NINOS_ELEG', 'HEMOG_ELEG', 'NOMCCPP',\n",
        "                   'LONGITUDX', 'LATITUDY']"
      ],
      "metadata": {
        "id": "CcX1E6kjR0GU"
      },
      "execution_count": null,
      "outputs": []
    },
    {
      "cell_type": "code",
      "source": [
        "datos09 = datos01.rename(columns={'HV009': 'TOTAL_HOGAR',\n",
        "                                  'HV010': 'TOTAL_MUJERES',\n",
        "                                  'HV014': 'TOTAL_NINOS',\n",
        "                                  'HV015': 'ENTREVISTA',\n",
        "                                  'HV024': 'DEPARTAMENTO',\n",
        "                                  'HV025': 'AREA',\n",
        "                                  'HV035': 'NINOS_ELEG',\n",
        "                                  'HV042': 'HEMOG_ELEG'})"
      ],
      "metadata": {
        "id": "goCAOYcrR4ZU"
      },
      "execution_count": null,
      "outputs": []
    },
    {
      "cell_type": "code",
      "source": [
        "datos08.equals(datos09)"
      ],
      "metadata": {
        "id": "4_EYI07TSAUq"
      },
      "execution_count": null,
      "outputs": []
    },
    {
      "cell_type": "markdown",
      "source": [
        "## Creación de variables"
      ],
      "metadata": {
        "id": "Untn6syWS7pQ"
      }
    },
    {
      "cell_type": "code",
      "source": [
        "datos10 = datos08.copy()\n",
        "datos10['TOTAL_MUJ_NIN'] = datos10['TOTAL_MUJERES'] + datos10['TOTAL_NINOS']\n",
        "datos10['TOTAL_OTROS']   = datos10['TOTAL_HOGAR'] - datos10['TOTAL_MUJ_NIN']"
      ],
      "metadata": {
        "id": "zPGdfQMBS90W"
      },
      "execution_count": null,
      "outputs": []
    },
    {
      "cell_type": "code",
      "source": [
        "datos11 = datos08.copy().assign(\n",
        "    TOTAL_MUJ_NIN = lambda x: x['TOTAL_MUJERES'] + x['TOTAL_NINOS'],\n",
        "    TOTAL_OTROS   = lambda x: x['TOTAL_HOGAR'] - x['TOTAL_MUJ_NIN'])"
      ],
      "metadata": {
        "id": "eacfiJrhhyY1"
      },
      "execution_count": null,
      "outputs": []
    },
    {
      "cell_type": "code",
      "source": [
        "datos10.equals(datos11)"
      ],
      "metadata": {
        "id": "jPPfuErmhrrV"
      },
      "execution_count": null,
      "outputs": []
    },
    {
      "cell_type": "code",
      "source": [
        "import numpy as np\n",
        "datos11 = datos08.copy()\n",
        "datos11['LIMA'] = np.where(datos11['DEPARTAMENTO'] == \"LIMA\", \"SI\", \"NO\")"
      ],
      "metadata": {
        "id": "lUhB9SYJTh1c"
      },
      "execution_count": null,
      "outputs": []
    },
    {
      "cell_type": "code",
      "source": [
        "datos12 = datos08.copy().assign(\n",
        "    LIMA = lambda x: x['DEPARTAMENTO'].apply(lambda y: \"SI\" if y == \"LIMA\" else \"NO\"))"
      ],
      "metadata": {
        "id": "RccMgCRYiMPs"
      },
      "execution_count": null,
      "outputs": []
    },
    {
      "cell_type": "code",
      "source": [
        "datos11.equals(datos12)"
      ],
      "metadata": {
        "id": "FewTyvsciUIs"
      },
      "execution_count": null,
      "outputs": []
    },
    {
      "cell_type": "code",
      "source": [
        "datos13 = datos08.copy()\n",
        "datos13['LIMA_CALLAO'] = np.where(datos13['DEPARTAMENTO'].isin([\"LIMA\", \"CALLAO\"]), \"SI\", \"NO\")"
      ],
      "metadata": {
        "id": "CNXaTwTyTneS"
      },
      "execution_count": null,
      "outputs": []
    },
    {
      "cell_type": "code",
      "source": [
        "datos14 = datos08.copy().assign(\n",
        "    LIMA_CALLAO = lambda x: x['DEPARTAMENTO'].apply(lambda y: \"SI\" if y in [\"LIMA\", \"CALLAO\"] else \"NO\"))"
      ],
      "metadata": {
        "id": "S6JiPIwmio31"
      },
      "execution_count": null,
      "outputs": []
    },
    {
      "cell_type": "code",
      "source": [
        "datos13.equals(datos14)"
      ],
      "metadata": {
        "id": "5w5Hq8z_iyzH"
      },
      "execution_count": null,
      "outputs": []
    },
    {
      "cell_type": "code",
      "source": [
        "datos15 = datos08.copy()\n",
        "datos15['TOTAL_MUJ_NIN'] = datos15['TOTAL_MUJERES'] + datos15['TOTAL_NINOS']\n",
        "datos15['TOTAL_OTROS']   = datos15['TOTAL_HOGAR'] - datos15['TOTAL_MUJ_NIN']\n",
        "datos15['LIMA']          = np.where(datos15['DEPARTAMENTO'] == \"LIMA\", \"SI\", \"NO\")\n",
        "datos15['LIMA_CALLAO']   = np.where(datos15['DEPARTAMENTO'].isin([\"LIMA\", \"CALLAO\"]), \"SI\", \"NO\")"
      ],
      "metadata": {
        "id": "nZRHst1BTzRh"
      },
      "execution_count": null,
      "outputs": []
    },
    {
      "cell_type": "code",
      "source": [
        "datos16 = datos08.copy().assign(\n",
        "    TOTAL_MUJ_NIN = lambda x: x['TOTAL_MUJERES'] + x['TOTAL_NINOS'],\n",
        "    TOTAL_OTROS   = lambda x: x['TOTAL_HOGAR'] - x['TOTAL_MUJ_NIN'],\n",
        "    LIMA          = lambda x: x['DEPARTAMENTO'].apply(lambda y: \"SI\" if y == \"LIMA\" else \"NO\"),\n",
        "    LIMA_CALLAO   = lambda x: x['DEPARTAMENTO'].apply(lambda y: \"SI\" if y in [\"LIMA\", \"CALLAO\"] else \"NO\"))"
      ],
      "metadata": {
        "id": "H-fa_-ZJi5w6"
      },
      "execution_count": null,
      "outputs": []
    },
    {
      "cell_type": "code",
      "source": [
        "datos15.equals(datos16)"
      ],
      "metadata": {
        "id": "lBAsFvN_i_GO"
      },
      "execution_count": null,
      "outputs": []
    },
    {
      "cell_type": "markdown",
      "source": [
        "## Modificación de variables"
      ],
      "metadata": {
        "id": "KKHvJzBbUkl7"
      }
    },
    {
      "cell_type": "code",
      "source": [
        "datos16['AREA'].dtype"
      ],
      "metadata": {
        "id": "5frx7Np9UDCf"
      },
      "execution_count": null,
      "outputs": []
    },
    {
      "cell_type": "code",
      "source": [
        "datos17 = datos16.copy()\n",
        "datos17['AREA'] = np.where(datos17['AREA'] == 1, \"URBANO\", \"RURAL\")"
      ],
      "metadata": {
        "id": "NXKiSrp5jYlc"
      },
      "execution_count": null,
      "outputs": []
    },
    {
      "cell_type": "code",
      "source": [
        "datos18 = datos16.copy().assign(\n",
        "    AREA = lambda x: x['AREA'].apply(lambda y: \"URBANO\" if y == 1 else \"RURAL\"))"
      ],
      "metadata": {
        "id": "6J7cRz9KjeZQ"
      },
      "execution_count": null,
      "outputs": []
    },
    {
      "cell_type": "code",
      "source": [
        "datos17['AREA'].dtype"
      ],
      "metadata": {
        "id": "tre3RsM5UI9j"
      },
      "execution_count": null,
      "outputs": []
    },
    {
      "cell_type": "code",
      "source": [
        "datos18['AREA'].dtype"
      ],
      "metadata": {
        "id": "sOvN_EbSjuZw"
      },
      "execution_count": null,
      "outputs": []
    },
    {
      "cell_type": "markdown",
      "source": [
        "## Filtros"
      ],
      "metadata": {
        "id": "6Q3f7B0AU7Mr"
      }
    },
    {
      "cell_type": "code",
      "source": [
        "datos19 = datos18[datos18['AREA'] == \"URBANO\"]\n",
        "datos19.head()"
      ],
      "metadata": {
        "id": "q09m2qm9U8V5"
      },
      "execution_count": null,
      "outputs": []
    },
    {
      "cell_type": "code",
      "source": [
        "datos20 = datos18.copy().query('AREA == \"URBANO\"')\n",
        "datos20.head()"
      ],
      "metadata": {
        "id": "vhDjQ_Azj74A"
      },
      "execution_count": null,
      "outputs": []
    },
    {
      "cell_type": "code",
      "source": [
        "datos19.equals(datos20)"
      ],
      "metadata": {
        "id": "GAwJJa80kOwF"
      },
      "execution_count": null,
      "outputs": []
    },
    {
      "cell_type": "code",
      "source": [
        "datos21 = datos18[(datos18['AREA'] == \"URBANO\") & (datos12['DEPARTAMENTO'] == 4)]\n",
        "datos21.head()"
      ],
      "metadata": {
        "id": "SRbW9CrRVKzW"
      },
      "execution_count": null,
      "outputs": []
    },
    {
      "cell_type": "code",
      "source": [
        "datos22 = datos18.copy().query('AREA == \"URBANO\" and DEPARTAMENTO == 4')\n",
        "datos22.head()"
      ],
      "metadata": {
        "id": "w3N4v2RIkUpi"
      },
      "execution_count": null,
      "outputs": []
    },
    {
      "cell_type": "code",
      "source": [
        "datos22.equals(datos21)"
      ],
      "metadata": {
        "id": "UWiHYAM3kaxs"
      },
      "execution_count": null,
      "outputs": []
    },
    {
      "cell_type": "code",
      "source": [
        "datos23 = datos18[(datos18['AREA'] == \"URBANO\") | (datos18['DEPARTAMENTO'] == 4)]\n",
        "datos23.head()"
      ],
      "metadata": {
        "id": "gfHmZgCYVZdU"
      },
      "execution_count": null,
      "outputs": []
    },
    {
      "cell_type": "code",
      "source": [
        "datos24 = datos18.copy().query('AREA == \"URBANO\" or DEPARTAMENTO == 4')\n",
        "datos24.head()"
      ],
      "metadata": {
        "id": "dzz5PgQAki0e"
      },
      "execution_count": null,
      "outputs": []
    },
    {
      "cell_type": "code",
      "source": [
        "datos23.equals(datos24)"
      ],
      "metadata": {
        "id": "-fFtG5qLkoc1"
      },
      "execution_count": null,
      "outputs": []
    },
    {
      "cell_type": "code",
      "source": [
        "datos25 = datos18[(datos18['AREA'] == \"URBANO\") & (datos18['DEPARTAMENTO'].isin([16, 17, 25]))]\n",
        "datos25.head()"
      ],
      "metadata": {
        "id": "JZozP-zsVdxS"
      },
      "execution_count": null,
      "outputs": []
    },
    {
      "cell_type": "code",
      "source": [
        "datos26 = datos18.copy().query('AREA == \"URBANO\" and DEPARTAMENTO in [16, 17, 25]')\n",
        "datos26.head()"
      ],
      "metadata": {
        "id": "A9FHjyZCky3k"
      },
      "execution_count": null,
      "outputs": []
    },
    {
      "cell_type": "code",
      "source": [
        "datos25.equals(datos26)"
      ],
      "metadata": {
        "id": "YIHlX2r_k2fS"
      },
      "execution_count": null,
      "outputs": []
    },
    {
      "cell_type": "code",
      "source": [
        "datos27 = datos18[datos18['DEPARTAMENTO'] != 12]\n",
        "datos27.head()"
      ],
      "metadata": {
        "id": "MDm7LsTtVkRl"
      },
      "execution_count": null,
      "outputs": []
    },
    {
      "cell_type": "code",
      "source": [
        "datos28 = datos18.copy().query('DEPARTAMENTO != 12')\n",
        "datos28.head()"
      ],
      "metadata": {
        "id": "KZ_3c7Oyk8Io"
      },
      "execution_count": null,
      "outputs": []
    },
    {
      "cell_type": "code",
      "source": [
        "datos29 = datos18[~(datos18['DEPARTAMENTO'] == 12)]\n",
        "datos29.head()"
      ],
      "metadata": {
        "id": "biIEvoL6Vyxe"
      },
      "execution_count": null,
      "outputs": []
    },
    {
      "cell_type": "code",
      "source": [
        "datos27.equals(datos29)"
      ],
      "metadata": {
        "id": "gHCuHupYlAHf"
      },
      "execution_count": null,
      "outputs": []
    }
  ]
}