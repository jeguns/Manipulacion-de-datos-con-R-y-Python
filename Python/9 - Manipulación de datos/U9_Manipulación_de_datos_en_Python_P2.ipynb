{
  "nbformat": 4,
  "nbformat_minor": 0,
  "metadata": {
    "colab": {
      "provenance": [],
      "authorship_tag": "ABX9TyOKZpEjo5TAgw+Qq6oRdYPP",
      "include_colab_link": true
    },
    "kernelspec": {
      "name": "python3",
      "display_name": "Python 3"
    },
    "language_info": {
      "name": "python"
    }
  },
  "cells": [
    {
      "cell_type": "markdown",
      "metadata": {
        "id": "view-in-github",
        "colab_type": "text"
      },
      "source": [
        "<a href=\"https://colab.research.google.com/github/jeguns/Manipulacion-de-datos-con-R-y-Python/blob/main/Python/9%20-%20Manipulaci%C3%B3n%20de%20datos/U9_Manipulaci%C3%B3n_de_datos_en_Python_P2.ipynb\" target=\"_parent\"><img src=\"https://colab.research.google.com/assets/colab-badge.svg\" alt=\"Open In Colab\"/></a>"
      ]
    },
    {
      "cell_type": "markdown",
      "source": [
        "## Ejemplo inicial"
      ],
      "metadata": {
        "id": "F_kEM-gHPzzw"
      }
    },
    {
      "cell_type": "code",
      "source": [
        "import pandas as pd\n",
        "\n",
        "df1 = pd.DataFrame({'id': [1, 2, 3, 4], 'nombre': [\"Ana\", \"Beto\", \"Carlos\", \"Diana\"]})\n",
        "df2 = pd.DataFrame({'id': [3, 4, 5, 6], 'puntaje': [85, 90, 88, 92]})"
      ],
      "metadata": {
        "id": "Hv7kkbBbP743"
      },
      "execution_count": null,
      "outputs": []
    },
    {
      "cell_type": "code",
      "source": [
        "pd.merge(df1, df2, on='id', how='left')"
      ],
      "metadata": {
        "id": "0z_lV7cXXao8"
      },
      "execution_count": null,
      "outputs": []
    },
    {
      "cell_type": "code",
      "source": [
        "pd.merge(df1, df2, on='id', how='right')"
      ],
      "metadata": {
        "id": "GNwAwrJCXbda"
      },
      "execution_count": null,
      "outputs": []
    },
    {
      "cell_type": "code",
      "source": [
        "pd.merge(df1, df2, on='id', how='inner')"
      ],
      "metadata": {
        "id": "4t-ZFVsoXeSk"
      },
      "execution_count": null,
      "outputs": []
    },
    {
      "cell_type": "code",
      "source": [
        "pd.merge(df1, df2, on='id', how='outer')"
      ],
      "metadata": {
        "id": "7JJoHJYdXfiy"
      },
      "execution_count": null,
      "outputs": []
    },
    {
      "cell_type": "markdown",
      "source": [
        "## Lectura"
      ],
      "metadata": {
        "id": "gUKet1rbQE47"
      }
    },
    {
      "cell_type": "code",
      "source": [
        "import pandas as pd\n",
        "datos_A = pd.read_csv('U9 - DATOS2.csv', encoding='latin1')\n",
        "datos_B = pd.read_csv('U9 - DATOS3.csv', encoding='latin1')"
      ],
      "metadata": {
        "id": "EbtipwLpa1At"
      },
      "execution_count": null,
      "outputs": []
    },
    {
      "cell_type": "markdown",
      "source": [
        "## Repaso"
      ],
      "metadata": {
        "id": "KvpbM-TIa6TV"
      }
    },
    {
      "cell_type": "code",
      "source": [
        "datos1a = datos_A[['CONGLOME', 'VIVIENDA', 'HOGAR', 'UBIGEO', 'RESULT', 'P101', 'P104A']]\n",
        "datos1a['CODIGO'] = datos1a['CONGLOME'].astype(str) + datos1a['VIVIENDA'].astype(str) + datos1a['HOGAR'].astype(str)\n",
        "datos1a = datos1a[datos1a['UBIGEO'] == 150114]\n",
        "datos1a = datos1a.drop(columns=['CONGLOME', 'VIVIENDA', 'HOGAR', 'UBIGEO'])\n",
        "datos1a"
      ],
      "metadata": {
        "id": "qH8-Kxqua4D-"
      },
      "execution_count": null,
      "outputs": []
    },
    {
      "cell_type": "code",
      "source": [
        "datos1 = (\n",
        "    datos_A[['CONGLOME', 'VIVIENDA', 'HOGAR', 'UBIGEO', 'RESULT', 'P101', 'P104A']]\n",
        "    .copy()\n",
        "    .assign(CODIGO=lambda df: df['CONGLOME'].astype(str) + df['VIVIENDA'].astype(str) + df['HOGAR'].astype(str))\n",
        "    .query('UBIGEO == 150114')\n",
        "    .drop(columns=['CONGLOME', 'VIVIENDA', 'HOGAR', 'UBIGEO'])\n",
        ")\n",
        "datos1"
      ],
      "metadata": {
        "id": "m-mKMSyNbXJY"
      },
      "execution_count": null,
      "outputs": []
    },
    {
      "cell_type": "code",
      "source": [
        "datos1a.equals(datos1)"
      ],
      "metadata": {
        "id": "nlWpH2qkbyyD"
      },
      "execution_count": null,
      "outputs": []
    },
    {
      "cell_type": "code",
      "source": [
        "datos2 = (\n",
        "    datos_B[['CONGLOME', 'VIVIENDA', 'HOGAR', 'UBIGEO', 'P207', 'P208A']]\n",
        "    .copy()\n",
        "    .assign(codigo=lambda df: df['CONGLOME'].astype(str) + df['VIVIENDA'].astype(str) + df['HOGAR'].astype(str))\n",
        "    .query('UBIGEO == 150114')\n",
        "    .drop(columns=['CONGLOME', 'VIVIENDA', 'HOGAR', 'UBIGEO'])\n",
        ")\n",
        "datos2"
      ],
      "metadata": {
        "id": "aPAxZA9bb-jJ"
      },
      "execution_count": null,
      "outputs": []
    },
    {
      "cell_type": "markdown",
      "source": [
        "## Integración de data frames"
      ],
      "metadata": {
        "id": "OuuGCfFdcIfi"
      }
    },
    {
      "cell_type": "code",
      "source": [
        "datos3 = pd.merge(datos1, datos2, left_on='CODIGO', right_on='codigo', how='left', indicator = True)\n",
        "datos3"
      ],
      "metadata": {
        "id": "ww0wxy4YcKu7"
      },
      "execution_count": null,
      "outputs": []
    },
    {
      "cell_type": "code",
      "source": [
        "datos4 = pd.merge(datos1, datos2, left_on='CODIGO', right_on='codigo', how='right', indicator = True)\n",
        "datos4"
      ],
      "metadata": {
        "id": "ZHGiZl4fcNh7"
      },
      "execution_count": null,
      "outputs": []
    },
    {
      "cell_type": "code",
      "source": [
        "datos5 = pd.merge(datos1, datos2, left_on='CODIGO', right_on='codigo', how='inner', indicator = True)\n",
        "datos5"
      ],
      "metadata": {
        "id": "n024yHKYcQWZ"
      },
      "execution_count": null,
      "outputs": []
    },
    {
      "cell_type": "code",
      "source": [
        "datos6 = pd.merge(datos1, datos2, left_on='CODIGO', right_on='codigo', how='outer', indicator = True)\n",
        "datos6"
      ],
      "metadata": {
        "id": "F-ePP0aDcVLf"
      },
      "execution_count": null,
      "outputs": []
    },
    {
      "cell_type": "markdown",
      "source": [
        "## Ordenamiento de datos"
      ],
      "metadata": {
        "id": "aYjy30ctcz34"
      }
    },
    {
      "cell_type": "code",
      "source": [
        "datos5.sort_values(by='P208A')"
      ],
      "metadata": {
        "id": "VHaF0jTUc3Fr"
      },
      "execution_count": null,
      "outputs": []
    },
    {
      "cell_type": "code",
      "source": [
        "datos5.sort_values(by='P208A', ascending=False)"
      ],
      "metadata": {
        "id": "zKK0rE-4c4Px"
      },
      "execution_count": null,
      "outputs": []
    }
  ]
}