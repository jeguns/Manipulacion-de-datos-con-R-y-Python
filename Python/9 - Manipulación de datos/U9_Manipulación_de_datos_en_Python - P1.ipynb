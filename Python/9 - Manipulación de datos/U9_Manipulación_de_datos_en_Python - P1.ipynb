{
  "nbformat": 4,
  "nbformat_minor": 0,
  "metadata": {
    "colab": {
      "provenance": [],
      "toc_visible": true,
      "authorship_tag": "ABX9TyO6udVdvDO6wy9XSiE7JfTl",
      "include_colab_link": true
    },
    "kernelspec": {
      "name": "python3",
      "display_name": "Python 3"
    },
    "language_info": {
      "name": "python"
    }
  },
  "cells": [
    {
      "cell_type": "markdown",
      "metadata": {
        "id": "view-in-github",
        "colab_type": "text"
      },
      "source": [
        "<a href=\"https://colab.research.google.com/github/jeguns/Manipulacion-de-datos-con-R-y-Python/blob/main/Python/9%20-%20Manipulaci%C3%B3n%20de%20datos/U9_Manipulaci%C3%B3n_de_datos_en_Python.ipynb\" target=\"_parent\"><img src=\"https://colab.research.google.com/assets/colab-badge.svg\" alt=\"Open In Colab\"/></a>"
      ]
    },
    {
      "cell_type": "markdown",
      "source": [
        "## Lectura"
      ],
      "metadata": {
        "id": "F_kEM-gHPzzw"
      }
    },
    {
      "cell_type": "code",
      "source": [
        "import pandas as pd\n",
        "datos = pd.read_excel('U9 - DATOS1.xlsx')\n",
        "datos.head(10)"
      ],
      "metadata": {
        "id": "Hv7kkbBbP743"
      },
      "execution_count": null,
      "outputs": []
    },
    {
      "cell_type": "markdown",
      "source": [
        "## Selección de variables"
      ],
      "metadata": {
        "id": "gUKet1rbQE47"
      }
    },
    {
      "cell_type": "code",
      "source": [
        "datos01 = datos[['HV009', 'HV010', 'HV014', 'HV015', 'HV024', 'HV025', 'HV035', 'HV042', 'NOMCCPP', 'LONGITUDX', 'LATITUDY']]"
      ],
      "metadata": {
        "id": "xQEv-GLzQGxX"
      },
      "execution_count": null,
      "outputs": []
    },
    {
      "cell_type": "code",
      "source": [
        "datos02 = datos.iloc[:, [10, 11, 15, 16, 21, 22, 30, 33] + list(range(41, 44))]"
      ],
      "metadata": {
        "id": "wM1axVcqQWWi"
      },
      "execution_count": null,
      "outputs": []
    },
    {
      "cell_type": "code",
      "source": [
        "datos01.equals(datos02)"
      ],
      "metadata": {
        "id": "ja3QRJBXQaJC"
      },
      "execution_count": null,
      "outputs": []
    },
    {
      "cell_type": "code",
      "source": [
        "datos03 = datos.drop(columns=['ID1', 'HHID', 'HV000'])"
      ],
      "metadata": {
        "id": "H4mNjd3JQ7Lt"
      },
      "execution_count": null,
      "outputs": []
    },
    {
      "cell_type": "code",
      "source": [
        "datos04 = datos.iloc[:, 3:]"
      ],
      "metadata": {
        "id": "7aC1LhEUQ9y_"
      },
      "execution_count": null,
      "outputs": []
    },
    {
      "cell_type": "code",
      "source": [
        "datos03.equals(datos04)"
      ],
      "metadata": {
        "id": "ipxUu3pgRC8a"
      },
      "execution_count": null,
      "outputs": []
    },
    {
      "cell_type": "code",
      "source": [
        "datos05 = datos[['HV014']]"
      ],
      "metadata": {
        "id": "wUTzcUj_RT1v"
      },
      "execution_count": null,
      "outputs": []
    },
    {
      "cell_type": "code",
      "source": [
        "datos06 = datos['HV014']"
      ],
      "metadata": {
        "id": "zewIsnSKRVOG"
      },
      "execution_count": null,
      "outputs": []
    },
    {
      "cell_type": "code",
      "source": [
        "datos05.equals(datos06)"
      ],
      "metadata": {
        "id": "AzhzYpCnRWcD"
      },
      "execution_count": null,
      "outputs": []
    },
    {
      "cell_type": "markdown",
      "source": [
        "## Renombrar variables"
      ],
      "metadata": {
        "id": "dF6VVOXtRiwL"
      }
    },
    {
      "cell_type": "code",
      "source": [
        "datos01.columns"
      ],
      "metadata": {
        "id": "SH-oDuaZRkcA"
      },
      "execution_count": null,
      "outputs": []
    },
    {
      "cell_type": "code",
      "source": [
        "datos07 = datos01.copy()\n",
        "datos07.columns = ['TOTAL_HOGAR', 'TOTAL_MUJERES', 'TOTAL_NINOS', 'ENTREVISTA',\n",
        "                   'DEPARTAMENTO', 'AREA', 'NINOS_ELEG', 'HEMOG_ELEG', 'NOMCCPP',\n",
        "                   'LONGITUDX', 'LATITUDY']"
      ],
      "metadata": {
        "id": "CcX1E6kjR0GU"
      },
      "execution_count": null,
      "outputs": []
    },
    {
      "cell_type": "code",
      "source": [
        "datos08 = datos01.rename(columns={'HV009': 'TOTAL_HOGAR',\n",
        "                                  'HV010': 'TOTAL_MUJERES',\n",
        "                                  'HV014': 'TOTAL_NINOS',\n",
        "                                  'HV015': 'ENTREVISTA',\n",
        "                                  'HV024': 'DEPARTAMENTO',\n",
        "                                  'HV025': 'AREA',\n",
        "                                  'HV035': 'NINOS_ELEG',\n",
        "                                  'HV042': 'HEMOG_ELEG'})"
      ],
      "metadata": {
        "id": "goCAOYcrR4ZU"
      },
      "execution_count": null,
      "outputs": []
    },
    {
      "cell_type": "code",
      "source": [
        "datos07.equals(datos08)"
      ],
      "metadata": {
        "id": "4_EYI07TSAUq"
      },
      "execution_count": null,
      "outputs": []
    },
    {
      "cell_type": "markdown",
      "source": [
        "## Creación de variables"
      ],
      "metadata": {
        "id": "Untn6syWS7pQ"
      }
    },
    {
      "cell_type": "code",
      "source": [
        "datos09 = datos07.copy()\n",
        "datos09['TOTAL_MUJ_NIN'] = datos09['TOTAL_MUJERES'] + datos09['TOTAL_NINOS']\n",
        "datos09['TOTAL_OTROS']   = datos09['TOTAL_HOGAR'] - datos09['TOTAL_MUJ_NIN']"
      ],
      "metadata": {
        "id": "zPGdfQMBS90W"
      },
      "execution_count": null,
      "outputs": []
    },
    {
      "cell_type": "code",
      "source": [
        "import numpy as np\n",
        "datos10 = datos07.copy()\n",
        "datos10['LIMA'] = np.where(datos10['DEPARTAMENTO'] == \"LIMA\", \"SI\", \"NO\")"
      ],
      "metadata": {
        "id": "lUhB9SYJTh1c"
      },
      "execution_count": null,
      "outputs": []
    },
    {
      "cell_type": "code",
      "source": [
        "datos11 = datos07.copy()\n",
        "datos11['LIMA_CALLAO'] = np.where(datos11['DEPARTAMENTO'].isin([\"LIMA\", \"CALLAO\"]), \"SI\", \"NO\")"
      ],
      "metadata": {
        "id": "CNXaTwTyTneS"
      },
      "execution_count": null,
      "outputs": []
    },
    {
      "cell_type": "code",
      "source": [
        "datos12 = datos07.copy()\n",
        "datos12['TOTAL_MUJ_NIN'] = datos12['TOTAL_MUJERES'] + datos12['TOTAL_NINOS']\n",
        "datos12['TOTAL_OTROS']   = datos12['TOTAL_HOGAR'] - datos12['TOTAL_MUJ_NIN']\n",
        "datos12['LIMA']          = np.where(datos12['DEPARTAMENTO'] == \"LIMA\", \"SI\", \"NO\")\n",
        "datos12['LIMA_CALLAO']   = np.where(datos12['DEPARTAMENTO'].isin([\"LIMA\", \"CALLAO\"]), \"SI\", \"NO\")"
      ],
      "metadata": {
        "id": "nZRHst1BTzRh"
      },
      "execution_count": null,
      "outputs": []
    },
    {
      "cell_type": "markdown",
      "source": [
        "## Modificación de variables"
      ],
      "metadata": {
        "id": "KKHvJzBbUkl7"
      }
    },
    {
      "cell_type": "code",
      "source": [
        "datos12['AREA'].dtype"
      ],
      "metadata": {
        "id": "5frx7Np9UDCf"
      },
      "execution_count": null,
      "outputs": []
    },
    {
      "cell_type": "code",
      "source": [
        "datos12['AREA'] = np.where(datos12['AREA'] == 1, \"URBANO\", \"RURAL\")"
      ],
      "metadata": {
        "id": "DfwRU1oSUFiR"
      },
      "execution_count": null,
      "outputs": []
    },
    {
      "cell_type": "code",
      "source": [
        "datos12['AREA'].dtype"
      ],
      "metadata": {
        "id": "tre3RsM5UI9j"
      },
      "execution_count": null,
      "outputs": []
    },
    {
      "cell_type": "markdown",
      "source": [
        "## Filtros"
      ],
      "metadata": {
        "id": "6Q3f7B0AU7Mr"
      }
    },
    {
      "cell_type": "code",
      "source": [
        "datos13 = datos12[datos12['AREA'] == \"URBANO\"]\n",
        "datos13.head()"
      ],
      "metadata": {
        "id": "q09m2qm9U8V5"
      },
      "execution_count": null,
      "outputs": []
    },
    {
      "cell_type": "code",
      "source": [
        "datos14 = datos12[(datos12['AREA'] == \"URBANO\") & (datos12['DEPARTAMENTO'] == 4)]\n",
        "datos14"
      ],
      "metadata": {
        "id": "SRbW9CrRVKzW"
      },
      "execution_count": null,
      "outputs": []
    },
    {
      "cell_type": "code",
      "source": [
        "datos15 = datos12[(datos12['AREA'] == \"URBANO\") | (datos12['DEPARTAMENTO'] == 4)]\n",
        "datos15"
      ],
      "metadata": {
        "id": "gfHmZgCYVZdU"
      },
      "execution_count": null,
      "outputs": []
    },
    {
      "cell_type": "code",
      "source": [
        "datos16 = datos12[(datos12['AREA'] == \"URBANO\") & (datos12['DEPARTAMENTO'].isin([16, 17, 25]))]\n",
        "datos16"
      ],
      "metadata": {
        "id": "JZozP-zsVdxS"
      },
      "execution_count": null,
      "outputs": []
    },
    {
      "cell_type": "code",
      "source": [
        "datos17 = datos12[datos12['DEPARTAMENTO'] != 12]\n",
        "datos17"
      ],
      "metadata": {
        "id": "MDm7LsTtVkRl"
      },
      "execution_count": null,
      "outputs": []
    },
    {
      "cell_type": "code",
      "source": [
        "datos18 = datos12[~(datos12['DEPARTAMENTO'] == 12)]\n",
        "datos18.equals(datos17)"
      ],
      "metadata": {
        "id": "biIEvoL6Vyxe"
      },
      "execution_count": null,
      "outputs": []
    }
  ]
}