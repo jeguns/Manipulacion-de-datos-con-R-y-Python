{
  "nbformat": 4,
  "nbformat_minor": 0,
  "metadata": {
    "colab": {
      "provenance": [],
      "authorship_tag": "ABX9TyNXW6Cc9ld/r2rxmNzaejNa",
      "include_colab_link": true
    },
    "kernelspec": {
      "name": "python3",
      "display_name": "Python 3"
    },
    "language_info": {
      "name": "python"
    }
  },
  "cells": [
    {
      "cell_type": "markdown",
      "metadata": {
        "id": "view-in-github",
        "colab_type": "text"
      },
      "source": [
        "<a href=\"https://colab.research.google.com/github/jeguns/Manipulacion-de-datos-con-R-y-Python/blob/main/Python/7%20-%20Tipos%20y%20colecciones%20de%20datos/Tipos_y_estructuras_de_datos_en_Python.ipynb\" target=\"_parent\"><img src=\"https://colab.research.google.com/assets/colab-badge.svg\" alt=\"Open In Colab\"/></a>"
      ]
    },
    {
      "cell_type": "markdown",
      "source": [
        "# Tipos de datos estructurados"
      ],
      "metadata": {
        "id": "3xVmO0vNmSRg"
      }
    },
    {
      "cell_type": "markdown",
      "source": [
        "## Integer"
      ],
      "metadata": {
        "id": "VhixfeQqmhd_"
      }
    },
    {
      "cell_type": "code",
      "execution_count": null,
      "metadata": {
        "id": "aEVUKUhLko7b"
      },
      "outputs": [],
      "source": [
        "x = 4\n",
        "print(type(x))"
      ]
    },
    {
      "cell_type": "code",
      "source": [
        "print(isinstance(x, int))"
      ],
      "metadata": {
        "id": "McDB2cdOmaEP"
      },
      "execution_count": null,
      "outputs": []
    },
    {
      "cell_type": "code",
      "source": [
        "y = 4.0\n",
        "print(type(y))"
      ],
      "metadata": {
        "id": "S__YsXNMmbrn"
      },
      "execution_count": null,
      "outputs": []
    },
    {
      "cell_type": "code",
      "source": [
        "print(isinstance(y, int))"
      ],
      "metadata": {
        "id": "f_b0BY5omdYz"
      },
      "execution_count": null,
      "outputs": []
    },
    {
      "cell_type": "markdown",
      "source": [
        "## Float"
      ],
      "metadata": {
        "id": "dOlnOKwfminy"
      }
    },
    {
      "cell_type": "code",
      "source": [
        "y = 40.3\n",
        "type(y)"
      ],
      "metadata": {
        "id": "pQvTVAPqmjtb"
      },
      "execution_count": null,
      "outputs": []
    },
    {
      "cell_type": "code",
      "source": [
        "isinstance(y, int)"
      ],
      "metadata": {
        "id": "oBMAkxZDmtVz"
      },
      "execution_count": null,
      "outputs": []
    },
    {
      "cell_type": "code",
      "source": [
        "isinstance(y, float)"
      ],
      "metadata": {
        "id": "O9X0EH3nmsdU"
      },
      "execution_count": null,
      "outputs": []
    },
    {
      "cell_type": "markdown",
      "source": [
        "## Complex"
      ],
      "metadata": {
        "id": "cwpeLhr-mxA9"
      }
    },
    {
      "cell_type": "code",
      "source": [
        "z = 1 + 2j\n",
        "type(z)"
      ],
      "metadata": {
        "id": "cPu5O5asm_9W"
      },
      "execution_count": null,
      "outputs": []
    },
    {
      "cell_type": "code",
      "source": [
        "print(isinstance(z, int))\n",
        "print(isinstance(z, float))\n",
        "print(isinstance(z, complex))"
      ],
      "metadata": {
        "id": "gP9vODn9nDXv"
      },
      "execution_count": null,
      "outputs": []
    },
    {
      "cell_type": "code",
      "source": [
        "t = 1j\n",
        "print(type(t))\n",
        "print(isinstance(t, int))\n",
        "print(isinstance(t, float))\n",
        "print(isinstance(t, complex))"
      ],
      "metadata": {
        "id": "1_Zy0V31m-e7"
      },
      "execution_count": null,
      "outputs": []
    },
    {
      "cell_type": "code",
      "source": [
        "w = 10 + 0j\n",
        "print(type(w))\n",
        "print(isinstance(w, int))\n",
        "print(isinstance(w, float))\n",
        "print(isinstance(w, complex))"
      ],
      "metadata": {
        "id": "Zx0IvNfBnMo2"
      },
      "execution_count": null,
      "outputs": []
    },
    {
      "cell_type": "code",
      "source": [
        "v = 10\n",
        "print(type(v))\n",
        "print(isinstance(v, int))\n",
        "print(isinstance(v, float))\n",
        "print(isinstance(v, complex))"
      ],
      "metadata": {
        "id": "rdaE9J-FnNtj"
      },
      "execution_count": null,
      "outputs": []
    },
    {
      "cell_type": "markdown",
      "source": [
        "## Booleano"
      ],
      "metadata": {
        "id": "MDg1CIuvnTzv"
      }
    },
    {
      "cell_type": "code",
      "source": [
        "a = True\n",
        "print(type(a))\n",
        "print(isinstance(a, int))\n",
        "print(isinstance(a, float))\n",
        "print(isinstance(a, complex))\n",
        "print(isinstance(a, bool))"
      ],
      "metadata": {
        "id": "1vn_PJwuncsT"
      },
      "execution_count": null,
      "outputs": []
    },
    {
      "cell_type": "code",
      "source": [
        "3 == 5.2"
      ],
      "metadata": {
        "id": "prsbPYMAniXE"
      },
      "execution_count": null,
      "outputs": []
    },
    {
      "cell_type": "code",
      "source": [
        "4.6 <= 8.1"
      ],
      "metadata": {
        "id": "ZhSMTyxNnjgq"
      },
      "execution_count": null,
      "outputs": []
    },
    {
      "cell_type": "code",
      "source": [
        "12 > 3.5"
      ],
      "metadata": {
        "id": "Gd_US3ESnk2X"
      },
      "execution_count": null,
      "outputs": []
    },
    {
      "cell_type": "code",
      "source": [
        "5 != 8"
      ],
      "metadata": {
        "id": "EFd-uis0nl7f"
      },
      "execution_count": null,
      "outputs": []
    },
    {
      "cell_type": "code",
      "source": [
        "b = (4 == 5)\n",
        "b"
      ],
      "metadata": {
        "id": "fM2M2VSvnnDZ"
      },
      "execution_count": null,
      "outputs": []
    },
    {
      "cell_type": "markdown",
      "source": [
        "## String"
      ],
      "metadata": {
        "id": "8Kz8rwDInqKp"
      }
    },
    {
      "cell_type": "code",
      "source": [
        "p = 'Universidad Agraria'\n",
        "print(type(p))\n",
        "print(isinstance(p, int))\n",
        "print(isinstance(p, float))\n",
        "print(isinstance(p, complex))\n",
        "print(isinstance(p, bool))\n",
        "print(isinstance(p, str))"
      ],
      "metadata": {
        "id": "gQ0grIhynrXX"
      },
      "execution_count": null,
      "outputs": []
    },
    {
      "cell_type": "code",
      "source": [
        "q = '70096321'\n",
        "type(q)"
      ],
      "metadata": {
        "id": "wBg_P_14n4EZ"
      },
      "execution_count": null,
      "outputs": []
    },
    {
      "cell_type": "code",
      "source": [
        "s = 'R is a free software environment for statistical computing and graphics. To download R, please choose your preferred CRAN mirror.'\n",
        "type(s)"
      ],
      "metadata": {
        "id": "wy0YWk5Pn6eo"
      },
      "execution_count": null,
      "outputs": []
    },
    {
      "cell_type": "markdown",
      "source": [
        "# Colecciones de datos"
      ],
      "metadata": {
        "id": "9G50vCZ2n_Ze"
      }
    },
    {
      "cell_type": "markdown",
      "source": [
        "## Listas"
      ],
      "metadata": {
        "id": "SbylMkVEoAxY"
      }
    },
    {
      "cell_type": "markdown",
      "source": [
        "Ees una estructura de datos ordenada y mutable que permite almacenar una colección de elementos. Los elementos de una lista pueden ser de cualquier tipo de datos (enteros, cadenas, otros objetos) y no necesariamente deben ser del mismo tipo. Las listas en Python son muy flexibles y permiten agregar, modificar, eliminar y ordenar elementos fácilmente.\n",
        "\n"
      ],
      "metadata": {
        "id": "ZllX8E_cob08"
      }
    },
    {
      "cell_type": "code",
      "source": [
        "x1 = [3, 4, 5, 12, 3.4]\n",
        "type(x1)"
      ],
      "metadata": {
        "id": "jh-X56w-oEZU"
      },
      "execution_count": null,
      "outputs": []
    },
    {
      "cell_type": "code",
      "source": [
        "isinstance(x1, list)"
      ],
      "metadata": {
        "id": "odrIoSHToMkS"
      },
      "execution_count": null,
      "outputs": []
    },
    {
      "cell_type": "code",
      "source": [
        "x1[0]"
      ],
      "metadata": {
        "id": "Vba2nRwFoOlM"
      },
      "execution_count": null,
      "outputs": []
    },
    {
      "cell_type": "code",
      "source": [
        "x1[0:3]"
      ],
      "metadata": {
        "id": "a_Muwk1LoPqi"
      },
      "execution_count": null,
      "outputs": []
    },
    {
      "cell_type": "code",
      "source": [
        "x1[-1]"
      ],
      "metadata": {
        "id": "GiFAPW21okBS"
      },
      "execution_count": null,
      "outputs": []
    },
    {
      "cell_type": "code",
      "source": [
        "x1.append(10)\n",
        "x1"
      ],
      "metadata": {
        "id": "rbmarcOzolcA"
      },
      "execution_count": null,
      "outputs": []
    },
    {
      "cell_type": "code",
      "source": [
        "x1.remove(5)\n",
        "x1"
      ],
      "metadata": {
        "id": "vwexv0A-onjd"
      },
      "execution_count": null,
      "outputs": []
    },
    {
      "cell_type": "code",
      "source": [
        "len(x1)"
      ],
      "metadata": {
        "id": "nru_SuCxou70"
      },
      "execution_count": null,
      "outputs": []
    },
    {
      "cell_type": "code",
      "source": [
        "x2 = [4, 5, 6]\n",
        "x_12 = x1 + x2\n",
        "x_12"
      ],
      "metadata": {
        "id": "VvYEYnuFoxw4"
      },
      "execution_count": null,
      "outputs": []
    },
    {
      "cell_type": "code",
      "source": [
        "a1 = [4] * 3\n",
        "a1"
      ],
      "metadata": {
        "id": "oNwx_fbEpE0R"
      },
      "execution_count": null,
      "outputs": []
    },
    {
      "cell_type": "code",
      "source": [
        "a2 = list(range(1, 6))\n",
        "a2"
      ],
      "metadata": {
        "id": "-f9R3UWmpGua"
      },
      "execution_count": null,
      "outputs": []
    },
    {
      "cell_type": "code",
      "source": [
        "import numpy as np\n",
        "a3 = np.arange(1, 5.25, 0.25).tolist()\n",
        "a3"
      ],
      "metadata": {
        "id": "9paa4myEpI2-"
      },
      "execution_count": null,
      "outputs": []
    },
    {
      "cell_type": "code",
      "source": [
        "a = [9, 4, 2, 3, 4]\n",
        "a4 = a[::-1]\n",
        "a4"
      ],
      "metadata": {
        "id": "pTmE8EMHpPI8"
      },
      "execution_count": null,
      "outputs": []
    },
    {
      "cell_type": "code",
      "source": [
        "a5 = sorted(a)\n",
        "a5"
      ],
      "metadata": {
        "id": "6SWmNlffpjSh"
      },
      "execution_count": null,
      "outputs": []
    },
    {
      "cell_type": "code",
      "source": [
        "a6 = list(set(a))\n",
        "a6"
      ],
      "metadata": {
        "id": "WcWslLbWpnNT"
      },
      "execution_count": null,
      "outputs": []
    },
    {
      "cell_type": "code",
      "source": [
        "import string\n",
        "a7 = list(string.ascii_lowercase)\n",
        "a7"
      ],
      "metadata": {
        "id": "yQn5lZWKpuIX"
      },
      "execution_count": null,
      "outputs": []
    },
    {
      "cell_type": "code",
      "source": [
        "a7.index(\"a\") + 1"
      ],
      "metadata": {
        "id": "9CWFBvvcp15Y"
      },
      "execution_count": null,
      "outputs": []
    }
  ]
}