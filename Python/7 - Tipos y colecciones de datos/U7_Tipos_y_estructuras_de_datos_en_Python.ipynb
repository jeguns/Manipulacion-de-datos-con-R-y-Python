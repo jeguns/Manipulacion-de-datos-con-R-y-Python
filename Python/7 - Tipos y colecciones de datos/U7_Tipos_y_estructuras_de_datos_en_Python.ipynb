{
  "nbformat": 4,
  "nbformat_minor": 0,
  "metadata": {
    "colab": {
      "provenance": [],
      "toc_visible": true,
      "authorship_tag": "ABX9TyMTiurA1TanfvNi4QJp9Ado",
      "include_colab_link": true
    },
    "kernelspec": {
      "name": "python3",
      "display_name": "Python 3"
    },
    "language_info": {
      "name": "python"
    }
  },
  "cells": [
    {
      "cell_type": "markdown",
      "metadata": {
        "id": "view-in-github",
        "colab_type": "text"
      },
      "source": [
        "<a href=\"https://colab.research.google.com/github/jeguns/Manipulacion-de-datos-con-R-y-Python/blob/main/Python/7%20-%20Tipos%20y%20colecciones%20de%20datos/U7_Tipos_y_estructuras_de_datos_en_Python.ipynb\" target=\"_parent\"><img src=\"https://colab.research.google.com/assets/colab-badge.svg\" alt=\"Open In Colab\"/></a>"
      ]
    },
    {
      "cell_type": "markdown",
      "source": [
        "# Tipos de datos estructurados"
      ],
      "metadata": {
        "id": "3xVmO0vNmSRg"
      }
    },
    {
      "cell_type": "markdown",
      "source": [
        "## Integer"
      ],
      "metadata": {
        "id": "VhixfeQqmhd_"
      }
    },
    {
      "cell_type": "code",
      "source": [
        "x = 4\n",
        "type(x)"
      ],
      "metadata": {
        "id": "AtwzfJYA0lM1"
      },
      "execution_count": null,
      "outputs": []
    },
    {
      "cell_type": "code",
      "source": [
        "isinstance(x, int)"
      ],
      "metadata": {
        "id": "McDB2cdOmaEP"
      },
      "execution_count": null,
      "outputs": []
    },
    {
      "cell_type": "code",
      "source": [
        "y = 4\n",
        "print(type(y))\n",
        "print(type(y).__name__)\n",
        "print(isinstance(y, int))"
      ],
      "metadata": {
        "id": "sMcfJGYJ1ljx"
      },
      "execution_count": null,
      "outputs": []
    },
    {
      "cell_type": "code",
      "source": [
        "y = 4.0\n",
        "print(type(y).__name__)\n",
        "print(isinstance(y, int))"
      ],
      "metadata": {
        "id": "S__YsXNMmbrn"
      },
      "execution_count": null,
      "outputs": []
    },
    {
      "cell_type": "markdown",
      "source": [
        "## Float"
      ],
      "metadata": {
        "id": "dOlnOKwfminy"
      }
    },
    {
      "cell_type": "code",
      "source": [
        "y = 40.3\n",
        "type(y)"
      ],
      "metadata": {
        "id": "pQvTVAPqmjtb"
      },
      "execution_count": null,
      "outputs": []
    },
    {
      "cell_type": "code",
      "source": [
        "isinstance(y, int)"
      ],
      "metadata": {
        "id": "oBMAkxZDmtVz"
      },
      "execution_count": null,
      "outputs": []
    },
    {
      "cell_type": "code",
      "source": [
        "isinstance(y, float)"
      ],
      "metadata": {
        "id": "O9X0EH3nmsdU"
      },
      "execution_count": null,
      "outputs": []
    },
    {
      "cell_type": "markdown",
      "source": [
        "## Complex"
      ],
      "metadata": {
        "id": "cwpeLhr-mxA9"
      }
    },
    {
      "cell_type": "code",
      "source": [
        "z = 1 + 2j\n",
        "type(z)"
      ],
      "metadata": {
        "id": "cPu5O5asm_9W"
      },
      "execution_count": null,
      "outputs": []
    },
    {
      "cell_type": "code",
      "source": [
        "print(isinstance(z, int))\n",
        "print(isinstance(z, float))\n",
        "print(isinstance(z, complex))"
      ],
      "metadata": {
        "id": "gP9vODn9nDXv"
      },
      "execution_count": null,
      "outputs": []
    },
    {
      "cell_type": "code",
      "source": [
        "t = 1j\n",
        "print(type(t).__name__)\n",
        "print(isinstance(t, int))\n",
        "print(isinstance(t, float))\n",
        "print(isinstance(t, complex))"
      ],
      "metadata": {
        "id": "1_Zy0V31m-e7"
      },
      "execution_count": null,
      "outputs": []
    },
    {
      "cell_type": "code",
      "source": [
        "w = 10 + 0j\n",
        "print(type(w).__name__)\n",
        "print(isinstance(w, int))\n",
        "print(isinstance(w, float))\n",
        "print(isinstance(w, complex))"
      ],
      "metadata": {
        "id": "Zx0IvNfBnMo2"
      },
      "execution_count": null,
      "outputs": []
    },
    {
      "cell_type": "code",
      "source": [
        "v = 10\n",
        "print(type(v).__name__)\n",
        "print(isinstance(v, int))\n",
        "print(isinstance(v, float))\n",
        "print(isinstance(v, complex))"
      ],
      "metadata": {
        "id": "rdaE9J-FnNtj"
      },
      "execution_count": null,
      "outputs": []
    },
    {
      "cell_type": "markdown",
      "source": [
        "## Booleano"
      ],
      "metadata": {
        "id": "MDg1CIuvnTzv"
      }
    },
    {
      "cell_type": "code",
      "source": [
        "a = True\n",
        "print(type(a).__name__)\n",
        "print(isinstance(a, int))\n",
        "print(isinstance(a, float))\n",
        "print(isinstance(a, complex))\n",
        "print(isinstance(a, bool))"
      ],
      "metadata": {
        "id": "1vn_PJwuncsT"
      },
      "execution_count": null,
      "outputs": []
    },
    {
      "cell_type": "code",
      "source": [
        "3 == 5.2"
      ],
      "metadata": {
        "id": "prsbPYMAniXE"
      },
      "execution_count": null,
      "outputs": []
    },
    {
      "cell_type": "code",
      "source": [
        "4.6 <= 8.1"
      ],
      "metadata": {
        "id": "ZhSMTyxNnjgq"
      },
      "execution_count": null,
      "outputs": []
    },
    {
      "cell_type": "code",
      "source": [
        "12 > 3.5"
      ],
      "metadata": {
        "id": "Gd_US3ESnk2X"
      },
      "execution_count": null,
      "outputs": []
    },
    {
      "cell_type": "code",
      "source": [
        "5 != 8"
      ],
      "metadata": {
        "id": "EFd-uis0nl7f"
      },
      "execution_count": null,
      "outputs": []
    },
    {
      "cell_type": "code",
      "source": [
        "b = (4 == 5)\n",
        "b"
      ],
      "metadata": {
        "id": "fM2M2VSvnnDZ"
      },
      "execution_count": null,
      "outputs": []
    },
    {
      "cell_type": "markdown",
      "source": [
        "## String"
      ],
      "metadata": {
        "id": "8Kz8rwDInqKp"
      }
    },
    {
      "cell_type": "code",
      "source": [
        "p = 'Universidad Agraria'\n",
        "print(type(p).__name__)\n",
        "print(isinstance(p, int))\n",
        "print(isinstance(p, float))\n",
        "print(isinstance(p, complex))\n",
        "print(isinstance(p, bool))\n",
        "print(isinstance(p, str))"
      ],
      "metadata": {
        "id": "gQ0grIhynrXX"
      },
      "execution_count": null,
      "outputs": []
    },
    {
      "cell_type": "code",
      "source": [
        "q = '70096321'\n",
        "type(q)"
      ],
      "metadata": {
        "id": "wBg_P_14n4EZ"
      },
      "execution_count": null,
      "outputs": []
    },
    {
      "cell_type": "code",
      "source": [
        "s = 'Python is a programming language that lets you work quickly and integrate systems more effectively.'\n",
        "type(s)"
      ],
      "metadata": {
        "id": "wy0YWk5Pn6eo"
      },
      "execution_count": null,
      "outputs": []
    },
    {
      "cell_type": "markdown",
      "source": [
        "# Colecciones de datos"
      ],
      "metadata": {
        "id": "9G50vCZ2n_Ze"
      }
    },
    {
      "cell_type": "markdown",
      "source": [],
      "metadata": {
        "id": "mddqFKOQ2cNf"
      }
    },
    {
      "cell_type": "markdown",
      "source": [
        "## Listas"
      ],
      "metadata": {
        "id": "SbylMkVEoAxY"
      }
    },
    {
      "cell_type": "markdown",
      "source": [
        "Es una estructura de datos ordenada y **mutable** que permite almacenar una colección de elementos. Los elementos de una lista pueden ser de cualquier tipo de datos (enteros, cadenas, otros objetos) y no necesariamente deben ser del mismo tipo. Las listas en Python son muy flexibles y permiten agregar, modificar, eliminar y ordenar elementos fácilmente.\n",
        "\n"
      ],
      "metadata": {
        "id": "ZllX8E_cob08"
      }
    },
    {
      "cell_type": "code",
      "source": [
        "x1 = [3, 4, 5, 12, 3.4]\n",
        "x1"
      ],
      "metadata": {
        "id": "jh-X56w-oEZU"
      },
      "execution_count": null,
      "outputs": []
    },
    {
      "cell_type": "code",
      "source": [
        "type(x1)"
      ],
      "metadata": {
        "id": "Ugz7NC_56Vrv"
      },
      "execution_count": null,
      "outputs": []
    },
    {
      "cell_type": "code",
      "source": [
        "isinstance(x1, list)"
      ],
      "metadata": {
        "id": "odrIoSHToMkS"
      },
      "execution_count": null,
      "outputs": []
    },
    {
      "cell_type": "code",
      "source": [
        "x1[0]"
      ],
      "metadata": {
        "id": "Vba2nRwFoOlM"
      },
      "execution_count": null,
      "outputs": []
    },
    {
      "cell_type": "code",
      "source": [
        "x1[0:3]"
      ],
      "metadata": {
        "id": "a_Muwk1LoPqi"
      },
      "execution_count": null,
      "outputs": []
    },
    {
      "cell_type": "code",
      "source": [
        "x1[:1] + x1[2:]"
      ],
      "metadata": {
        "id": "T_vHaPdq3DGc"
      },
      "execution_count": null,
      "outputs": []
    },
    {
      "cell_type": "code",
      "source": [
        "x1"
      ],
      "metadata": {
        "id": "eBFpG6ym3UH3"
      },
      "execution_count": null,
      "outputs": []
    },
    {
      "cell_type": "code",
      "source": [
        "x1.pop(1)\n",
        "x1"
      ],
      "metadata": {
        "id": "fPM3OpKr3Gvz"
      },
      "execution_count": null,
      "outputs": []
    },
    {
      "cell_type": "code",
      "source": [
        "x1[-1]"
      ],
      "metadata": {
        "id": "GiFAPW21okBS"
      },
      "execution_count": null,
      "outputs": []
    },
    {
      "cell_type": "code",
      "source": [
        "x1[-3:]"
      ],
      "metadata": {
        "id": "kxmGg8SU3cK3"
      },
      "execution_count": null,
      "outputs": []
    },
    {
      "cell_type": "code",
      "source": [
        "x1.append(10)\n",
        "x1"
      ],
      "metadata": {
        "id": "rbmarcOzolcA"
      },
      "execution_count": null,
      "outputs": []
    },
    {
      "cell_type": "code",
      "source": [
        "x1.remove(5)\n",
        "x1"
      ],
      "metadata": {
        "id": "vwexv0A-onjd"
      },
      "execution_count": null,
      "outputs": []
    },
    {
      "cell_type": "code",
      "source": [
        "len(x1)"
      ],
      "metadata": {
        "id": "nru_SuCxou70"
      },
      "execution_count": null,
      "outputs": []
    },
    {
      "cell_type": "code",
      "source": [
        "x2 = [4, 5, 6]\n",
        "x1 + x2"
      ],
      "metadata": {
        "id": "VvYEYnuFoxw4"
      },
      "execution_count": null,
      "outputs": []
    },
    {
      "cell_type": "code",
      "source": [
        "x2 * 3"
      ],
      "metadata": {
        "id": "oNwx_fbEpE0R"
      },
      "execution_count": null,
      "outputs": []
    },
    {
      "cell_type": "code",
      "source": [
        "list(range(1, 6))"
      ],
      "metadata": {
        "id": "-f9R3UWmpGua"
      },
      "execution_count": null,
      "outputs": []
    },
    {
      "cell_type": "code",
      "source": [
        "import numpy as np\n",
        "np.arange(1, 5.25, 0.25).tolist()"
      ],
      "metadata": {
        "id": "9paa4myEpI2-"
      },
      "execution_count": null,
      "outputs": []
    },
    {
      "cell_type": "code",
      "source": [
        "x3 = [9, 4, 2, 3, 4, 6, 7, 8 ,10, 3, 2]\n",
        "x3[::-1]"
      ],
      "metadata": {
        "id": "pTmE8EMHpPI8"
      },
      "execution_count": null,
      "outputs": []
    },
    {
      "cell_type": "code",
      "source": [
        "x3[8:2:-2]"
      ],
      "metadata": {
        "id": "jFNfYnCX4fW3"
      },
      "execution_count": null,
      "outputs": []
    },
    {
      "cell_type": "code",
      "source": [
        "x3[2:8:2]"
      ],
      "metadata": {
        "id": "4aB0VIjg5B7e"
      },
      "execution_count": null,
      "outputs": []
    },
    {
      "cell_type": "code",
      "source": [
        "sorted(x3)"
      ],
      "metadata": {
        "id": "6SWmNlffpjSh"
      },
      "execution_count": null,
      "outputs": []
    },
    {
      "cell_type": "code",
      "source": [
        "import string\n",
        "x4 = list(string.ascii_lowercase)\n",
        "x4"
      ],
      "metadata": {
        "id": "yQn5lZWKpuIX"
      },
      "execution_count": null,
      "outputs": []
    },
    {
      "cell_type": "code",
      "source": [
        "x4.index(\"b\") + 1"
      ],
      "metadata": {
        "id": "9CWFBvvcp15Y"
      },
      "execution_count": null,
      "outputs": []
    },
    {
      "cell_type": "code",
      "source": [
        "x5 = [[1,2], [3,4], [5,6]]\n",
        "x5"
      ],
      "metadata": {
        "id": "30ZfLIwL82j5"
      },
      "execution_count": null,
      "outputs": []
    },
    {
      "cell_type": "code",
      "source": [
        "x5[0]"
      ],
      "metadata": {
        "id": "-uUVxXm3825L"
      },
      "execution_count": null,
      "outputs": []
    },
    {
      "cell_type": "code",
      "source": [
        "x5[0][1]"
      ],
      "metadata": {
        "id": "MYNAILmM835W"
      },
      "execution_count": null,
      "outputs": []
    },
    {
      "cell_type": "code",
      "source": [
        "a, b, c = (1, 5, 10)\n",
        "a"
      ],
      "metadata": {
        "id": "yIzcH8TJ9OER"
      },
      "execution_count": null,
      "outputs": []
    },
    {
      "cell_type": "code",
      "source": [
        "b"
      ],
      "metadata": {
        "id": "5QbLN70C9RcP"
      },
      "execution_count": null,
      "outputs": []
    },
    {
      "cell_type": "markdown",
      "source": [
        "## Tuplas"
      ],
      "metadata": {
        "id": "8fThVIMB6KjG"
      }
    },
    {
      "cell_type": "markdown",
      "source": [
        "Una tupla en Python es una colección ordenada e *inmutable* de elementos. Esto significa que, a diferencia de las listas, una tupla no puede ser modificada (no se pueden agregar, eliminar o cambiar elementos). Las tuplas son útiles cuando necesitas almacenar un conjunto de elementos que no deberían cambiar a lo largo del tiempo. Se definen usando paréntesis.\n",
        "\n"
      ],
      "metadata": {
        "id": "gKww4ZyY6ORy"
      }
    },
    {
      "cell_type": "code",
      "source": [
        "y1 = (3, 4, 5, 12, 3.4)\n",
        "y1"
      ],
      "metadata": {
        "id": "6zyFUxqm6MZn"
      },
      "execution_count": null,
      "outputs": []
    },
    {
      "cell_type": "code",
      "source": [
        "type(y1)"
      ],
      "metadata": {
        "id": "tXYS4qdj6XEM"
      },
      "execution_count": null,
      "outputs": []
    },
    {
      "cell_type": "code",
      "source": [
        "isinstance(y1, tuple)"
      ],
      "metadata": {
        "id": "7ji9DTR46ZUC"
      },
      "execution_count": null,
      "outputs": []
    },
    {
      "cell_type": "code",
      "source": [
        "y1[0]"
      ],
      "metadata": {
        "id": "6_l7FqH06bdW"
      },
      "execution_count": null,
      "outputs": []
    },
    {
      "cell_type": "code",
      "source": [
        "y1[0:3]"
      ],
      "metadata": {
        "id": "zGHnNQZ_6g3o"
      },
      "execution_count": null,
      "outputs": []
    },
    {
      "cell_type": "code",
      "source": [
        "y1[:1] + y1[2:]"
      ],
      "metadata": {
        "id": "xgICaaZn6j-E"
      },
      "execution_count": null,
      "outputs": []
    },
    {
      "cell_type": "code",
      "source": [
        "y1[-1]"
      ],
      "metadata": {
        "id": "6B86UNEX6oMu"
      },
      "execution_count": null,
      "outputs": []
    },
    {
      "cell_type": "code",
      "source": [
        "y1[-3]"
      ],
      "metadata": {
        "id": "qx90Koyu6p9J"
      },
      "execution_count": null,
      "outputs": []
    },
    {
      "cell_type": "code",
      "source": [
        "len(y1)"
      ],
      "metadata": {
        "id": "0nHRgu_88EZl"
      },
      "execution_count": null,
      "outputs": []
    },
    {
      "cell_type": "code",
      "source": [
        "y2 = (4, 5, 6)\n",
        "y1 + y2"
      ],
      "metadata": {
        "id": "NgL5YQB56rlN"
      },
      "execution_count": null,
      "outputs": []
    },
    {
      "cell_type": "code",
      "source": [
        "y2 * 3"
      ],
      "metadata": {
        "id": "LWVfT39_6u1g"
      },
      "execution_count": null,
      "outputs": []
    },
    {
      "cell_type": "code",
      "source": [
        "tuple(range(1, 6))"
      ],
      "metadata": {
        "id": "QZEqiKTJ6xh8"
      },
      "execution_count": null,
      "outputs": []
    },
    {
      "cell_type": "code",
      "source": [
        "import numpy as np\n",
        "tuple(np.arange(1, 5.25, 0.25).tolist())"
      ],
      "metadata": {
        "id": "tW8mHEsf60hL"
      },
      "execution_count": null,
      "outputs": []
    },
    {
      "cell_type": "code",
      "source": [
        "y3 = (9, 4, 2, 3, 4, 6, 7, 8, 10, 3, 2)\n",
        "y3[::-1]"
      ],
      "metadata": {
        "id": "2a1OCxS065VV"
      },
      "execution_count": null,
      "outputs": []
    },
    {
      "cell_type": "code",
      "source": [
        "y3[8:2:-2]"
      ],
      "metadata": {
        "id": "c2CFwnLX66CQ"
      },
      "execution_count": null,
      "outputs": []
    },
    {
      "cell_type": "code",
      "source": [
        "y3[2:8:2]"
      ],
      "metadata": {
        "id": "BISaPiVx6_hx"
      },
      "execution_count": null,
      "outputs": []
    },
    {
      "cell_type": "code",
      "source": [
        "tuple(sorted(x3))"
      ],
      "metadata": {
        "id": "m1Y4t3287Doq"
      },
      "execution_count": null,
      "outputs": []
    },
    {
      "cell_type": "code",
      "source": [
        "import string\n",
        "y4 = tuple(string.ascii_lowercase)\n",
        "y4"
      ],
      "metadata": {
        "id": "_myVagSc7HzG"
      },
      "execution_count": null,
      "outputs": []
    },
    {
      "cell_type": "code",
      "source": [
        "y4.index(\"b\") + 1"
      ],
      "metadata": {
        "id": "CN82K_ay7PzK"
      },
      "execution_count": null,
      "outputs": []
    },
    {
      "cell_type": "code",
      "source": [
        "y5 =  ((1, 2), (3, 4), (5, 6), [4,4,4,6])\n",
        "y5"
      ],
      "metadata": {
        "id": "Juu2Mlqt8aTX"
      },
      "execution_count": null,
      "outputs": []
    },
    {
      "cell_type": "code",
      "source": [
        "y5[0]"
      ],
      "metadata": {
        "id": "_TGBl-FY8dXz"
      },
      "execution_count": null,
      "outputs": []
    },
    {
      "cell_type": "code",
      "source": [
        "y5[0][1]"
      ],
      "metadata": {
        "id": "jS-xC3N98eTz"
      },
      "execution_count": null,
      "outputs": []
    },
    {
      "cell_type": "code",
      "source": [
        "y5[3][1]\n",
        "y5"
      ],
      "metadata": {
        "id": "2cmIGEgL9Acy"
      },
      "execution_count": null,
      "outputs": []
    },
    {
      "cell_type": "code",
      "source": [
        "y5[3][1] = 10\n",
        "y5"
      ],
      "metadata": {
        "id": "wb5pXdxW9G5I"
      },
      "execution_count": null,
      "outputs": []
    },
    {
      "cell_type": "code",
      "source": [
        "# y5[1][1] = 10"
      ],
      "metadata": {
        "id": "Es-t1P_B9JN_"
      },
      "execution_count": null,
      "outputs": []
    },
    {
      "cell_type": "code",
      "source": [
        "p, q, r = (1, 5, 10)\n",
        "p"
      ],
      "metadata": {
        "id": "51HjL4wD8h71"
      },
      "execution_count": null,
      "outputs": []
    },
    {
      "cell_type": "code",
      "source": [
        "q"
      ],
      "metadata": {
        "id": "Y87dK61T8nBg"
      },
      "execution_count": null,
      "outputs": []
    },
    {
      "cell_type": "markdown",
      "source": [
        "## Diccionarios"
      ],
      "metadata": {
        "id": "VzlbKSoF-E7D"
      }
    },
    {
      "cell_type": "markdown",
      "source": [
        "Un diccionario en Python es una estructura de datos que almacena pares clave-valor. Es similar a un \"mapa\" o \"tabla de búsqueda\" en la que puedes asociar una clave con un valor determinado. La clave actúa como un identificador único para acceder rápidamente al valor correspondiente. Los diccionarios son **mutables**, lo que significa que se pueden cambiar, agregar o eliminar elementos después de su creación. Se definen usando llaves {} y los pares clave-valor se separan por comas"
      ],
      "metadata": {
        "id": "YfYgylA_-oYy"
      }
    },
    {
      "cell_type": "code",
      "source": [
        "z1 = {\"a\": 3, \"b\": 4, \"c\": 5, \"d\": 12, \"e\": 3.4}\n",
        "z1"
      ],
      "metadata": {
        "id": "ufmGA-r1-hOi"
      },
      "execution_count": null,
      "outputs": []
    },
    {
      "cell_type": "code",
      "source": [
        "type(z1)"
      ],
      "metadata": {
        "id": "FXXHoOwO-zj8"
      },
      "execution_count": null,
      "outputs": []
    },
    {
      "cell_type": "code",
      "source": [
        "isinstance(z1, dict)"
      ],
      "metadata": {
        "id": "Q6_WcdOM-0bV"
      },
      "execution_count": null,
      "outputs": []
    },
    {
      "cell_type": "code",
      "source": [
        "z1['a'] # o z1[\"a\"]"
      ],
      "metadata": {
        "id": "I9rZfcQt-3bt"
      },
      "execution_count": null,
      "outputs": []
    },
    {
      "cell_type": "code",
      "source": [
        "for k in [\"a\", \"b\", \"c\"]:\n",
        "  print(z1[k])"
      ],
      "metadata": {
        "id": "sDGibhv9_AHD"
      },
      "execution_count": null,
      "outputs": []
    },
    {
      "cell_type": "code",
      "source": [
        "for k in z1:\n",
        "    if k != \"b\":\n",
        "        print(z1[k])"
      ],
      "metadata": {
        "id": "7ZbiE0fF_noJ"
      },
      "execution_count": null,
      "outputs": []
    },
    {
      "cell_type": "code",
      "source": [
        "z2 = {\"f\": 4, \"g\": 5, \"h\": 6}\n",
        "{**z1, **z2}"
      ],
      "metadata": {
        "id": "Cpd62Owh_hUc"
      },
      "execution_count": null,
      "outputs": []
    },
    {
      "cell_type": "markdown",
      "source": [
        "## Arrays"
      ],
      "metadata": {
        "id": "r5WVzst6AKux"
      }
    },
    {
      "cell_type": "markdown",
      "source": [
        "Colección ordenada de elementos, similar a las listas pero más eficientes para manejar grandes cantidades de datos numéricos. Comúnmente se usan a través del módulo numpy"
      ],
      "metadata": {
        "id": "jY1USPQNAMBz"
      }
    },
    {
      "cell_type": "code",
      "source": [
        "import numpy as np\n",
        "m1 = np.array([3,4,5,12,3.4])\n",
        "m1"
      ],
      "metadata": {
        "id": "D4vr5gF9AKdK"
      },
      "execution_count": null,
      "outputs": []
    },
    {
      "cell_type": "code",
      "source": [
        "type(m1)"
      ],
      "metadata": {
        "id": "OfAETSLiAUV3"
      },
      "execution_count": null,
      "outputs": []
    },
    {
      "cell_type": "code",
      "source": [
        "isinstance(m1,np.ndarray)"
      ],
      "metadata": {
        "id": "iIKnyvMwAVsV"
      },
      "execution_count": null,
      "outputs": []
    },
    {
      "cell_type": "code",
      "source": [
        "m1[0]"
      ],
      "metadata": {
        "id": "-JAPitXmAcaq"
      },
      "execution_count": null,
      "outputs": []
    },
    {
      "cell_type": "code",
      "source": [
        "m1[0:3]"
      ],
      "metadata": {
        "id": "76F08IP5Amcs"
      },
      "execution_count": null,
      "outputs": []
    },
    {
      "cell_type": "code",
      "source": [
        "np.concatenate((m1[:1], m1[2:]))"
      ],
      "metadata": {
        "id": "EtNT6tNgAodW"
      },
      "execution_count": null,
      "outputs": []
    },
    {
      "cell_type": "code",
      "source": [
        "np.delete(m1, 1)"
      ],
      "metadata": {
        "id": "_vGrpn7zArCf"
      },
      "execution_count": null,
      "outputs": []
    },
    {
      "cell_type": "code",
      "source": [
        "m1[-1]"
      ],
      "metadata": {
        "id": "1Bb_73JTAtOJ"
      },
      "execution_count": null,
      "outputs": []
    },
    {
      "cell_type": "code",
      "source": [
        "m1[-3:]"
      ],
      "metadata": {
        "id": "yccP2580At-3"
      },
      "execution_count": null,
      "outputs": []
    },
    {
      "cell_type": "code",
      "source": [
        "np.append(m1, 10)"
      ],
      "metadata": {
        "id": "jZbSZ1BRAweV"
      },
      "execution_count": null,
      "outputs": []
    },
    {
      "cell_type": "code",
      "source": [
        "len(m1)"
      ],
      "metadata": {
        "id": "KdlwT946Azd5"
      },
      "execution_count": null,
      "outputs": []
    },
    {
      "cell_type": "code",
      "source": [
        "m2 = np.array([4, 5, 6])\n",
        "np.concatenate((m1, m2))"
      ],
      "metadata": {
        "id": "B4LYsa7lA2X_"
      },
      "execution_count": null,
      "outputs": []
    },
    {
      "cell_type": "code",
      "source": [
        "np.tile(m2, 3)"
      ],
      "metadata": {
        "id": "NnZ9s28XA65W"
      },
      "execution_count": null,
      "outputs": []
    },
    {
      "cell_type": "code",
      "source": [
        "np.array(range(1, 6))"
      ],
      "metadata": {
        "id": "CfTCY-AyA8a0"
      },
      "execution_count": null,
      "outputs": []
    },
    {
      "cell_type": "code",
      "source": [
        "np.arange(1, 5.25, 0.25)"
      ],
      "metadata": {
        "id": "2-LYWAPiA-NQ"
      },
      "execution_count": null,
      "outputs": []
    },
    {
      "cell_type": "code",
      "source": [
        "m3 = np.array([9, 4, 2, 3, 4, 6, 7, 8, 10, 3, 2])\n",
        "m3[::-1]"
      ],
      "metadata": {
        "id": "k92TwQVvBAJs"
      },
      "execution_count": null,
      "outputs": []
    },
    {
      "cell_type": "code",
      "source": [
        "m3[8:2:-2]"
      ],
      "metadata": {
        "id": "p60jENeaBDYe"
      },
      "execution_count": null,
      "outputs": []
    },
    {
      "cell_type": "code",
      "source": [
        "m3[2:8:2]"
      ],
      "metadata": {
        "id": "kzlLV_KuBFEk"
      },
      "execution_count": null,
      "outputs": []
    },
    {
      "cell_type": "code",
      "source": [
        "np.sort(m3)"
      ],
      "metadata": {
        "id": "HweXTZVmBI9e"
      },
      "execution_count": null,
      "outputs": []
    },
    {
      "cell_type": "code",
      "source": [
        "m4 = np.array(list(string.ascii_lowercase))\n",
        "m4"
      ],
      "metadata": {
        "id": "D3MYHaxwBLYm"
      },
      "execution_count": null,
      "outputs": []
    },
    {
      "cell_type": "code",
      "source": [
        "np.where(m4 == \"b\")[0][0] + 1"
      ],
      "metadata": {
        "id": "K-9JSug-BNFg"
      },
      "execution_count": null,
      "outputs": []
    },
    {
      "cell_type": "code",
      "source": [
        "np.where(m4 == \"b\")"
      ],
      "metadata": {
        "id": "kA2cvsFTBPqU"
      },
      "execution_count": null,
      "outputs": []
    },
    {
      "cell_type": "code",
      "source": [
        "matriz = np.array([[1, 2, 3], [1,1,1], [7, 4, 9], [10,11,12]])\n",
        "matriz"
      ],
      "metadata": {
        "id": "uWk0PDtQDH4B"
      },
      "execution_count": null,
      "outputs": []
    },
    {
      "cell_type": "code",
      "source": [
        "matriz[1, 2]"
      ],
      "metadata": {
        "id": "uSeCh9R_DKT8"
      },
      "execution_count": null,
      "outputs": []
    },
    {
      "cell_type": "code",
      "source": [
        "matriz[0, :]"
      ],
      "metadata": {
        "id": "mNXjv9GzDM2R"
      },
      "execution_count": null,
      "outputs": []
    },
    {
      "cell_type": "code",
      "source": [
        "matriz[:,1]"
      ],
      "metadata": {
        "id": "C1ZBOuetDNWC"
      },
      "execution_count": null,
      "outputs": []
    },
    {
      "cell_type": "code",
      "source": [
        "matriz.ndim"
      ],
      "metadata": {
        "id": "55GXpDjoDXos"
      },
      "execution_count": null,
      "outputs": []
    },
    {
      "cell_type": "code",
      "source": [
        "matriz.shape"
      ],
      "metadata": {
        "id": "mbGy9349DY38"
      },
      "execution_count": null,
      "outputs": []
    },
    {
      "cell_type": "code",
      "source": [
        "matriz.size"
      ],
      "metadata": {
        "id": "8aqmtjomDZ90"
      },
      "execution_count": null,
      "outputs": []
    },
    {
      "cell_type": "markdown",
      "source": [
        "## Data Frames"
      ],
      "metadata": {
        "id": "EG6SP1R9DVD8"
      }
    },
    {
      "cell_type": "markdown",
      "source": [
        "Un DataFrame es una estructura de datos que se utiliza principalmente en pandas, una biblioteca de Python para análisis de datos. Un DataFrame es similar a una tabla en una base de datos o a una hoja de cálculo en Excel, donde los datos están organizados en filas y columnas.\n",
        "\n"
      ],
      "metadata": {
        "id": "z22JBzhgDjDY"
      }
    },
    {
      "cell_type": "code",
      "source": [
        "import pandas as pd\n",
        "\n",
        "data = {\n",
        "    'Nombre': ['Ana', 'Luis', 'María'],\n",
        "    'Edad': [21, 22, 20],\n",
        "    'Ciudad': ['Lima', 'Cusco', 'Arequipa']\n",
        "}\n",
        "\n",
        "d1 = pd.DataFrame(data)\n",
        "d1"
      ],
      "metadata": {
        "id": "z3iDX2jvDnC7"
      },
      "execution_count": null,
      "outputs": []
    }
  ]
}