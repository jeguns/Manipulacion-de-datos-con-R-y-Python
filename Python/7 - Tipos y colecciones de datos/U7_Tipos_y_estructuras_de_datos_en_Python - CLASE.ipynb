{
  "nbformat": 4,
  "nbformat_minor": 0,
  "metadata": {
    "colab": {
      "provenance": [],
      "authorship_tag": "ABX9TyPhhWcJK01J3bHPzxYVSl11",
      "include_colab_link": true
    },
    "kernelspec": {
      "name": "python3",
      "display_name": "Python 3"
    },
    "language_info": {
      "name": "python"
    }
  },
  "cells": [
    {
      "cell_type": "markdown",
      "metadata": {
        "id": "view-in-github",
        "colab_type": "text"
      },
      "source": [
        "<a href=\"https://colab.research.google.com/github/jeguns/Manipulacion-de-datos-con-R-y-Python/blob/main/Python/7%20-%20Tipos%20y%20colecciones%20de%20datos/U7_Tipos_y_estructuras_de_datos_en_Python%20-%20CLASE.ipynb\" target=\"_parent\"><img src=\"https://colab.research.google.com/assets/colab-badge.svg\" alt=\"Open In Colab\"/></a>"
      ]
    },
    {
      "cell_type": "markdown",
      "source": [
        "# Tipos de datos estructurados"
      ],
      "metadata": {
        "id": "3xVmO0vNmSRg"
      }
    },
    {
      "cell_type": "markdown",
      "source": [
        "## Integer"
      ],
      "metadata": {
        "id": "VhixfeQqmhd_"
      }
    },
    {
      "cell_type": "code",
      "source": [
        "x = 4\n",
        "type(x)"
      ],
      "metadata": {
        "id": "AtwzfJYA0lM1",
        "colab": {
          "base_uri": "https://localhost:8080/"
        },
        "outputId": "48c12b20-1044-49d1-a379-b5492a821a15"
      },
      "execution_count": 1,
      "outputs": [
        {
          "output_type": "execute_result",
          "data": {
            "text/plain": [
              "int"
            ]
          },
          "metadata": {},
          "execution_count": 1
        }
      ]
    },
    {
      "cell_type": "code",
      "source": [
        "isinstance(x, int)"
      ],
      "metadata": {
        "id": "McDB2cdOmaEP",
        "colab": {
          "base_uri": "https://localhost:8080/"
        },
        "outputId": "cd2fad6a-64ef-4b95-ba19-1c4abe2c0a69"
      },
      "execution_count": 2,
      "outputs": [
        {
          "output_type": "execute_result",
          "data": {
            "text/plain": [
              "True"
            ]
          },
          "metadata": {},
          "execution_count": 2
        }
      ]
    },
    {
      "cell_type": "code",
      "source": [
        "x = 4\n",
        "type(x)\n",
        "isinstance(x, int)"
      ],
      "metadata": {
        "colab": {
          "base_uri": "https://localhost:8080/"
        },
        "id": "82Ylcu84SkJx",
        "outputId": "5cd319db-6374-42cb-9d88-e274b6859183"
      },
      "execution_count": 3,
      "outputs": [
        {
          "output_type": "execute_result",
          "data": {
            "text/plain": [
              "True"
            ]
          },
          "metadata": {},
          "execution_count": 3
        }
      ]
    },
    {
      "cell_type": "code",
      "source": [
        "y = 4\n",
        "print(type(y)) # <class 'int'>\n",
        "print(type(y).__name__) # int\n",
        "print(isinstance(y, int)) # True"
      ],
      "metadata": {
        "id": "sMcfJGYJ1ljx",
        "colab": {
          "base_uri": "https://localhost:8080/"
        },
        "outputId": "e0f773a7-de0a-4803-9dca-32d8c7666478"
      },
      "execution_count": 4,
      "outputs": [
        {
          "output_type": "stream",
          "name": "stdout",
          "text": [
            "<class 'int'>\n",
            "int\n",
            "True\n"
          ]
        }
      ]
    },
    {
      "cell_type": "code",
      "source": [
        "y = 4.0\n",
        "print(type(y).__name__)\n",
        "print(isinstance(y, int))"
      ],
      "metadata": {
        "id": "S__YsXNMmbrn",
        "colab": {
          "base_uri": "https://localhost:8080/"
        },
        "outputId": "11652e60-c5e1-42c7-a2db-4f6b3037e088"
      },
      "execution_count": 5,
      "outputs": [
        {
          "output_type": "stream",
          "name": "stdout",
          "text": [
            "float\n",
            "False\n"
          ]
        }
      ]
    },
    {
      "cell_type": "markdown",
      "source": [
        "## Float"
      ],
      "metadata": {
        "id": "dOlnOKwfminy"
      }
    },
    {
      "cell_type": "code",
      "source": [
        "y = 40.3\n",
        "type(y)"
      ],
      "metadata": {
        "id": "pQvTVAPqmjtb",
        "colab": {
          "base_uri": "https://localhost:8080/"
        },
        "outputId": "c368641e-1567-447f-efa5-f751bdaf555b"
      },
      "execution_count": 6,
      "outputs": [
        {
          "output_type": "execute_result",
          "data": {
            "text/plain": [
              "float"
            ]
          },
          "metadata": {},
          "execution_count": 6
        }
      ]
    },
    {
      "cell_type": "code",
      "source": [
        "isinstance(y, int)"
      ],
      "metadata": {
        "id": "oBMAkxZDmtVz",
        "colab": {
          "base_uri": "https://localhost:8080/"
        },
        "outputId": "da9cc8a5-0d67-4230-c995-36a8753e9579"
      },
      "execution_count": 7,
      "outputs": [
        {
          "output_type": "execute_result",
          "data": {
            "text/plain": [
              "False"
            ]
          },
          "metadata": {},
          "execution_count": 7
        }
      ]
    },
    {
      "cell_type": "code",
      "source": [
        "isinstance(y, float)"
      ],
      "metadata": {
        "id": "O9X0EH3nmsdU",
        "colab": {
          "base_uri": "https://localhost:8080/"
        },
        "outputId": "594b79ff-9fe4-4352-a3ae-b516cbe31461"
      },
      "execution_count": 8,
      "outputs": [
        {
          "output_type": "execute_result",
          "data": {
            "text/plain": [
              "True"
            ]
          },
          "metadata": {},
          "execution_count": 8
        }
      ]
    },
    {
      "cell_type": "markdown",
      "source": [
        "## Complex"
      ],
      "metadata": {
        "id": "cwpeLhr-mxA9"
      }
    },
    {
      "cell_type": "code",
      "source": [
        "1j # número imaginario = i = raíz cuadrada de -1"
      ],
      "metadata": {
        "colab": {
          "base_uri": "https://localhost:8080/"
        },
        "id": "9ihwiCHbTxmf",
        "outputId": "6acb6fb2-409a-48a2-c416-17e26012f9d7"
      },
      "execution_count": 12,
      "outputs": [
        {
          "output_type": "execute_result",
          "data": {
            "text/plain": [
              "1j"
            ]
          },
          "metadata": {},
          "execution_count": 12
        }
      ]
    },
    {
      "cell_type": "code",
      "source": [
        "z = 1 + 2j\n",
        "type(z)"
      ],
      "metadata": {
        "id": "cPu5O5asm_9W",
        "colab": {
          "base_uri": "https://localhost:8080/"
        },
        "outputId": "64c66812-01e9-45da-cd50-cb2a1ed6857a"
      },
      "execution_count": 11,
      "outputs": [
        {
          "output_type": "execute_result",
          "data": {
            "text/plain": [
              "complex"
            ]
          },
          "metadata": {},
          "execution_count": 11
        }
      ]
    },
    {
      "cell_type": "code",
      "source": [
        "print(isinstance(z, int))\n",
        "print(isinstance(z, float))\n",
        "print(isinstance(z, complex))"
      ],
      "metadata": {
        "id": "gP9vODn9nDXv",
        "colab": {
          "base_uri": "https://localhost:8080/"
        },
        "outputId": "bc6f2759-7e7f-4cce-e6c6-bb324f614afa"
      },
      "execution_count": 13,
      "outputs": [
        {
          "output_type": "stream",
          "name": "stdout",
          "text": [
            "False\n",
            "False\n",
            "True\n"
          ]
        }
      ]
    },
    {
      "cell_type": "code",
      "source": [
        "t = 1j\n",
        "print(type(t).__name__)\n",
        "print(isinstance(t, int))\n",
        "print(isinstance(t, float))\n",
        "print(isinstance(t, complex))"
      ],
      "metadata": {
        "id": "1_Zy0V31m-e7",
        "colab": {
          "base_uri": "https://localhost:8080/"
        },
        "outputId": "daf7119b-f881-4687-95a3-24c2f9f1310a"
      },
      "execution_count": 14,
      "outputs": [
        {
          "output_type": "stream",
          "name": "stdout",
          "text": [
            "complex\n",
            "False\n",
            "False\n",
            "True\n"
          ]
        }
      ]
    },
    {
      "cell_type": "code",
      "source": [
        "w = 10 + 0j\n",
        "print(type(w).__name__)\n",
        "print(isinstance(w, int))\n",
        "print(isinstance(w, float))\n",
        "print(isinstance(w, complex))"
      ],
      "metadata": {
        "id": "Zx0IvNfBnMo2",
        "colab": {
          "base_uri": "https://localhost:8080/"
        },
        "outputId": "a5d7177a-3c53-46ec-ad30-e8fa284c271e"
      },
      "execution_count": 15,
      "outputs": [
        {
          "output_type": "stream",
          "name": "stdout",
          "text": [
            "complex\n",
            "False\n",
            "False\n",
            "True\n"
          ]
        }
      ]
    },
    {
      "cell_type": "code",
      "source": [
        "v = 10\n",
        "print(type(v).__name__)\n",
        "print(isinstance(v, int))\n",
        "print(isinstance(v, float))\n",
        "print(isinstance(v, complex))"
      ],
      "metadata": {
        "id": "rdaE9J-FnNtj",
        "colab": {
          "base_uri": "https://localhost:8080/"
        },
        "outputId": "865f3608-d856-467c-8607-117c948b9dc8"
      },
      "execution_count": 16,
      "outputs": [
        {
          "output_type": "stream",
          "name": "stdout",
          "text": [
            "int\n",
            "True\n",
            "False\n",
            "False\n"
          ]
        }
      ]
    },
    {
      "cell_type": "markdown",
      "source": [
        "## Booleano"
      ],
      "metadata": {
        "id": "MDg1CIuvnTzv"
      }
    },
    {
      "cell_type": "code",
      "source": [
        "a = True\n",
        "print(type(a).__name__)\n",
        "print(isinstance(a, int)) # True = 1\n",
        "print(isinstance(a, float))\n",
        "print(isinstance(a, complex))\n",
        "print(isinstance(a, bool))"
      ],
      "metadata": {
        "id": "1vn_PJwuncsT",
        "colab": {
          "base_uri": "https://localhost:8080/"
        },
        "outputId": "f4c178bd-768c-4614-c081-801bf1917303"
      },
      "execution_count": 27,
      "outputs": [
        {
          "output_type": "stream",
          "name": "stdout",
          "text": [
            "bool\n",
            "True\n",
            "False\n",
            "False\n",
            "True\n"
          ]
        }
      ]
    },
    {
      "cell_type": "code",
      "source": [
        "True + 2 # True = 1"
      ],
      "metadata": {
        "colab": {
          "base_uri": "https://localhost:8080/"
        },
        "id": "p_rikc3FWhUj",
        "outputId": "e9d007ba-22f1-4e1c-902a-e46d67dde508"
      },
      "execution_count": 20,
      "outputs": [
        {
          "output_type": "execute_result",
          "data": {
            "text/plain": [
              "3"
            ]
          },
          "metadata": {},
          "execution_count": 20
        }
      ]
    },
    {
      "cell_type": "code",
      "source": [
        "3 == 5.2 # ¿3 = 5.2?"
      ],
      "metadata": {
        "id": "prsbPYMAniXE",
        "colab": {
          "base_uri": "https://localhost:8080/"
        },
        "outputId": "c2989505-aeb0-468f-d58d-9f3751d57f06"
      },
      "execution_count": 21,
      "outputs": [
        {
          "output_type": "execute_result",
          "data": {
            "text/plain": [
              "False"
            ]
          },
          "metadata": {},
          "execution_count": 21
        }
      ]
    },
    {
      "cell_type": "code",
      "source": [
        "4.6 <= 8.1"
      ],
      "metadata": {
        "id": "ZhSMTyxNnjgq",
        "colab": {
          "base_uri": "https://localhost:8080/"
        },
        "outputId": "3868d1fe-fdd6-4ff4-ae4c-2eb689ef9d32"
      },
      "execution_count": 22,
      "outputs": [
        {
          "output_type": "execute_result",
          "data": {
            "text/plain": [
              "True"
            ]
          },
          "metadata": {},
          "execution_count": 22
        }
      ]
    },
    {
      "cell_type": "code",
      "source": [
        "12 > 3.5"
      ],
      "metadata": {
        "id": "Gd_US3ESnk2X",
        "colab": {
          "base_uri": "https://localhost:8080/"
        },
        "outputId": "a74b9254-e074-4b08-86cf-b74c9c5c3acd"
      },
      "execution_count": 23,
      "outputs": [
        {
          "output_type": "execute_result",
          "data": {
            "text/plain": [
              "True"
            ]
          },
          "metadata": {},
          "execution_count": 23
        }
      ]
    },
    {
      "cell_type": "code",
      "source": [
        "5 != 8 # != : Distinto"
      ],
      "metadata": {
        "id": "EFd-uis0nl7f",
        "colab": {
          "base_uri": "https://localhost:8080/"
        },
        "outputId": "71caddec-1d40-4ebc-abfe-7a15ace144cb"
      },
      "execution_count": 24,
      "outputs": [
        {
          "output_type": "execute_result",
          "data": {
            "text/plain": [
              "True"
            ]
          },
          "metadata": {},
          "execution_count": 24
        }
      ]
    },
    {
      "cell_type": "code",
      "source": [
        "b <- (4 == 5)\n",
        "b"
      ],
      "metadata": {
        "id": "fM2M2VSvnnDZ",
        "colab": {
          "base_uri": "https://localhost:8080/"
        },
        "outputId": "86a70f8e-0911-4d58-b78a-f48f8499cdba"
      },
      "execution_count": 28,
      "outputs": [
        {
          "output_type": "execute_result",
          "data": {
            "text/plain": [
              "False"
            ]
          },
          "metadata": {},
          "execution_count": 28
        }
      ]
    },
    {
      "cell_type": "markdown",
      "source": [
        "## String"
      ],
      "metadata": {
        "id": "8Kz8rwDInqKp"
      }
    },
    {
      "cell_type": "code",
      "source": [
        "p = \"Universidad Agraria\"\n",
        "print(type(p).__name__)\n",
        "print(isinstance(p, int))\n",
        "print(isinstance(p, float))\n",
        "print(isinstance(p, complex))\n",
        "print(isinstance(p, bool))\n",
        "print(isinstance(p, str))"
      ],
      "metadata": {
        "id": "gQ0grIhynrXX",
        "colab": {
          "base_uri": "https://localhost:8080/"
        },
        "outputId": "f90017d2-8812-4297-96d4-47013275bf1e"
      },
      "execution_count": 35,
      "outputs": [
        {
          "output_type": "stream",
          "name": "stdout",
          "text": [
            "str\n",
            "False\n",
            "False\n",
            "False\n",
            "False\n",
            "True\n"
          ]
        }
      ]
    },
    {
      "cell_type": "code",
      "source": [
        "q = '70096321'\n",
        "type(q)"
      ],
      "metadata": {
        "id": "wBg_P_14n4EZ",
        "colab": {
          "base_uri": "https://localhost:8080/"
        },
        "outputId": "eb683b07-5b44-4fa1-c255-56511422f7d7"
      },
      "execution_count": 36,
      "outputs": [
        {
          "output_type": "execute_result",
          "data": {
            "text/plain": [
              "str"
            ]
          },
          "metadata": {},
          "execution_count": 36
        }
      ]
    },
    {
      "cell_type": "code",
      "source": [
        "s = 'Python is a programming language that lets you work quickly and integrate systems more effectively.'\n",
        "type(s)"
      ],
      "metadata": {
        "id": "wy0YWk5Pn6eo",
        "colab": {
          "base_uri": "https://localhost:8080/"
        },
        "outputId": "5eb02543-dd9d-4ab0-9717-db30d0b4d43a"
      },
      "execution_count": 37,
      "outputs": [
        {
          "output_type": "execute_result",
          "data": {
            "text/plain": [
              "str"
            ]
          },
          "metadata": {},
          "execution_count": 37
        }
      ]
    },
    {
      "cell_type": "markdown",
      "source": [
        "# Colecciones de datos"
      ],
      "metadata": {
        "id": "9G50vCZ2n_Ze"
      }
    },
    {
      "cell_type": "markdown",
      "source": [
        "## Listas"
      ],
      "metadata": {
        "id": "SbylMkVEoAxY"
      }
    },
    {
      "cell_type": "markdown",
      "source": [
        "Es una estructura de datos ordenada y **mutable** que permite almacenar una colección de elementos. Los elementos de una lista pueden ser de cualquier tipo de datos (enteros, cadenas, otros objetos) y no necesariamente deben ser del mismo tipo. Las listas en Python son muy flexibles y permiten agregar, modificar, eliminar y ordenar elementos fácilmente.\n",
        "\n"
      ],
      "metadata": {
        "id": "ZllX8E_cob08"
      }
    },
    {
      "cell_type": "code",
      "source": [
        "x1 = [3, 4, 5, 12, 3.4]\n",
        "x1"
      ],
      "metadata": {
        "id": "jh-X56w-oEZU",
        "colab": {
          "base_uri": "https://localhost:8080/"
        },
        "outputId": "103468e1-2174-42b8-cf4c-ffd72d89c689"
      },
      "execution_count": 41,
      "outputs": [
        {
          "output_type": "execute_result",
          "data": {
            "text/plain": [
              "[3, 4, 5, 12, 3.4]"
            ]
          },
          "metadata": {},
          "execution_count": 41
        }
      ]
    },
    {
      "cell_type": "code",
      "source": [
        "type(x1)"
      ],
      "metadata": {
        "id": "Ugz7NC_56Vrv",
        "colab": {
          "base_uri": "https://localhost:8080/"
        },
        "outputId": "82b58f01-f841-4d97-8d90-1ce718b6b373"
      },
      "execution_count": 42,
      "outputs": [
        {
          "output_type": "execute_result",
          "data": {
            "text/plain": [
              "list"
            ]
          },
          "metadata": {},
          "execution_count": 42
        }
      ]
    },
    {
      "cell_type": "code",
      "source": [
        "isinstance(x1, list)"
      ],
      "metadata": {
        "id": "odrIoSHToMkS",
        "colab": {
          "base_uri": "https://localhost:8080/"
        },
        "outputId": "8fcb2a16-0982-42b5-8cb5-5c554b99c537"
      },
      "execution_count": 43,
      "outputs": [
        {
          "output_type": "execute_result",
          "data": {
            "text/plain": [
              "True"
            ]
          },
          "metadata": {},
          "execution_count": 43
        }
      ]
    },
    {
      "cell_type": "code",
      "source": [
        "x1[0]"
      ],
      "metadata": {
        "id": "Vba2nRwFoOlM",
        "colab": {
          "base_uri": "https://localhost:8080/"
        },
        "outputId": "dad27f8d-8055-4e3e-cb98-da2afd161148"
      },
      "execution_count": 44,
      "outputs": [
        {
          "output_type": "execute_result",
          "data": {
            "text/plain": [
              "3"
            ]
          },
          "metadata": {},
          "execution_count": 44
        }
      ]
    },
    {
      "cell_type": "code",
      "source": [
        "x1[0:3]"
      ],
      "metadata": {
        "id": "a_Muwk1LoPqi",
        "colab": {
          "base_uri": "https://localhost:8080/"
        },
        "outputId": "dde43022-2efa-47fc-cb94-c723e584dbfa"
      },
      "execution_count": 45,
      "outputs": [
        {
          "output_type": "execute_result",
          "data": {
            "text/plain": [
              "[3, 4, 5]"
            ]
          },
          "metadata": {},
          "execution_count": 45
        }
      ]
    },
    {
      "cell_type": "code",
      "source": [
        "x1[2:] # Extrae los datos desde la posición 2"
      ],
      "metadata": {
        "colab": {
          "base_uri": "https://localhost:8080/"
        },
        "id": "gyDMx704b000",
        "outputId": "58aa7647-5c38-4f62-a03a-32717f31e1a9"
      },
      "execution_count": 49,
      "outputs": [
        {
          "output_type": "execute_result",
          "data": {
            "text/plain": [
              "[5, 12, 3.4]"
            ]
          },
          "metadata": {},
          "execution_count": 49
        }
      ]
    },
    {
      "cell_type": "code",
      "source": [
        "x1[:2] # Extrae los datos hasta antes de la posición 2 (pos 1)"
      ],
      "metadata": {
        "colab": {
          "base_uri": "https://localhost:8080/"
        },
        "id": "4BikeuI5cbjF",
        "outputId": "bbcfe6bc-72d8-43d6-d2b5-0f6698f0c918"
      },
      "execution_count": 50,
      "outputs": [
        {
          "output_type": "execute_result",
          "data": {
            "text/plain": [
              "[3, 4]"
            ]
          },
          "metadata": {},
          "execution_count": 50
        }
      ]
    },
    {
      "cell_type": "code",
      "source": [
        "x1[:1] + x1[2:]"
      ],
      "metadata": {
        "id": "T_vHaPdq3DGc",
        "colab": {
          "base_uri": "https://localhost:8080/"
        },
        "outputId": "e398fa03-282e-478f-f07e-2c34043e914c"
      },
      "execution_count": 46,
      "outputs": [
        {
          "output_type": "execute_result",
          "data": {
            "text/plain": [
              "[3, 5, 12, 3.4]"
            ]
          },
          "metadata": {},
          "execution_count": 46
        }
      ]
    },
    {
      "cell_type": "code",
      "source": [
        "x1"
      ],
      "metadata": {
        "id": "eBFpG6ym3UH3",
        "colab": {
          "base_uri": "https://localhost:8080/"
        },
        "outputId": "9a16ac46-1a30-45c8-c276-8a6c8aed7e3e"
      },
      "execution_count": 55,
      "outputs": [
        {
          "output_type": "execute_result",
          "data": {
            "text/plain": [
              "[3, 4, 5, 12, 3.4]"
            ]
          },
          "metadata": {},
          "execution_count": 55
        }
      ]
    },
    {
      "cell_type": "code",
      "source": [
        "x1.pop(1)\n",
        "x1"
      ],
      "metadata": {
        "id": "fPM3OpKr3Gvz",
        "colab": {
          "base_uri": "https://localhost:8080/"
        },
        "outputId": "8549c0d8-f3b2-4f1b-d4cf-1eda486cd1b8"
      },
      "execution_count": 56,
      "outputs": [
        {
          "output_type": "execute_result",
          "data": {
            "text/plain": [
              "[3, 5, 12, 3.4]"
            ]
          },
          "metadata": {},
          "execution_count": 56
        }
      ]
    },
    {
      "cell_type": "code",
      "source": [
        "x1[-1]"
      ],
      "metadata": {
        "id": "GiFAPW21okBS",
        "colab": {
          "base_uri": "https://localhost:8080/"
        },
        "outputId": "ea478b05-6c25-42ea-df28-3dd9e3815248"
      },
      "execution_count": 57,
      "outputs": [
        {
          "output_type": "execute_result",
          "data": {
            "text/plain": [
              "3.4"
            ]
          },
          "metadata": {},
          "execution_count": 57
        }
      ]
    },
    {
      "cell_type": "code",
      "source": [
        "x1[-3]"
      ],
      "metadata": {
        "colab": {
          "base_uri": "https://localhost:8080/"
        },
        "id": "2LiOnKoLfQ8X",
        "outputId": "d7373e98-d700-48d8-afb0-d16be42548c2"
      },
      "execution_count": 59,
      "outputs": [
        {
          "output_type": "execute_result",
          "data": {
            "text/plain": [
              "5"
            ]
          },
          "metadata": {},
          "execution_count": 59
        }
      ]
    },
    {
      "cell_type": "code",
      "source": [
        "x1[-3:]"
      ],
      "metadata": {
        "id": "kxmGg8SU3cK3",
        "colab": {
          "base_uri": "https://localhost:8080/"
        },
        "outputId": "6249bd72-06fb-4307-ee15-bb6110a0a56d"
      },
      "execution_count": 60,
      "outputs": [
        {
          "output_type": "execute_result",
          "data": {
            "text/plain": [
              "[5, 12, 3.4]"
            ]
          },
          "metadata": {},
          "execution_count": 60
        }
      ]
    },
    {
      "cell_type": "code",
      "source": [
        "x1.append(10)\n",
        "x1"
      ],
      "metadata": {
        "id": "rbmarcOzolcA",
        "colab": {
          "base_uri": "https://localhost:8080/"
        },
        "outputId": "a3976660-95b2-49cc-d1c7-0a87c67fda7a"
      },
      "execution_count": 66,
      "outputs": [
        {
          "output_type": "execute_result",
          "data": {
            "text/plain": [
              "[3, 5, 12, 3.4, 10, 10, 10]"
            ]
          },
          "metadata": {},
          "execution_count": 66
        }
      ]
    },
    {
      "cell_type": "code",
      "source": [
        "x1.remove(5)\n",
        "x1"
      ],
      "metadata": {
        "id": "vwexv0A-onjd",
        "colab": {
          "base_uri": "https://localhost:8080/"
        },
        "outputId": "d0d1d9e5-e230-4c62-c3d0-d43173671a49"
      },
      "execution_count": 67,
      "outputs": [
        {
          "output_type": "execute_result",
          "data": {
            "text/plain": [
              "[3, 12, 3.4, 10, 10, 10]"
            ]
          },
          "metadata": {},
          "execution_count": 67
        }
      ]
    },
    {
      "cell_type": "code",
      "source": [
        "x1.remove(10)\n",
        "x1"
      ],
      "metadata": {
        "colab": {
          "base_uri": "https://localhost:8080/"
        },
        "id": "hDtfDmHugX2k",
        "outputId": "6e531bde-5bac-4719-dc63-b6e6cbcc80de"
      },
      "execution_count": 68,
      "outputs": [
        {
          "output_type": "execute_result",
          "data": {
            "text/plain": [
              "[3, 12, 3.4, 10, 10]"
            ]
          },
          "metadata": {},
          "execution_count": 68
        }
      ]
    },
    {
      "cell_type": "code",
      "source": [
        "len(x1)"
      ],
      "metadata": {
        "id": "nru_SuCxou70",
        "colab": {
          "base_uri": "https://localhost:8080/"
        },
        "outputId": "8a858d4a-7387-439f-fb85-7edc7d230e2a"
      },
      "execution_count": 69,
      "outputs": [
        {
          "output_type": "execute_result",
          "data": {
            "text/plain": [
              "5"
            ]
          },
          "metadata": {},
          "execution_count": 69
        }
      ]
    },
    {
      "cell_type": "code",
      "source": [
        "x2 = [4, 5, 6]\n",
        "x1 + x2"
      ],
      "metadata": {
        "id": "VvYEYnuFoxw4",
        "colab": {
          "base_uri": "https://localhost:8080/"
        },
        "outputId": "d2583a0e-d008-4519-a1c3-c6697a755e76"
      },
      "execution_count": 70,
      "outputs": [
        {
          "output_type": "execute_result",
          "data": {
            "text/plain": [
              "[3, 12, 3.4, 10, 10, 4, 5, 6]"
            ]
          },
          "metadata": {},
          "execution_count": 70
        }
      ]
    },
    {
      "cell_type": "code",
      "source": [
        "x2 * 3"
      ],
      "metadata": {
        "id": "oNwx_fbEpE0R",
        "colab": {
          "base_uri": "https://localhost:8080/"
        },
        "outputId": "4776c711-fbfa-4c50-ea23-ef0e3e888835"
      },
      "execution_count": 71,
      "outputs": [
        {
          "output_type": "execute_result",
          "data": {
            "text/plain": [
              "[4, 5, 6, 4, 5, 6, 4, 5, 6]"
            ]
          },
          "metadata": {},
          "execution_count": 71
        }
      ]
    },
    {
      "cell_type": "code",
      "source": [
        "list(range(1, 6))"
      ],
      "metadata": {
        "id": "-f9R3UWmpGua",
        "colab": {
          "base_uri": "https://localhost:8080/"
        },
        "outputId": "986094b3-4036-4123-cd2d-ff66ae59da8e"
      },
      "execution_count": 72,
      "outputs": [
        {
          "output_type": "execute_result",
          "data": {
            "text/plain": [
              "[1, 2, 3, 4, 5]"
            ]
          },
          "metadata": {},
          "execution_count": 72
        }
      ]
    },
    {
      "cell_type": "code",
      "source": [
        "import numpy\n",
        "numpy.arange(1, 5.25, 0.25).tolist()"
      ],
      "metadata": {
        "id": "9paa4myEpI2-",
        "colab": {
          "base_uri": "https://localhost:8080/"
        },
        "outputId": "d4e30eb9-b618-4501-9152-4c2f2b8bbc08"
      },
      "execution_count": 73,
      "outputs": [
        {
          "output_type": "execute_result",
          "data": {
            "text/plain": [
              "[1.0,\n",
              " 1.25,\n",
              " 1.5,\n",
              " 1.75,\n",
              " 2.0,\n",
              " 2.25,\n",
              " 2.5,\n",
              " 2.75,\n",
              " 3.0,\n",
              " 3.25,\n",
              " 3.5,\n",
              " 3.75,\n",
              " 4.0,\n",
              " 4.25,\n",
              " 4.5,\n",
              " 4.75,\n",
              " 5.0]"
            ]
          },
          "metadata": {},
          "execution_count": 73
        }
      ]
    },
    {
      "cell_type": "code",
      "source": [
        "import numpy as np\n",
        "np.arange(1, 5.25, 0.25).tolist()"
      ],
      "metadata": {
        "colab": {
          "base_uri": "https://localhost:8080/"
        },
        "id": "xc1ztN7_iRTV",
        "outputId": "df208d6f-e889-412f-fadc-b9407347e941"
      },
      "execution_count": 74,
      "outputs": [
        {
          "output_type": "execute_result",
          "data": {
            "text/plain": [
              "[1.0,\n",
              " 1.25,\n",
              " 1.5,\n",
              " 1.75,\n",
              " 2.0,\n",
              " 2.25,\n",
              " 2.5,\n",
              " 2.75,\n",
              " 3.0,\n",
              " 3.25,\n",
              " 3.5,\n",
              " 3.75,\n",
              " 4.0,\n",
              " 4.25,\n",
              " 4.5,\n",
              " 4.75,\n",
              " 5.0]"
            ]
          },
          "metadata": {},
          "execution_count": 74
        }
      ]
    },
    {
      "cell_type": "code",
      "source": [
        "x3 = [9, 4, 2, 3, 4, 6, 7, 8 ,10, 3, 2]\n",
        "x3[::-1]"
      ],
      "metadata": {
        "id": "pTmE8EMHpPI8",
        "colab": {
          "base_uri": "https://localhost:8080/"
        },
        "outputId": "74890826-c731-4973-cd37-f7685d5844f3"
      },
      "execution_count": 75,
      "outputs": [
        {
          "output_type": "execute_result",
          "data": {
            "text/plain": [
              "[2, 3, 10, 8, 7, 6, 4, 3, 2, 4, 9]"
            ]
          },
          "metadata": {},
          "execution_count": 75
        }
      ]
    },
    {
      "cell_type": "code",
      "source": [
        "x3[8:2:-2]"
      ],
      "metadata": {
        "id": "jFNfYnCX4fW3",
        "colab": {
          "base_uri": "https://localhost:8080/"
        },
        "outputId": "890505ee-009e-4a0c-e9a1-b982f27b10d7"
      },
      "execution_count": 76,
      "outputs": [
        {
          "output_type": "execute_result",
          "data": {
            "text/plain": [
              "[10, 7, 4]"
            ]
          },
          "metadata": {},
          "execution_count": 76
        }
      ]
    },
    {
      "cell_type": "code",
      "source": [
        "x3[2:8:2]"
      ],
      "metadata": {
        "id": "4aB0VIjg5B7e",
        "colab": {
          "base_uri": "https://localhost:8080/"
        },
        "outputId": "3a841ecf-c305-4471-9a38-ac91b7218a9f"
      },
      "execution_count": 77,
      "outputs": [
        {
          "output_type": "execute_result",
          "data": {
            "text/plain": [
              "[2, 4, 7]"
            ]
          },
          "metadata": {},
          "execution_count": 77
        }
      ]
    },
    {
      "cell_type": "code",
      "source": [
        "sorted(x3)"
      ],
      "metadata": {
        "id": "6SWmNlffpjSh",
        "colab": {
          "base_uri": "https://localhost:8080/"
        },
        "outputId": "59d0d4ba-44a0-4923-802e-82630e141987"
      },
      "execution_count": 78,
      "outputs": [
        {
          "output_type": "execute_result",
          "data": {
            "text/plain": [
              "[2, 2, 3, 3, 4, 4, 6, 7, 8, 9, 10]"
            ]
          },
          "metadata": {},
          "execution_count": 78
        }
      ]
    },
    {
      "cell_type": "code",
      "source": [
        "sorted(x3, reverse = True)"
      ],
      "metadata": {
        "colab": {
          "base_uri": "https://localhost:8080/"
        },
        "id": "YpeeIivSkOJS",
        "outputId": "121d0c62-2bcf-4050-f5d7-1358a06b4d8e"
      },
      "execution_count": 79,
      "outputs": [
        {
          "output_type": "execute_result",
          "data": {
            "text/plain": [
              "[10, 9, 8, 7, 6, 4, 4, 3, 3, 2, 2]"
            ]
          },
          "metadata": {},
          "execution_count": 79
        }
      ]
    },
    {
      "cell_type": "code",
      "source": [
        "import string\n",
        "x4 = list(string.ascii_lowercase)\n",
        "x4"
      ],
      "metadata": {
        "id": "yQn5lZWKpuIX",
        "colab": {
          "base_uri": "https://localhost:8080/"
        },
        "outputId": "3369a02c-c6f5-4813-dd38-983728a3377f"
      },
      "execution_count": 81,
      "outputs": [
        {
          "output_type": "execute_result",
          "data": {
            "text/plain": [
              "['a',\n",
              " 'b',\n",
              " 'c',\n",
              " 'd',\n",
              " 'e',\n",
              " 'f',\n",
              " 'g',\n",
              " 'h',\n",
              " 'i',\n",
              " 'j',\n",
              " 'k',\n",
              " 'l',\n",
              " 'm',\n",
              " 'n',\n",
              " 'o',\n",
              " 'p',\n",
              " 'q',\n",
              " 'r',\n",
              " 's',\n",
              " 't',\n",
              " 'u',\n",
              " 'v',\n",
              " 'w',\n",
              " 'x',\n",
              " 'y',\n",
              " 'z']"
            ]
          },
          "metadata": {},
          "execution_count": 81
        }
      ]
    },
    {
      "cell_type": "code",
      "source": [
        "x4.index(\"b\") + 1"
      ],
      "metadata": {
        "id": "9CWFBvvcp15Y",
        "colab": {
          "base_uri": "https://localhost:8080/"
        },
        "outputId": "e7cf9f67-6dc6-4ea3-94bc-cfc067b0faf2"
      },
      "execution_count": 85,
      "outputs": [
        {
          "output_type": "execute_result",
          "data": {
            "text/plain": [
              "2"
            ]
          },
          "metadata": {},
          "execution_count": 85
        }
      ]
    },
    {
      "cell_type": "code",
      "source": [
        "x5 = [[1,2], [3,4], [5,6,7,8,9,11,15,14,18,18,20]]\n",
        "x5"
      ],
      "metadata": {
        "id": "30ZfLIwL82j5",
        "colab": {
          "base_uri": "https://localhost:8080/"
        },
        "outputId": "068263ad-a2db-42df-cb81-46be03bdca40"
      },
      "execution_count": 86,
      "outputs": [
        {
          "output_type": "execute_result",
          "data": {
            "text/plain": [
              "[[1, 2], [3, 4], [5, 6, 7, 8, 9, 11, 15, 14, 18, 18, 20]]"
            ]
          },
          "metadata": {},
          "execution_count": 86
        }
      ]
    },
    {
      "cell_type": "code",
      "source": [
        "x5[0]"
      ],
      "metadata": {
        "id": "-uUVxXm3825L",
        "colab": {
          "base_uri": "https://localhost:8080/"
        },
        "outputId": "7551a12a-8dca-489d-aae6-9bc88c440c0a"
      },
      "execution_count": 87,
      "outputs": [
        {
          "output_type": "execute_result",
          "data": {
            "text/plain": [
              "[1, 2]"
            ]
          },
          "metadata": {},
          "execution_count": 87
        }
      ]
    },
    {
      "cell_type": "code",
      "source": [
        "x5[0][1]"
      ],
      "metadata": {
        "id": "MYNAILmM835W",
        "colab": {
          "base_uri": "https://localhost:8080/"
        },
        "outputId": "f3d23efd-b0a8-41fd-cdfd-d6c92502b8c8"
      },
      "execution_count": 88,
      "outputs": [
        {
          "output_type": "execute_result",
          "data": {
            "text/plain": [
              "2"
            ]
          },
          "metadata": {},
          "execution_count": 88
        }
      ]
    },
    {
      "cell_type": "code",
      "source": [
        "x5[2][0:3]"
      ],
      "metadata": {
        "colab": {
          "base_uri": "https://localhost:8080/"
        },
        "id": "rkhnyOmrlYP-",
        "outputId": "bf62ff73-9f10-4b55-80ca-6cd2343ddefc"
      },
      "execution_count": 92,
      "outputs": [
        {
          "output_type": "execute_result",
          "data": {
            "text/plain": [
              "[5, 6, 7]"
            ]
          },
          "metadata": {},
          "execution_count": 92
        }
      ]
    },
    {
      "cell_type": "code",
      "source": [
        "a, b, c = [1, 5, 10]\n",
        "a"
      ],
      "metadata": {
        "id": "yIzcH8TJ9OER",
        "colab": {
          "base_uri": "https://localhost:8080/"
        },
        "outputId": "abfa1f23-0879-4fcb-bc54-4a473bd76e1b"
      },
      "execution_count": 93,
      "outputs": [
        {
          "output_type": "execute_result",
          "data": {
            "text/plain": [
              "1"
            ]
          },
          "metadata": {},
          "execution_count": 93
        }
      ]
    },
    {
      "cell_type": "code",
      "source": [
        "b"
      ],
      "metadata": {
        "id": "5QbLN70C9RcP",
        "colab": {
          "base_uri": "https://localhost:8080/"
        },
        "outputId": "57abe707-019e-46b6-9693-140719c880a5"
      },
      "execution_count": 94,
      "outputs": [
        {
          "output_type": "execute_result",
          "data": {
            "text/plain": [
              "5"
            ]
          },
          "metadata": {},
          "execution_count": 94
        }
      ]
    },
    {
      "cell_type": "markdown",
      "source": [
        "## Tuplas"
      ],
      "metadata": {
        "id": "8fThVIMB6KjG"
      }
    },
    {
      "cell_type": "markdown",
      "source": [
        "Una tupla en Python es una colección ordenada e *inmutable* de elementos. Esto significa que, a diferencia de las listas, una tupla no puede ser modificada (no se pueden agregar, eliminar o cambiar elementos). Las tuplas son útiles cuando necesitas almacenar un conjunto de elementos que no deberían cambiar a lo largo del tiempo. Se definen usando paréntesis.\n",
        "\n"
      ],
      "metadata": {
        "id": "gKww4ZyY6ORy"
      }
    },
    {
      "cell_type": "code",
      "source": [
        "y0 = 3, 4, 5, 12, 3.4\n",
        "y0"
      ],
      "metadata": {
        "colab": {
          "base_uri": "https://localhost:8080/"
        },
        "id": "UXJi6Mw2rr6R",
        "outputId": "72aefd2c-7803-4953-cfe4-2d5ed119d85d"
      },
      "execution_count": 95,
      "outputs": [
        {
          "output_type": "execute_result",
          "data": {
            "text/plain": [
              "(3, 4, 5, 12, 3.4)"
            ]
          },
          "metadata": {},
          "execution_count": 95
        }
      ]
    },
    {
      "cell_type": "code",
      "source": [
        "y1 = (3, 4, 5, 12, 3.4)\n",
        "y1"
      ],
      "metadata": {
        "id": "6zyFUxqm6MZn",
        "colab": {
          "base_uri": "https://localhost:8080/"
        },
        "outputId": "02e618d9-58da-4b37-f4a1-f6f187e5165b"
      },
      "execution_count": 96,
      "outputs": [
        {
          "output_type": "execute_result",
          "data": {
            "text/plain": [
              "(3, 4, 5, 12, 3.4)"
            ]
          },
          "metadata": {},
          "execution_count": 96
        }
      ]
    },
    {
      "cell_type": "code",
      "source": [
        "type(y1)"
      ],
      "metadata": {
        "id": "tXYS4qdj6XEM",
        "colab": {
          "base_uri": "https://localhost:8080/"
        },
        "outputId": "10b180f1-7006-4108-fd9d-54d72436903f"
      },
      "execution_count": 97,
      "outputs": [
        {
          "output_type": "execute_result",
          "data": {
            "text/plain": [
              "tuple"
            ]
          },
          "metadata": {},
          "execution_count": 97
        }
      ]
    },
    {
      "cell_type": "code",
      "source": [
        "isinstance(y1, tuple)"
      ],
      "metadata": {
        "id": "7ji9DTR46ZUC",
        "colab": {
          "base_uri": "https://localhost:8080/"
        },
        "outputId": "4a7f0f7d-88ce-410e-a476-e9fbd72e4484"
      },
      "execution_count": 98,
      "outputs": [
        {
          "output_type": "execute_result",
          "data": {
            "text/plain": [
              "True"
            ]
          },
          "metadata": {},
          "execution_count": 98
        }
      ]
    },
    {
      "cell_type": "code",
      "source": [
        "y1[0]"
      ],
      "metadata": {
        "id": "6_l7FqH06bdW",
        "colab": {
          "base_uri": "https://localhost:8080/"
        },
        "outputId": "6684d321-7fb2-42b8-b27e-c064ac8847de"
      },
      "execution_count": 99,
      "outputs": [
        {
          "output_type": "execute_result",
          "data": {
            "text/plain": [
              "3"
            ]
          },
          "metadata": {},
          "execution_count": 99
        }
      ]
    },
    {
      "cell_type": "code",
      "source": [
        "y1[0:3]"
      ],
      "metadata": {
        "id": "zGHnNQZ_6g3o",
        "colab": {
          "base_uri": "https://localhost:8080/"
        },
        "outputId": "6051217a-6114-4501-89e5-23e708b660f1"
      },
      "execution_count": 100,
      "outputs": [
        {
          "output_type": "execute_result",
          "data": {
            "text/plain": [
              "(3, 4, 5)"
            ]
          },
          "metadata": {},
          "execution_count": 100
        }
      ]
    },
    {
      "cell_type": "code",
      "source": [
        "y1[2:]"
      ],
      "metadata": {
        "colab": {
          "base_uri": "https://localhost:8080/"
        },
        "id": "YEYB4JwOsXKM",
        "outputId": "e54e91bf-3538-4d7b-ec3b-e64f65c2c0d7"
      },
      "execution_count": 101,
      "outputs": [
        {
          "output_type": "execute_result",
          "data": {
            "text/plain": [
              "(5, 12, 3.4)"
            ]
          },
          "metadata": {},
          "execution_count": 101
        }
      ]
    },
    {
      "cell_type": "code",
      "source": [
        "y1[:2]"
      ],
      "metadata": {
        "colab": {
          "base_uri": "https://localhost:8080/"
        },
        "id": "vjQi6iIVsdKK",
        "outputId": "d1adbf73-2553-4ebd-b585-3eceaa646ade"
      },
      "execution_count": 102,
      "outputs": [
        {
          "output_type": "execute_result",
          "data": {
            "text/plain": [
              "(3, 4)"
            ]
          },
          "metadata": {},
          "execution_count": 102
        }
      ]
    },
    {
      "cell_type": "code",
      "source": [
        "y1[:1] + y1[2:]"
      ],
      "metadata": {
        "id": "xgICaaZn6j-E",
        "colab": {
          "base_uri": "https://localhost:8080/"
        },
        "outputId": "6cc3e844-4d86-427d-9cf2-f8632df6cd82"
      },
      "execution_count": 103,
      "outputs": [
        {
          "output_type": "execute_result",
          "data": {
            "text/plain": [
              "(3, 5, 12, 3.4)"
            ]
          },
          "metadata": {},
          "execution_count": 103
        }
      ]
    },
    {
      "cell_type": "code",
      "source": [
        "y1[-1]"
      ],
      "metadata": {
        "id": "6B86UNEX6oMu",
        "colab": {
          "base_uri": "https://localhost:8080/"
        },
        "outputId": "b88422d5-3cd7-49e8-da21-46bc15503ca3"
      },
      "execution_count": 104,
      "outputs": [
        {
          "output_type": "execute_result",
          "data": {
            "text/plain": [
              "3.4"
            ]
          },
          "metadata": {},
          "execution_count": 104
        }
      ]
    },
    {
      "cell_type": "code",
      "source": [
        "y1[-3]"
      ],
      "metadata": {
        "id": "qx90Koyu6p9J",
        "colab": {
          "base_uri": "https://localhost:8080/"
        },
        "outputId": "06be0146-7b65-4c4d-bc7e-13ae4a17f40d"
      },
      "execution_count": 105,
      "outputs": [
        {
          "output_type": "execute_result",
          "data": {
            "text/plain": [
              "5"
            ]
          },
          "metadata": {},
          "execution_count": 105
        }
      ]
    },
    {
      "cell_type": "code",
      "source": [
        "y1[-3:]"
      ],
      "metadata": {
        "colab": {
          "base_uri": "https://localhost:8080/"
        },
        "id": "XpaZqDWltNph",
        "outputId": "545b21d1-915d-4d70-9793-f2d07263b13e"
      },
      "execution_count": 106,
      "outputs": [
        {
          "output_type": "execute_result",
          "data": {
            "text/plain": [
              "(5, 12, 3.4)"
            ]
          },
          "metadata": {},
          "execution_count": 106
        }
      ]
    },
    {
      "cell_type": "code",
      "source": [
        "y1"
      ],
      "metadata": {
        "colab": {
          "base_uri": "https://localhost:8080/"
        },
        "id": "f6r4-TJ-tcAE",
        "outputId": "84fdefb6-8088-4bb4-f33e-1c044125f5f7"
      },
      "execution_count": 108,
      "outputs": [
        {
          "output_type": "execute_result",
          "data": {
            "text/plain": [
              "(3, 4, 5, 12, 3.4)"
            ]
          },
          "metadata": {},
          "execution_count": 108
        }
      ]
    },
    {
      "cell_type": "code",
      "source": [
        "len(y1)"
      ],
      "metadata": {
        "id": "0nHRgu_88EZl",
        "colab": {
          "base_uri": "https://localhost:8080/"
        },
        "outputId": "15e98561-c573-4a87-f0cc-d6356f218d6d"
      },
      "execution_count": 107,
      "outputs": [
        {
          "output_type": "execute_result",
          "data": {
            "text/plain": [
              "5"
            ]
          },
          "metadata": {},
          "execution_count": 107
        }
      ]
    },
    {
      "cell_type": "code",
      "source": [
        "y2 = (4, 5, 6)\n",
        "y1 + y2"
      ],
      "metadata": {
        "id": "NgL5YQB56rlN",
        "colab": {
          "base_uri": "https://localhost:8080/"
        },
        "outputId": "6b41bbab-264f-4dac-84f3-5d8f2cbbf473"
      },
      "execution_count": 109,
      "outputs": [
        {
          "output_type": "execute_result",
          "data": {
            "text/plain": [
              "(3, 4, 5, 12, 3.4, 4, 5, 6)"
            ]
          },
          "metadata": {},
          "execution_count": 109
        }
      ]
    },
    {
      "cell_type": "code",
      "source": [
        "y2 * 3"
      ],
      "metadata": {
        "id": "LWVfT39_6u1g",
        "colab": {
          "base_uri": "https://localhost:8080/"
        },
        "outputId": "7cc1834a-af7b-49e7-b67a-5751fe956800"
      },
      "execution_count": 110,
      "outputs": [
        {
          "output_type": "execute_result",
          "data": {
            "text/plain": [
              "(4, 5, 6, 4, 5, 6, 4, 5, 6)"
            ]
          },
          "metadata": {},
          "execution_count": 110
        }
      ]
    },
    {
      "cell_type": "code",
      "source": [
        "tuple(range(1, 6))"
      ],
      "metadata": {
        "id": "QZEqiKTJ6xh8",
        "colab": {
          "base_uri": "https://localhost:8080/"
        },
        "outputId": "df77eed1-716a-4195-ceaf-66f811f8d6db"
      },
      "execution_count": 111,
      "outputs": [
        {
          "output_type": "execute_result",
          "data": {
            "text/plain": [
              "(1, 2, 3, 4, 5)"
            ]
          },
          "metadata": {},
          "execution_count": 111
        }
      ]
    },
    {
      "cell_type": "code",
      "source": [
        "import numpy as np\n",
        "tuple(np.arange(1, 5.25, 0.25).tolist())"
      ],
      "metadata": {
        "id": "tW8mHEsf60hL",
        "colab": {
          "base_uri": "https://localhost:8080/"
        },
        "outputId": "ddcee39f-5a5a-4b55-ead4-1f7bd7f9f06d"
      },
      "execution_count": 112,
      "outputs": [
        {
          "output_type": "execute_result",
          "data": {
            "text/plain": [
              "(1.0,\n",
              " 1.25,\n",
              " 1.5,\n",
              " 1.75,\n",
              " 2.0,\n",
              " 2.25,\n",
              " 2.5,\n",
              " 2.75,\n",
              " 3.0,\n",
              " 3.25,\n",
              " 3.5,\n",
              " 3.75,\n",
              " 4.0,\n",
              " 4.25,\n",
              " 4.5,\n",
              " 4.75,\n",
              " 5.0)"
            ]
          },
          "metadata": {},
          "execution_count": 112
        }
      ]
    },
    {
      "cell_type": "code",
      "source": [
        "y3 = (9, 4, 2, 3, 4, 6, 7, 8, 10, 3, 2)\n",
        "y3[::-1]"
      ],
      "metadata": {
        "id": "2a1OCxS065VV",
        "colab": {
          "base_uri": "https://localhost:8080/"
        },
        "outputId": "1a09fcc4-7d92-4c87-ba84-dff8a5040462"
      },
      "execution_count": 113,
      "outputs": [
        {
          "output_type": "execute_result",
          "data": {
            "text/plain": [
              "(2, 3, 10, 8, 7, 6, 4, 3, 2, 4, 9)"
            ]
          },
          "metadata": {},
          "execution_count": 113
        }
      ]
    },
    {
      "cell_type": "code",
      "source": [
        "y3[8:2:-2]"
      ],
      "metadata": {
        "id": "c2CFwnLX66CQ",
        "colab": {
          "base_uri": "https://localhost:8080/"
        },
        "outputId": "a63bbd10-ba5f-45e6-85c2-6b00adb198c4"
      },
      "execution_count": 114,
      "outputs": [
        {
          "output_type": "execute_result",
          "data": {
            "text/plain": [
              "(10, 7, 4)"
            ]
          },
          "metadata": {},
          "execution_count": 114
        }
      ]
    },
    {
      "cell_type": "code",
      "source": [
        "y3[2:8:2]"
      ],
      "metadata": {
        "id": "BISaPiVx6_hx",
        "colab": {
          "base_uri": "https://localhost:8080/"
        },
        "outputId": "c3e91ac3-48d0-42fd-d7ce-147a2c5e02a3"
      },
      "execution_count": 115,
      "outputs": [
        {
          "output_type": "execute_result",
          "data": {
            "text/plain": [
              "(2, 4, 7)"
            ]
          },
          "metadata": {},
          "execution_count": 115
        }
      ]
    },
    {
      "cell_type": "code",
      "source": [
        "tuple(sorted(x3))"
      ],
      "metadata": {
        "id": "m1Y4t3287Doq",
        "colab": {
          "base_uri": "https://localhost:8080/"
        },
        "outputId": "dd8090ea-4aba-4bff-e62a-9e62e5ba0c47"
      },
      "execution_count": 116,
      "outputs": [
        {
          "output_type": "execute_result",
          "data": {
            "text/plain": [
              "(2, 2, 3, 3, 4, 4, 6, 7, 8, 9, 10)"
            ]
          },
          "metadata": {},
          "execution_count": 116
        }
      ]
    },
    {
      "cell_type": "code",
      "source": [
        "tuple(sorted(x3, reverse = True))"
      ],
      "metadata": {
        "colab": {
          "base_uri": "https://localhost:8080/"
        },
        "id": "kXTtvuTruifo",
        "outputId": "7add7690-4e13-494c-b6fe-46a4062a696d"
      },
      "execution_count": 117,
      "outputs": [
        {
          "output_type": "execute_result",
          "data": {
            "text/plain": [
              "(10, 9, 8, 7, 6, 4, 4, 3, 3, 2, 2)"
            ]
          },
          "metadata": {},
          "execution_count": 117
        }
      ]
    },
    {
      "cell_type": "code",
      "source": [
        "y4 = tuple(string.ascii_lowercase)\n",
        "y4"
      ],
      "metadata": {
        "id": "_myVagSc7HzG",
        "colab": {
          "base_uri": "https://localhost:8080/"
        },
        "outputId": "efd2918f-1b70-48bc-c520-e57c9b78b9e7"
      },
      "execution_count": 118,
      "outputs": [
        {
          "output_type": "execute_result",
          "data": {
            "text/plain": [
              "('a',\n",
              " 'b',\n",
              " 'c',\n",
              " 'd',\n",
              " 'e',\n",
              " 'f',\n",
              " 'g',\n",
              " 'h',\n",
              " 'i',\n",
              " 'j',\n",
              " 'k',\n",
              " 'l',\n",
              " 'm',\n",
              " 'n',\n",
              " 'o',\n",
              " 'p',\n",
              " 'q',\n",
              " 'r',\n",
              " 's',\n",
              " 't',\n",
              " 'u',\n",
              " 'v',\n",
              " 'w',\n",
              " 'x',\n",
              " 'y',\n",
              " 'z')"
            ]
          },
          "metadata": {},
          "execution_count": 118
        }
      ]
    },
    {
      "cell_type": "code",
      "source": [
        "y4.index(\"b\") + 1"
      ],
      "metadata": {
        "id": "CN82K_ay7PzK",
        "colab": {
          "base_uri": "https://localhost:8080/"
        },
        "outputId": "e0d17b0c-6cd5-4673-8627-963ac525d999"
      },
      "execution_count": 121,
      "outputs": [
        {
          "output_type": "execute_result",
          "data": {
            "text/plain": [
              "2"
            ]
          },
          "metadata": {},
          "execution_count": 121
        }
      ]
    },
    {
      "cell_type": "code",
      "source": [
        "y5 =  ((1, 2), (3, 4), (5, 6), [4,4,4,6])\n",
        "y5"
      ],
      "metadata": {
        "id": "Juu2Mlqt8aTX",
        "colab": {
          "base_uri": "https://localhost:8080/"
        },
        "outputId": "7e22ef68-f8c8-4cad-d6ea-7f7b28d8b7ce"
      },
      "execution_count": 122,
      "outputs": [
        {
          "output_type": "execute_result",
          "data": {
            "text/plain": [
              "((1, 2), (3, 4), (5, 6), [4, 4, 4, 6])"
            ]
          },
          "metadata": {},
          "execution_count": 122
        }
      ]
    },
    {
      "cell_type": "code",
      "source": [
        "y5[0]"
      ],
      "metadata": {
        "id": "_TGBl-FY8dXz",
        "colab": {
          "base_uri": "https://localhost:8080/"
        },
        "outputId": "27724302-e01c-432b-877c-6b63ba59ce47"
      },
      "execution_count": 123,
      "outputs": [
        {
          "output_type": "execute_result",
          "data": {
            "text/plain": [
              "(1, 2)"
            ]
          },
          "metadata": {},
          "execution_count": 123
        }
      ]
    },
    {
      "cell_type": "code",
      "source": [
        "y5[0][1]"
      ],
      "metadata": {
        "id": "jS-xC3N98eTz",
        "colab": {
          "base_uri": "https://localhost:8080/"
        },
        "outputId": "d873f690-d022-4dd6-a022-4d4221b2ed90"
      },
      "execution_count": 124,
      "outputs": [
        {
          "output_type": "execute_result",
          "data": {
            "text/plain": [
              "2"
            ]
          },
          "metadata": {},
          "execution_count": 124
        }
      ]
    },
    {
      "cell_type": "code",
      "source": [
        "y5[3][1]"
      ],
      "metadata": {
        "id": "2cmIGEgL9Acy",
        "colab": {
          "base_uri": "https://localhost:8080/"
        },
        "outputId": "cd63c8f8-a15e-4ab4-8faf-bd2e87f82a60"
      },
      "execution_count": 126,
      "outputs": [
        {
          "output_type": "execute_result",
          "data": {
            "text/plain": [
              "4"
            ]
          },
          "metadata": {},
          "execution_count": 126
        }
      ]
    },
    {
      "cell_type": "code",
      "source": [
        "y5[3][1] = 10 # sí se puede modificar un dato dentro de una lista\n",
        "y5"
      ],
      "metadata": {
        "id": "wb5pXdxW9G5I",
        "colab": {
          "base_uri": "https://localhost:8080/"
        },
        "outputId": "7ff93d6c-8313-4908-836a-986268808bf8"
      },
      "execution_count": 127,
      "outputs": [
        {
          "output_type": "execute_result",
          "data": {
            "text/plain": [
              "((1, 2), (3, 4), (5, 6), [4, 10, 4, 6])"
            ]
          },
          "metadata": {},
          "execution_count": 127
        }
      ]
    },
    {
      "cell_type": "code",
      "source": [
        "y5[1][1] = 10 # no se puede modificar un dato dentro de una tupla"
      ],
      "metadata": {
        "id": "Es-t1P_B9JN_",
        "colab": {
          "base_uri": "https://localhost:8080/",
          "height": 141
        },
        "outputId": "d9778d75-021f-44a2-fe4d-da37b707dcbd"
      },
      "execution_count": 128,
      "outputs": [
        {
          "output_type": "error",
          "ename": "TypeError",
          "evalue": "'tuple' object does not support item assignment",
          "traceback": [
            "\u001b[0;31m---------------------------------------------------------------------------\u001b[0m",
            "\u001b[0;31mTypeError\u001b[0m                                 Traceback (most recent call last)",
            "\u001b[0;32m<ipython-input-128-d0e6df9a5e12>\u001b[0m in \u001b[0;36m<cell line: 1>\u001b[0;34m()\u001b[0m\n\u001b[0;32m----> 1\u001b[0;31m \u001b[0my5\u001b[0m\u001b[0;34m[\u001b[0m\u001b[0;36m1\u001b[0m\u001b[0;34m]\u001b[0m\u001b[0;34m[\u001b[0m\u001b[0;36m1\u001b[0m\u001b[0;34m]\u001b[0m \u001b[0;34m=\u001b[0m \u001b[0;36m10\u001b[0m\u001b[0;34m\u001b[0m\u001b[0;34m\u001b[0m\u001b[0m\n\u001b[0m",
            "\u001b[0;31mTypeError\u001b[0m: 'tuple' object does not support item assignment"
          ]
        }
      ]
    },
    {
      "cell_type": "code",
      "source": [
        "p, q, r = (1, 5, 10)\n",
        "p"
      ],
      "metadata": {
        "id": "51HjL4wD8h71",
        "colab": {
          "base_uri": "https://localhost:8080/"
        },
        "outputId": "e6194a36-7419-4084-e32b-7eeb5b1d21df"
      },
      "execution_count": 129,
      "outputs": [
        {
          "output_type": "execute_result",
          "data": {
            "text/plain": [
              "1"
            ]
          },
          "metadata": {},
          "execution_count": 129
        }
      ]
    },
    {
      "cell_type": "code",
      "source": [
        "q"
      ],
      "metadata": {
        "id": "Y87dK61T8nBg",
        "colab": {
          "base_uri": "https://localhost:8080/"
        },
        "outputId": "f769ee9d-30c4-473e-99be-db4c7438e88d"
      },
      "execution_count": 130,
      "outputs": [
        {
          "output_type": "execute_result",
          "data": {
            "text/plain": [
              "5"
            ]
          },
          "metadata": {},
          "execution_count": 130
        }
      ]
    },
    {
      "cell_type": "markdown",
      "source": [
        "## Diccionarios"
      ],
      "metadata": {
        "id": "VzlbKSoF-E7D"
      }
    },
    {
      "cell_type": "markdown",
      "source": [
        "Un diccionario en Python es una estructura de datos que almacena pares clave-valor. Es similar a un \"mapa\" o \"tabla de búsqueda\" en la que puedes asociar una clave con un valor determinado. La clave actúa como un identificador único para acceder rápidamente al valor correspondiente. Los diccionarios son **mutables**, lo que significa que se pueden cambiar, agregar o eliminar elementos después de su creación. Se definen usando llaves {} y los pares clave-valor se separan por comas"
      ],
      "metadata": {
        "id": "YfYgylA_-oYy"
      }
    },
    {
      "cell_type": "code",
      "source": [
        "z1 = {\"a\": 3, \"b\": 4, \"c\": 5, \"d\": 12, \"e\": 3.4}\n",
        "z1"
      ],
      "metadata": {
        "id": "ufmGA-r1-hOi",
        "colab": {
          "base_uri": "https://localhost:8080/"
        },
        "outputId": "240abd86-b33e-4e2d-d749-20cc87937db5"
      },
      "execution_count": 132,
      "outputs": [
        {
          "output_type": "execute_result",
          "data": {
            "text/plain": [
              "{'a': 3, 'b': 4, 'c': 5, 'd': 12, 'e': 3.4}"
            ]
          },
          "metadata": {},
          "execution_count": 132
        }
      ]
    },
    {
      "cell_type": "code",
      "source": [
        "type(z1)"
      ],
      "metadata": {
        "id": "FXXHoOwO-zj8",
        "colab": {
          "base_uri": "https://localhost:8080/"
        },
        "outputId": "9351c8a8-1076-40a7-e521-8b1801216b34"
      },
      "execution_count": 133,
      "outputs": [
        {
          "output_type": "execute_result",
          "data": {
            "text/plain": [
              "dict"
            ]
          },
          "metadata": {},
          "execution_count": 133
        }
      ]
    },
    {
      "cell_type": "code",
      "source": [
        "isinstance(z1, dict)"
      ],
      "metadata": {
        "id": "Q6_WcdOM-0bV",
        "colab": {
          "base_uri": "https://localhost:8080/"
        },
        "outputId": "3d13dec6-cdb3-4fa1-d06d-332a6ef43146"
      },
      "execution_count": 134,
      "outputs": [
        {
          "output_type": "execute_result",
          "data": {
            "text/plain": [
              "True"
            ]
          },
          "metadata": {},
          "execution_count": 134
        }
      ]
    },
    {
      "cell_type": "code",
      "source": [
        "z1[0] # los elementos de un diccionario no se acceden por posición, sino por clave"
      ],
      "metadata": {
        "colab": {
          "base_uri": "https://localhost:8080/",
          "height": 141
        },
        "id": "F3QFdeXWyGAU",
        "outputId": "fb061d34-58a1-4ece-80b1-06db5d67a339"
      },
      "execution_count": 135,
      "outputs": [
        {
          "output_type": "error",
          "ename": "KeyError",
          "evalue": "0",
          "traceback": [
            "\u001b[0;31m---------------------------------------------------------------------------\u001b[0m",
            "\u001b[0;31mKeyError\u001b[0m                                  Traceback (most recent call last)",
            "\u001b[0;32m<ipython-input-135-b9d251876941>\u001b[0m in \u001b[0;36m<cell line: 1>\u001b[0;34m()\u001b[0m\n\u001b[0;32m----> 1\u001b[0;31m \u001b[0mz1\u001b[0m\u001b[0;34m[\u001b[0m\u001b[0;36m0\u001b[0m\u001b[0;34m]\u001b[0m\u001b[0;34m\u001b[0m\u001b[0;34m\u001b[0m\u001b[0m\n\u001b[0m",
            "\u001b[0;31mKeyError\u001b[0m: 0"
          ]
        }
      ]
    },
    {
      "cell_type": "code",
      "source": [
        "z1['a'] # o z1[\"a\"]"
      ],
      "metadata": {
        "id": "I9rZfcQt-3bt",
        "colab": {
          "base_uri": "https://localhost:8080/"
        },
        "outputId": "d300d658-8e66-4737-8493-563fd5d15bba"
      },
      "execution_count": 136,
      "outputs": [
        {
          "output_type": "execute_result",
          "data": {
            "text/plain": [
              "3"
            ]
          },
          "metadata": {},
          "execution_count": 136
        }
      ]
    },
    {
      "cell_type": "code",
      "source": [
        "for k in [\"a\", \"b\", \"c\"]:\n",
        "  print(z1[k])"
      ],
      "metadata": {
        "id": "sDGibhv9_AHD",
        "colab": {
          "base_uri": "https://localhost:8080/"
        },
        "outputId": "ac6334a0-a06e-492d-ff23-e1cdecf5cf0b"
      },
      "execution_count": 137,
      "outputs": [
        {
          "output_type": "stream",
          "name": "stdout",
          "text": [
            "3\n",
            "4\n",
            "5\n"
          ]
        }
      ]
    },
    {
      "cell_type": "code",
      "source": [
        "for k in z1:\n",
        "    if k != \"b\":\n",
        "        print(z1[k])"
      ],
      "metadata": {
        "id": "7ZbiE0fF_noJ",
        "colab": {
          "base_uri": "https://localhost:8080/"
        },
        "outputId": "b0c51c14-f65e-4715-c981-4ed774ffc6ac"
      },
      "execution_count": 138,
      "outputs": [
        {
          "output_type": "stream",
          "name": "stdout",
          "text": [
            "3\n",
            "5\n",
            "12\n",
            "3.4\n"
          ]
        }
      ]
    },
    {
      "cell_type": "code",
      "source": [
        "z2 = {\"f\": 4, \"g\": 5, \"h\": 6}\n",
        "{**z1, **z2}"
      ],
      "metadata": {
        "id": "Cpd62Owh_hUc",
        "colab": {
          "base_uri": "https://localhost:8080/"
        },
        "outputId": "baf59c40-fba3-408b-d154-c394bbfbb750"
      },
      "execution_count": 140,
      "outputs": [
        {
          "output_type": "execute_result",
          "data": {
            "text/plain": [
              "{'a': 3, 'b': 4, 'c': 5, 'd': 12, 'e': 3.4, 'f': 4, 'g': 5, 'h': 6}"
            ]
          },
          "metadata": {},
          "execution_count": 140
        }
      ]
    },
    {
      "cell_type": "markdown",
      "source": [
        "## Arrays"
      ],
      "metadata": {
        "id": "r5WVzst6AKux"
      }
    },
    {
      "cell_type": "markdown",
      "source": [
        "Colección ordenada de elementos, similar a las listas pero más eficientes para manejar grandes cantidades de datos numéricos. Comúnmente se usan a través del módulo numpy"
      ],
      "metadata": {
        "id": "jY1USPQNAMBz"
      }
    },
    {
      "cell_type": "code",
      "source": [
        "import numpy as np\n",
        "m1 = np.array([3,4,5,12,3.4])\n",
        "m1"
      ],
      "metadata": {
        "id": "D4vr5gF9AKdK",
        "colab": {
          "base_uri": "https://localhost:8080/"
        },
        "outputId": "ee8257ec-2a6c-47dc-80d4-658726b1ac10"
      },
      "execution_count": 143,
      "outputs": [
        {
          "output_type": "execute_result",
          "data": {
            "text/plain": [
              "array([ 3. ,  4. ,  5. , 12. ,  3.4])"
            ]
          },
          "metadata": {},
          "execution_count": 143
        }
      ]
    },
    {
      "cell_type": "code",
      "source": [
        "type(m1)"
      ],
      "metadata": {
        "id": "OfAETSLiAUV3",
        "colab": {
          "base_uri": "https://localhost:8080/"
        },
        "outputId": "134a0b03-3a79-4c87-f746-af90dec4bb8e"
      },
      "execution_count": 144,
      "outputs": [
        {
          "output_type": "execute_result",
          "data": {
            "text/plain": [
              "numpy.ndarray"
            ]
          },
          "metadata": {},
          "execution_count": 144
        }
      ]
    },
    {
      "cell_type": "code",
      "source": [
        "isinstance(m1,np.ndarray)"
      ],
      "metadata": {
        "id": "iIKnyvMwAVsV",
        "colab": {
          "base_uri": "https://localhost:8080/"
        },
        "outputId": "b7c70766-4537-401b-8f0c-1541f71b8e78"
      },
      "execution_count": 145,
      "outputs": [
        {
          "output_type": "execute_result",
          "data": {
            "text/plain": [
              "True"
            ]
          },
          "metadata": {},
          "execution_count": 145
        }
      ]
    },
    {
      "cell_type": "code",
      "source": [
        "m1[0]"
      ],
      "metadata": {
        "id": "-JAPitXmAcaq",
        "colab": {
          "base_uri": "https://localhost:8080/"
        },
        "outputId": "81bd5c07-4a15-47e4-9c29-a78df96bd7ef"
      },
      "execution_count": 146,
      "outputs": [
        {
          "output_type": "execute_result",
          "data": {
            "text/plain": [
              "3.0"
            ]
          },
          "metadata": {},
          "execution_count": 146
        }
      ]
    },
    {
      "cell_type": "code",
      "source": [
        "m1[0:3]"
      ],
      "metadata": {
        "id": "76F08IP5Amcs",
        "colab": {
          "base_uri": "https://localhost:8080/"
        },
        "outputId": "4a7a7093-a3e1-4e2d-b467-c51e988825aa"
      },
      "execution_count": 147,
      "outputs": [
        {
          "output_type": "execute_result",
          "data": {
            "text/plain": [
              "array([3., 4., 5.])"
            ]
          },
          "metadata": {},
          "execution_count": 147
        }
      ]
    },
    {
      "cell_type": "code",
      "source": [
        "m1[2:]"
      ],
      "metadata": {
        "colab": {
          "base_uri": "https://localhost:8080/"
        },
        "id": "BRvtpYEl2wCc",
        "outputId": "c507d831-2d27-49fe-ddbf-12550a8b6c21"
      },
      "execution_count": 148,
      "outputs": [
        {
          "output_type": "execute_result",
          "data": {
            "text/plain": [
              "array([ 5. , 12. ,  3.4])"
            ]
          },
          "metadata": {},
          "execution_count": 148
        }
      ]
    },
    {
      "cell_type": "code",
      "source": [
        "m1[:2]"
      ],
      "metadata": {
        "colab": {
          "base_uri": "https://localhost:8080/"
        },
        "id": "5vUOetkt25Lo",
        "outputId": "9ba5545e-bddb-4ade-f178-5010abcd88fd"
      },
      "execution_count": 149,
      "outputs": [
        {
          "output_type": "execute_result",
          "data": {
            "text/plain": [
              "array([3., 4.])"
            ]
          },
          "metadata": {},
          "execution_count": 149
        }
      ]
    },
    {
      "cell_type": "code",
      "source": [
        "m1[:1] +  m1[2:]"
      ],
      "metadata": {
        "colab": {
          "base_uri": "https://localhost:8080/"
        },
        "id": "16NW2HOR3Bp5",
        "outputId": "6d2e1aaf-29bb-4bac-d503-15336f94ab9b"
      },
      "execution_count": 150,
      "outputs": [
        {
          "output_type": "execute_result",
          "data": {
            "text/plain": [
              "array([ 8. , 15. ,  6.4])"
            ]
          },
          "metadata": {},
          "execution_count": 150
        }
      ]
    },
    {
      "cell_type": "code",
      "source": [
        "np.concatenate((m1[:1], m1[2:]))"
      ],
      "metadata": {
        "id": "EtNT6tNgAodW",
        "colab": {
          "base_uri": "https://localhost:8080/"
        },
        "outputId": "e41c58c9-6858-407e-c7fa-bbfa02d0e62a"
      },
      "execution_count": 164,
      "outputs": [
        {
          "output_type": "execute_result",
          "data": {
            "text/plain": [
              "array([ 3. ,  5. , 12. ,  3.4])"
            ]
          },
          "metadata": {},
          "execution_count": 164
        }
      ]
    },
    {
      "cell_type": "code",
      "source": [
        "np.delete(m1, 1)"
      ],
      "metadata": {
        "id": "_vGrpn7zArCf",
        "colab": {
          "base_uri": "https://localhost:8080/"
        },
        "outputId": "9c454911-beec-4ecd-8436-71f075048f62"
      },
      "execution_count": 165,
      "outputs": [
        {
          "output_type": "execute_result",
          "data": {
            "text/plain": [
              "array([ 3. ,  5. , 12. ,  3.4])"
            ]
          },
          "metadata": {},
          "execution_count": 165
        }
      ]
    },
    {
      "cell_type": "code",
      "source": [
        "m1[-1]"
      ],
      "metadata": {
        "id": "1Bb_73JTAtOJ",
        "colab": {
          "base_uri": "https://localhost:8080/"
        },
        "outputId": "9de49d8a-800f-4e61-d6e1-648fc6b7e926"
      },
      "execution_count": 167,
      "outputs": [
        {
          "output_type": "execute_result",
          "data": {
            "text/plain": [
              "3.4"
            ]
          },
          "metadata": {},
          "execution_count": 167
        }
      ]
    },
    {
      "cell_type": "code",
      "source": [
        "m1[-3]"
      ],
      "metadata": {
        "colab": {
          "base_uri": "https://localhost:8080/"
        },
        "id": "eXfhPZkp4wq9",
        "outputId": "05b43c53-474f-4885-c34a-6c912e5f0eab"
      },
      "execution_count": 168,
      "outputs": [
        {
          "output_type": "execute_result",
          "data": {
            "text/plain": [
              "5.0"
            ]
          },
          "metadata": {},
          "execution_count": 168
        }
      ]
    },
    {
      "cell_type": "code",
      "source": [
        "m1[-3:]"
      ],
      "metadata": {
        "id": "yccP2580At-3",
        "colab": {
          "base_uri": "https://localhost:8080/"
        },
        "outputId": "9a3b04aa-4c22-42ae-bc71-7720e05bc3a2"
      },
      "execution_count": 169,
      "outputs": [
        {
          "output_type": "execute_result",
          "data": {
            "text/plain": [
              "array([ 5. , 12. ,  3.4])"
            ]
          },
          "metadata": {},
          "execution_count": 169
        }
      ]
    },
    {
      "cell_type": "code",
      "source": [
        "m1.append(10) # append es exclusivo de listas"
      ],
      "metadata": {
        "colab": {
          "base_uri": "https://localhost:8080/",
          "height": 141
        },
        "id": "jv1ZhYQ55EB_",
        "outputId": "b8818b93-b718-40d3-c2e4-92f921696e2a"
      },
      "execution_count": 170,
      "outputs": [
        {
          "output_type": "error",
          "ename": "AttributeError",
          "evalue": "'numpy.ndarray' object has no attribute 'append'",
          "traceback": [
            "\u001b[0;31m---------------------------------------------------------------------------\u001b[0m",
            "\u001b[0;31mAttributeError\u001b[0m                            Traceback (most recent call last)",
            "\u001b[0;32m<ipython-input-170-b1df9bf5f1e3>\u001b[0m in \u001b[0;36m<cell line: 1>\u001b[0;34m()\u001b[0m\n\u001b[0;32m----> 1\u001b[0;31m \u001b[0mm1\u001b[0m\u001b[0;34m.\u001b[0m\u001b[0mappend\u001b[0m\u001b[0;34m(\u001b[0m\u001b[0;36m10\u001b[0m\u001b[0;34m)\u001b[0m\u001b[0;34m\u001b[0m\u001b[0;34m\u001b[0m\u001b[0m\n\u001b[0m",
            "\u001b[0;31mAttributeError\u001b[0m: 'numpy.ndarray' object has no attribute 'append'"
          ]
        }
      ]
    },
    {
      "cell_type": "code",
      "source": [
        "np.append(m1, 10)"
      ],
      "metadata": {
        "id": "jZbSZ1BRAweV",
        "colab": {
          "base_uri": "https://localhost:8080/"
        },
        "outputId": "391ec2d4-6362-4a12-eb9f-73bbd286caa9"
      },
      "execution_count": 171,
      "outputs": [
        {
          "output_type": "execute_result",
          "data": {
            "text/plain": [
              "array([ 3. ,  4. ,  5. , 12. ,  3.4, 10. ])"
            ]
          },
          "metadata": {},
          "execution_count": 171
        }
      ]
    },
    {
      "cell_type": "code",
      "source": [
        "len(m1) # len es una abreviatura de length"
      ],
      "metadata": {
        "id": "KdlwT946Azd5",
        "colab": {
          "base_uri": "https://localhost:8080/"
        },
        "outputId": "b5ad289e-fdb0-495b-ac75-8fdfe67c651d"
      },
      "execution_count": 172,
      "outputs": [
        {
          "output_type": "execute_result",
          "data": {
            "text/plain": [
              "5"
            ]
          },
          "metadata": {},
          "execution_count": 172
        }
      ]
    },
    {
      "cell_type": "code",
      "source": [
        "m2 = np.array([4, 5, 6])\n",
        "np.concatenate((m1, m2))"
      ],
      "metadata": {
        "id": "B4LYsa7lA2X_",
        "colab": {
          "base_uri": "https://localhost:8080/"
        },
        "outputId": "b532b76c-9f00-45f8-cbaa-96d08581ec35"
      },
      "execution_count": 173,
      "outputs": [
        {
          "output_type": "execute_result",
          "data": {
            "text/plain": [
              "array([ 3. ,  4. ,  5. , 12. ,  3.4,  4. ,  5. ,  6. ])"
            ]
          },
          "metadata": {},
          "execution_count": 173
        }
      ]
    },
    {
      "cell_type": "code",
      "source": [
        "np.tile(m2, 3)"
      ],
      "metadata": {
        "id": "NnZ9s28XA65W",
        "colab": {
          "base_uri": "https://localhost:8080/"
        },
        "outputId": "c4692034-2d0a-45f1-e592-736ee39fcbf5"
      },
      "execution_count": 174,
      "outputs": [
        {
          "output_type": "execute_result",
          "data": {
            "text/plain": [
              "array([4, 5, 6, 4, 5, 6, 4, 5, 6])"
            ]
          },
          "metadata": {},
          "execution_count": 174
        }
      ]
    },
    {
      "cell_type": "code",
      "source": [
        "np.array(range(1, 6))"
      ],
      "metadata": {
        "id": "CfTCY-AyA8a0",
        "colab": {
          "base_uri": "https://localhost:8080/"
        },
        "outputId": "5b68da5b-db1b-442b-a234-3f547d68048d"
      },
      "execution_count": 176,
      "outputs": [
        {
          "output_type": "execute_result",
          "data": {
            "text/plain": [
              "array([1, 2, 3, 4, 5])"
            ]
          },
          "metadata": {},
          "execution_count": 176
        }
      ]
    },
    {
      "cell_type": "code",
      "source": [
        "np.arange(1, 5.25, 0.25)"
      ],
      "metadata": {
        "id": "2-LYWAPiA-NQ",
        "colab": {
          "base_uri": "https://localhost:8080/"
        },
        "outputId": "93b88eef-d8fb-4569-bb69-dd59665d1e57"
      },
      "execution_count": 175,
      "outputs": [
        {
          "output_type": "execute_result",
          "data": {
            "text/plain": [
              "array([1.  , 1.25, 1.5 , 1.75, 2.  , 2.25, 2.5 , 2.75, 3.  , 3.25, 3.5 ,\n",
              "       3.75, 4.  , 4.25, 4.5 , 4.75, 5.  ])"
            ]
          },
          "metadata": {},
          "execution_count": 175
        }
      ]
    },
    {
      "cell_type": "code",
      "source": [
        "m3 = np.array([9, 4, 2, 3, 4, 6, 7, 8, 10, 3, 2])\n",
        "m3[::-1]"
      ],
      "metadata": {
        "id": "k92TwQVvBAJs",
        "colab": {
          "base_uri": "https://localhost:8080/"
        },
        "outputId": "d08deba8-6e2e-483d-a0c1-a7321b711e25"
      },
      "execution_count": 178,
      "outputs": [
        {
          "output_type": "execute_result",
          "data": {
            "text/plain": [
              "array([ 2,  3, 10,  8,  7,  6,  4,  3,  2,  4,  9])"
            ]
          },
          "metadata": {},
          "execution_count": 178
        }
      ]
    },
    {
      "cell_type": "code",
      "source": [
        "np.flip(m3) # equivalente a m3[::-1]"
      ],
      "metadata": {
        "colab": {
          "base_uri": "https://localhost:8080/"
        },
        "id": "oBY1SBQo7DoE",
        "outputId": "1ecdff2c-21da-4c45-b35c-61f995dcc454"
      },
      "execution_count": 183,
      "outputs": [
        {
          "output_type": "execute_result",
          "data": {
            "text/plain": [
              "array([ 2,  3, 10,  8,  7,  6,  4,  3,  2,  4,  9])"
            ]
          },
          "metadata": {},
          "execution_count": 183
        }
      ]
    },
    {
      "cell_type": "code",
      "source": [
        "m3[8:2:-2]"
      ],
      "metadata": {
        "id": "p60jENeaBDYe",
        "colab": {
          "base_uri": "https://localhost:8080/"
        },
        "outputId": "b9114820-2d03-4ea0-a0fc-9ea8c42fe738"
      },
      "execution_count": 179,
      "outputs": [
        {
          "output_type": "execute_result",
          "data": {
            "text/plain": [
              "array([10,  7,  4])"
            ]
          },
          "metadata": {},
          "execution_count": 179
        }
      ]
    },
    {
      "cell_type": "code",
      "source": [
        "m3[2:8:2]"
      ],
      "metadata": {
        "id": "kzlLV_KuBFEk",
        "colab": {
          "base_uri": "https://localhost:8080/"
        },
        "outputId": "d832fc03-e34d-496c-d468-6531232bdf6e"
      },
      "execution_count": 180,
      "outputs": [
        {
          "output_type": "execute_result",
          "data": {
            "text/plain": [
              "array([2, 4, 7])"
            ]
          },
          "metadata": {},
          "execution_count": 180
        }
      ]
    },
    {
      "cell_type": "code",
      "source": [
        "np.sort(m3)"
      ],
      "metadata": {
        "id": "HweXTZVmBI9e",
        "colab": {
          "base_uri": "https://localhost:8080/"
        },
        "outputId": "e22649b5-190a-4da6-b9b6-081785a10424"
      },
      "execution_count": 181,
      "outputs": [
        {
          "output_type": "execute_result",
          "data": {
            "text/plain": [
              "array([ 2,  2,  3,  3,  4,  4,  6,  7,  8,  9, 10])"
            ]
          },
          "metadata": {},
          "execution_count": 181
        }
      ]
    },
    {
      "cell_type": "code",
      "source": [
        "np.flip(np.sort(m3))"
      ],
      "metadata": {
        "colab": {
          "base_uri": "https://localhost:8080/"
        },
        "id": "_2R7OYqK6-Tc",
        "outputId": "eeeec2bf-f03f-406d-a6fe-a32a1c5907f5"
      },
      "execution_count": 182,
      "outputs": [
        {
          "output_type": "execute_result",
          "data": {
            "text/plain": [
              "array([10,  9,  8,  7,  6,  4,  4,  3,  3,  2,  2])"
            ]
          },
          "metadata": {},
          "execution_count": 182
        }
      ]
    },
    {
      "cell_type": "code",
      "source": [
        "np.sort(m3)[::-1]"
      ],
      "metadata": {
        "colab": {
          "base_uri": "https://localhost:8080/"
        },
        "id": "ASHItA3v7hLf",
        "outputId": "9108a808-4c21-41d5-c622-ee9286c0cf41"
      },
      "execution_count": 185,
      "outputs": [
        {
          "output_type": "execute_result",
          "data": {
            "text/plain": [
              "array([10,  9,  8,  7,  6,  4,  4,  3,  3,  2,  2])"
            ]
          },
          "metadata": {},
          "execution_count": 185
        }
      ]
    },
    {
      "cell_type": "code",
      "source": [
        "m4 = np.array(list(string.ascii_lowercase))\n",
        "m4"
      ],
      "metadata": {
        "id": "D3MYHaxwBLYm",
        "colab": {
          "base_uri": "https://localhost:8080/"
        },
        "outputId": "a9848501-8d19-4006-a5a3-c01a89afcd6e"
      },
      "execution_count": 186,
      "outputs": [
        {
          "output_type": "execute_result",
          "data": {
            "text/plain": [
              "array(['a', 'b', 'c', 'd', 'e', 'f', 'g', 'h', 'i', 'j', 'k', 'l', 'm',\n",
              "       'n', 'o', 'p', 'q', 'r', 's', 't', 'u', 'v', 'w', 'x', 'y', 'z'],\n",
              "      dtype='<U1')"
            ]
          },
          "metadata": {},
          "execution_count": 186
        }
      ]
    },
    {
      "cell_type": "code",
      "source": [
        "np.where(m4 == \"b\")"
      ],
      "metadata": {
        "id": "kA2cvsFTBPqU",
        "colab": {
          "base_uri": "https://localhost:8080/"
        },
        "outputId": "70cab840-8ca3-4d14-b342-4301122b1b6b"
      },
      "execution_count": 192,
      "outputs": [
        {
          "output_type": "execute_result",
          "data": {
            "text/plain": [
              "(array([1]),)"
            ]
          },
          "metadata": {},
          "execution_count": 192
        }
      ]
    },
    {
      "cell_type": "code",
      "source": [
        "np.where(m4 == \"b\")[0][0] + 1"
      ],
      "metadata": {
        "id": "K-9JSug-BNFg",
        "colab": {
          "base_uri": "https://localhost:8080/"
        },
        "outputId": "63451523-2a50-40dd-a969-3d8470facb5e"
      },
      "execution_count": 191,
      "outputs": [
        {
          "output_type": "execute_result",
          "data": {
            "text/plain": [
              "2"
            ]
          },
          "metadata": {},
          "execution_count": 191
        }
      ]
    },
    {
      "cell_type": "code",
      "source": [
        "matriz = np.array([[1, 2, 3], [1,1,111], [7, 4, 9], [10,11,12]])\n",
        "matriz"
      ],
      "metadata": {
        "id": "uWk0PDtQDH4B",
        "colab": {
          "base_uri": "https://localhost:8080/"
        },
        "outputId": "9f582cb4-f88b-485a-fb18-ce93d2ee268b"
      },
      "execution_count": 194,
      "outputs": [
        {
          "output_type": "execute_result",
          "data": {
            "text/plain": [
              "array([[  1,   2,   3],\n",
              "       [  1,   1, 111],\n",
              "       [  7,   4,   9],\n",
              "       [ 10,  11,  12]])"
            ]
          },
          "metadata": {},
          "execution_count": 194
        }
      ]
    },
    {
      "cell_type": "code",
      "source": [
        "matriz[1, 2] # muestra  el dato de la segunda fila (fila en posición 1) y la tercera columna (columna en posición 2)"
      ],
      "metadata": {
        "id": "uSeCh9R_DKT8",
        "colab": {
          "base_uri": "https://localhost:8080/"
        },
        "outputId": "9be05980-a23a-4a7c-f234-a49dea644299"
      },
      "execution_count": 195,
      "outputs": [
        {
          "output_type": "execute_result",
          "data": {
            "text/plain": [
              "111"
            ]
          },
          "metadata": {},
          "execution_count": 195
        }
      ]
    },
    {
      "cell_type": "code",
      "source": [
        "matriz[0,:] # muestra los datos de la primera fila (todas las columnas)"
      ],
      "metadata": {
        "id": "mNXjv9GzDM2R",
        "colab": {
          "base_uri": "https://localhost:8080/"
        },
        "outputId": "36d482a6-1a94-4bae-b0a8-c507b66d2487"
      },
      "execution_count": 196,
      "outputs": [
        {
          "output_type": "execute_result",
          "data": {
            "text/plain": [
              "array([1, 2, 3])"
            ]
          },
          "metadata": {},
          "execution_count": 196
        }
      ]
    },
    {
      "cell_type": "code",
      "source": [
        "matriz[:,1] # muestra los datos de la segunda columna (todas las filas)"
      ],
      "metadata": {
        "id": "C1ZBOuetDNWC",
        "colab": {
          "base_uri": "https://localhost:8080/"
        },
        "outputId": "395ad3f8-c144-42da-af11-b3d7eab3fcba"
      },
      "execution_count": 197,
      "outputs": [
        {
          "output_type": "execute_result",
          "data": {
            "text/plain": [
              "array([ 2,  1,  4, 11])"
            ]
          },
          "metadata": {},
          "execution_count": 197
        }
      ]
    },
    {
      "cell_type": "code",
      "source": [
        "matriz[1:3,1] # muestra los datos de la segunda y tercera fila cruzados con la segunda columna"
      ],
      "metadata": {
        "colab": {
          "base_uri": "https://localhost:8080/"
        },
        "id": "rHiHukYs9qnl",
        "outputId": "ed190ed3-3a0a-4445-81b6-005b6699dac7"
      },
      "execution_count": 198,
      "outputs": [
        {
          "output_type": "execute_result",
          "data": {
            "text/plain": [
              "array([1, 4])"
            ]
          },
          "metadata": {},
          "execution_count": 198
        }
      ]
    },
    {
      "cell_type": "code",
      "source": [
        "matriz.ndim # número de dimensiones (2 = filas y columnas)"
      ],
      "metadata": {
        "id": "55GXpDjoDXos",
        "colab": {
          "base_uri": "https://localhost:8080/"
        },
        "outputId": "d7daeb05-3894-45cc-f833-f628ba221fe9"
      },
      "execution_count": 202,
      "outputs": [
        {
          "output_type": "execute_result",
          "data": {
            "text/plain": [
              "2"
            ]
          },
          "metadata": {},
          "execution_count": 202
        }
      ]
    },
    {
      "cell_type": "code",
      "source": [
        "matriz.shape # (número de filas, número de columnas)"
      ],
      "metadata": {
        "id": "mbGy9349DY38",
        "colab": {
          "base_uri": "https://localhost:8080/"
        },
        "outputId": "338587f6-35be-4eb8-a0a9-170019b4e411"
      },
      "execution_count": 203,
      "outputs": [
        {
          "output_type": "execute_result",
          "data": {
            "text/plain": [
              "(4, 3)"
            ]
          },
          "metadata": {},
          "execution_count": 203
        }
      ]
    },
    {
      "cell_type": "code",
      "source": [
        "matriz.size # número de filas * número de columnas"
      ],
      "metadata": {
        "id": "8aqmtjomDZ90",
        "colab": {
          "base_uri": "https://localhost:8080/"
        },
        "outputId": "aa5a716f-18a5-4993-a749-d9e5a1e5efd2"
      },
      "execution_count": 204,
      "outputs": [
        {
          "output_type": "execute_result",
          "data": {
            "text/plain": [
              "12"
            ]
          },
          "metadata": {},
          "execution_count": 204
        }
      ]
    },
    {
      "cell_type": "markdown",
      "source": [
        "## Data Frames"
      ],
      "metadata": {
        "id": "EG6SP1R9DVD8"
      }
    },
    {
      "cell_type": "markdown",
      "source": [
        "Un DataFrame es una estructura de datos que se utiliza principalmente en pandas, una biblioteca de Python para análisis de datos. Un DataFrame es similar a una tabla en una base de datos o a una hoja de cálculo en Excel, donde los datos están organizados en filas y columnas.\n",
        "\n"
      ],
      "metadata": {
        "id": "z22JBzhgDjDY"
      }
    },
    {
      "cell_type": "code",
      "source": [
        "import pandas as pd\n",
        "\n",
        "data = {\n",
        "    'Nombre': ['Ana', 'Luis', 'María','Juan'],\n",
        "    'Edad': [21, 22, 20, 25],\n",
        "    'Ciudad': ['Lima', 'Cusco', 'Arequipa', 'Piura']\n",
        "}\n",
        "\n",
        "d1 = pd.DataFrame(data)\n",
        "d1"
      ],
      "metadata": {
        "id": "z3iDX2jvDnC7",
        "colab": {
          "base_uri": "https://localhost:8080/",
          "height": 174
        },
        "outputId": "9a2a84ec-e8ac-47aa-9965-d244a287c087"
      },
      "execution_count": 208,
      "outputs": [
        {
          "output_type": "execute_result",
          "data": {
            "text/plain": [
              "  Nombre  Edad    Ciudad\n",
              "0    Ana    21      Lima\n",
              "1   Luis    22     Cusco\n",
              "2  María    20  Arequipa\n",
              "3   Juan    25     Piura"
            ],
            "text/html": [
              "\n",
              "  <div id=\"df-53919cd2-e120-4d3b-b28c-6ed4b17c3d7c\" class=\"colab-df-container\">\n",
              "    <div>\n",
              "<style scoped>\n",
              "    .dataframe tbody tr th:only-of-type {\n",
              "        vertical-align: middle;\n",
              "    }\n",
              "\n",
              "    .dataframe tbody tr th {\n",
              "        vertical-align: top;\n",
              "    }\n",
              "\n",
              "    .dataframe thead th {\n",
              "        text-align: right;\n",
              "    }\n",
              "</style>\n",
              "<table border=\"1\" class=\"dataframe\">\n",
              "  <thead>\n",
              "    <tr style=\"text-align: right;\">\n",
              "      <th></th>\n",
              "      <th>Nombre</th>\n",
              "      <th>Edad</th>\n",
              "      <th>Ciudad</th>\n",
              "    </tr>\n",
              "  </thead>\n",
              "  <tbody>\n",
              "    <tr>\n",
              "      <th>0</th>\n",
              "      <td>Ana</td>\n",
              "      <td>21</td>\n",
              "      <td>Lima</td>\n",
              "    </tr>\n",
              "    <tr>\n",
              "      <th>1</th>\n",
              "      <td>Luis</td>\n",
              "      <td>22</td>\n",
              "      <td>Cusco</td>\n",
              "    </tr>\n",
              "    <tr>\n",
              "      <th>2</th>\n",
              "      <td>María</td>\n",
              "      <td>20</td>\n",
              "      <td>Arequipa</td>\n",
              "    </tr>\n",
              "    <tr>\n",
              "      <th>3</th>\n",
              "      <td>Juan</td>\n",
              "      <td>25</td>\n",
              "      <td>Piura</td>\n",
              "    </tr>\n",
              "  </tbody>\n",
              "</table>\n",
              "</div>\n",
              "    <div class=\"colab-df-buttons\">\n",
              "\n",
              "  <div class=\"colab-df-container\">\n",
              "    <button class=\"colab-df-convert\" onclick=\"convertToInteractive('df-53919cd2-e120-4d3b-b28c-6ed4b17c3d7c')\"\n",
              "            title=\"Convert this dataframe to an interactive table.\"\n",
              "            style=\"display:none;\">\n",
              "\n",
              "  <svg xmlns=\"http://www.w3.org/2000/svg\" height=\"24px\" viewBox=\"0 -960 960 960\">\n",
              "    <path d=\"M120-120v-720h720v720H120Zm60-500h600v-160H180v160Zm220 220h160v-160H400v160Zm0 220h160v-160H400v160ZM180-400h160v-160H180v160Zm440 0h160v-160H620v160ZM180-180h160v-160H180v160Zm440 0h160v-160H620v160Z\"/>\n",
              "  </svg>\n",
              "    </button>\n",
              "\n",
              "  <style>\n",
              "    .colab-df-container {\n",
              "      display:flex;\n",
              "      gap: 12px;\n",
              "    }\n",
              "\n",
              "    .colab-df-convert {\n",
              "      background-color: #E8F0FE;\n",
              "      border: none;\n",
              "      border-radius: 50%;\n",
              "      cursor: pointer;\n",
              "      display: none;\n",
              "      fill: #1967D2;\n",
              "      height: 32px;\n",
              "      padding: 0 0 0 0;\n",
              "      width: 32px;\n",
              "    }\n",
              "\n",
              "    .colab-df-convert:hover {\n",
              "      background-color: #E2EBFA;\n",
              "      box-shadow: 0px 1px 2px rgba(60, 64, 67, 0.3), 0px 1px 3px 1px rgba(60, 64, 67, 0.15);\n",
              "      fill: #174EA6;\n",
              "    }\n",
              "\n",
              "    .colab-df-buttons div {\n",
              "      margin-bottom: 4px;\n",
              "    }\n",
              "\n",
              "    [theme=dark] .colab-df-convert {\n",
              "      background-color: #3B4455;\n",
              "      fill: #D2E3FC;\n",
              "    }\n",
              "\n",
              "    [theme=dark] .colab-df-convert:hover {\n",
              "      background-color: #434B5C;\n",
              "      box-shadow: 0px 1px 3px 1px rgba(0, 0, 0, 0.15);\n",
              "      filter: drop-shadow(0px 1px 2px rgba(0, 0, 0, 0.3));\n",
              "      fill: #FFFFFF;\n",
              "    }\n",
              "  </style>\n",
              "\n",
              "    <script>\n",
              "      const buttonEl =\n",
              "        document.querySelector('#df-53919cd2-e120-4d3b-b28c-6ed4b17c3d7c button.colab-df-convert');\n",
              "      buttonEl.style.display =\n",
              "        google.colab.kernel.accessAllowed ? 'block' : 'none';\n",
              "\n",
              "      async function convertToInteractive(key) {\n",
              "        const element = document.querySelector('#df-53919cd2-e120-4d3b-b28c-6ed4b17c3d7c');\n",
              "        const dataTable =\n",
              "          await google.colab.kernel.invokeFunction('convertToInteractive',\n",
              "                                                    [key], {});\n",
              "        if (!dataTable) return;\n",
              "\n",
              "        const docLinkHtml = 'Like what you see? Visit the ' +\n",
              "          '<a target=\"_blank\" href=https://colab.research.google.com/notebooks/data_table.ipynb>data table notebook</a>'\n",
              "          + ' to learn more about interactive tables.';\n",
              "        element.innerHTML = '';\n",
              "        dataTable['output_type'] = 'display_data';\n",
              "        await google.colab.output.renderOutput(dataTable, element);\n",
              "        const docLink = document.createElement('div');\n",
              "        docLink.innerHTML = docLinkHtml;\n",
              "        element.appendChild(docLink);\n",
              "      }\n",
              "    </script>\n",
              "  </div>\n",
              "\n",
              "\n",
              "<div id=\"df-328893e4-58c8-4f93-80e2-672fe381178a\">\n",
              "  <button class=\"colab-df-quickchart\" onclick=\"quickchart('df-328893e4-58c8-4f93-80e2-672fe381178a')\"\n",
              "            title=\"Suggest charts\"\n",
              "            style=\"display:none;\">\n",
              "\n",
              "<svg xmlns=\"http://www.w3.org/2000/svg\" height=\"24px\"viewBox=\"0 0 24 24\"\n",
              "     width=\"24px\">\n",
              "    <g>\n",
              "        <path d=\"M19 3H5c-1.1 0-2 .9-2 2v14c0 1.1.9 2 2 2h14c1.1 0 2-.9 2-2V5c0-1.1-.9-2-2-2zM9 17H7v-7h2v7zm4 0h-2V7h2v10zm4 0h-2v-4h2v4z\"/>\n",
              "    </g>\n",
              "</svg>\n",
              "  </button>\n",
              "\n",
              "<style>\n",
              "  .colab-df-quickchart {\n",
              "      --bg-color: #E8F0FE;\n",
              "      --fill-color: #1967D2;\n",
              "      --hover-bg-color: #E2EBFA;\n",
              "      --hover-fill-color: #174EA6;\n",
              "      --disabled-fill-color: #AAA;\n",
              "      --disabled-bg-color: #DDD;\n",
              "  }\n",
              "\n",
              "  [theme=dark] .colab-df-quickchart {\n",
              "      --bg-color: #3B4455;\n",
              "      --fill-color: #D2E3FC;\n",
              "      --hover-bg-color: #434B5C;\n",
              "      --hover-fill-color: #FFFFFF;\n",
              "      --disabled-bg-color: #3B4455;\n",
              "      --disabled-fill-color: #666;\n",
              "  }\n",
              "\n",
              "  .colab-df-quickchart {\n",
              "    background-color: var(--bg-color);\n",
              "    border: none;\n",
              "    border-radius: 50%;\n",
              "    cursor: pointer;\n",
              "    display: none;\n",
              "    fill: var(--fill-color);\n",
              "    height: 32px;\n",
              "    padding: 0;\n",
              "    width: 32px;\n",
              "  }\n",
              "\n",
              "  .colab-df-quickchart:hover {\n",
              "    background-color: var(--hover-bg-color);\n",
              "    box-shadow: 0 1px 2px rgba(60, 64, 67, 0.3), 0 1px 3px 1px rgba(60, 64, 67, 0.15);\n",
              "    fill: var(--button-hover-fill-color);\n",
              "  }\n",
              "\n",
              "  .colab-df-quickchart-complete:disabled,\n",
              "  .colab-df-quickchart-complete:disabled:hover {\n",
              "    background-color: var(--disabled-bg-color);\n",
              "    fill: var(--disabled-fill-color);\n",
              "    box-shadow: none;\n",
              "  }\n",
              "\n",
              "  .colab-df-spinner {\n",
              "    border: 2px solid var(--fill-color);\n",
              "    border-color: transparent;\n",
              "    border-bottom-color: var(--fill-color);\n",
              "    animation:\n",
              "      spin 1s steps(1) infinite;\n",
              "  }\n",
              "\n",
              "  @keyframes spin {\n",
              "    0% {\n",
              "      border-color: transparent;\n",
              "      border-bottom-color: var(--fill-color);\n",
              "      border-left-color: var(--fill-color);\n",
              "    }\n",
              "    20% {\n",
              "      border-color: transparent;\n",
              "      border-left-color: var(--fill-color);\n",
              "      border-top-color: var(--fill-color);\n",
              "    }\n",
              "    30% {\n",
              "      border-color: transparent;\n",
              "      border-left-color: var(--fill-color);\n",
              "      border-top-color: var(--fill-color);\n",
              "      border-right-color: var(--fill-color);\n",
              "    }\n",
              "    40% {\n",
              "      border-color: transparent;\n",
              "      border-right-color: var(--fill-color);\n",
              "      border-top-color: var(--fill-color);\n",
              "    }\n",
              "    60% {\n",
              "      border-color: transparent;\n",
              "      border-right-color: var(--fill-color);\n",
              "    }\n",
              "    80% {\n",
              "      border-color: transparent;\n",
              "      border-right-color: var(--fill-color);\n",
              "      border-bottom-color: var(--fill-color);\n",
              "    }\n",
              "    90% {\n",
              "      border-color: transparent;\n",
              "      border-bottom-color: var(--fill-color);\n",
              "    }\n",
              "  }\n",
              "</style>\n",
              "\n",
              "  <script>\n",
              "    async function quickchart(key) {\n",
              "      const quickchartButtonEl =\n",
              "        document.querySelector('#' + key + ' button');\n",
              "      quickchartButtonEl.disabled = true;  // To prevent multiple clicks.\n",
              "      quickchartButtonEl.classList.add('colab-df-spinner');\n",
              "      try {\n",
              "        const charts = await google.colab.kernel.invokeFunction(\n",
              "            'suggestCharts', [key], {});\n",
              "      } catch (error) {\n",
              "        console.error('Error during call to suggestCharts:', error);\n",
              "      }\n",
              "      quickchartButtonEl.classList.remove('colab-df-spinner');\n",
              "      quickchartButtonEl.classList.add('colab-df-quickchart-complete');\n",
              "    }\n",
              "    (() => {\n",
              "      let quickchartButtonEl =\n",
              "        document.querySelector('#df-328893e4-58c8-4f93-80e2-672fe381178a button');\n",
              "      quickchartButtonEl.style.display =\n",
              "        google.colab.kernel.accessAllowed ? 'block' : 'none';\n",
              "    })();\n",
              "  </script>\n",
              "</div>\n",
              "\n",
              "  <div id=\"id_00fe1ce3-9fa0-4a0b-9314-765f4fb9b048\">\n",
              "    <style>\n",
              "      .colab-df-generate {\n",
              "        background-color: #E8F0FE;\n",
              "        border: none;\n",
              "        border-radius: 50%;\n",
              "        cursor: pointer;\n",
              "        display: none;\n",
              "        fill: #1967D2;\n",
              "        height: 32px;\n",
              "        padding: 0 0 0 0;\n",
              "        width: 32px;\n",
              "      }\n",
              "\n",
              "      .colab-df-generate:hover {\n",
              "        background-color: #E2EBFA;\n",
              "        box-shadow: 0px 1px 2px rgba(60, 64, 67, 0.3), 0px 1px 3px 1px rgba(60, 64, 67, 0.15);\n",
              "        fill: #174EA6;\n",
              "      }\n",
              "\n",
              "      [theme=dark] .colab-df-generate {\n",
              "        background-color: #3B4455;\n",
              "        fill: #D2E3FC;\n",
              "      }\n",
              "\n",
              "      [theme=dark] .colab-df-generate:hover {\n",
              "        background-color: #434B5C;\n",
              "        box-shadow: 0px 1px 3px 1px rgba(0, 0, 0, 0.15);\n",
              "        filter: drop-shadow(0px 1px 2px rgba(0, 0, 0, 0.3));\n",
              "        fill: #FFFFFF;\n",
              "      }\n",
              "    </style>\n",
              "    <button class=\"colab-df-generate\" onclick=\"generateWithVariable('d1')\"\n",
              "            title=\"Generate code using this dataframe.\"\n",
              "            style=\"display:none;\">\n",
              "\n",
              "  <svg xmlns=\"http://www.w3.org/2000/svg\" height=\"24px\"viewBox=\"0 0 24 24\"\n",
              "       width=\"24px\">\n",
              "    <path d=\"M7,19H8.4L18.45,9,17,7.55,7,17.6ZM5,21V16.75L18.45,3.32a2,2,0,0,1,2.83,0l1.4,1.43a1.91,1.91,0,0,1,.58,1.4,1.91,1.91,0,0,1-.58,1.4L9.25,21ZM18.45,9,17,7.55Zm-12,3A5.31,5.31,0,0,0,4.9,8.1,5.31,5.31,0,0,0,1,6.5,5.31,5.31,0,0,0,4.9,4.9,5.31,5.31,0,0,0,6.5,1,5.31,5.31,0,0,0,8.1,4.9,5.31,5.31,0,0,0,12,6.5,5.46,5.46,0,0,0,6.5,12Z\"/>\n",
              "  </svg>\n",
              "    </button>\n",
              "    <script>\n",
              "      (() => {\n",
              "      const buttonEl =\n",
              "        document.querySelector('#id_00fe1ce3-9fa0-4a0b-9314-765f4fb9b048 button.colab-df-generate');\n",
              "      buttonEl.style.display =\n",
              "        google.colab.kernel.accessAllowed ? 'block' : 'none';\n",
              "\n",
              "      buttonEl.onclick = () => {\n",
              "        google.colab.notebook.generateWithVariable('d1');\n",
              "      }\n",
              "      })();\n",
              "    </script>\n",
              "  </div>\n",
              "\n",
              "    </div>\n",
              "  </div>\n"
            ],
            "application/vnd.google.colaboratory.intrinsic+json": {
              "type": "dataframe",
              "variable_name": "d1",
              "summary": "{\n  \"name\": \"d1\",\n  \"rows\": 4,\n  \"fields\": [\n    {\n      \"column\": \"Nombre\",\n      \"properties\": {\n        \"dtype\": \"string\",\n        \"num_unique_values\": 4,\n        \"samples\": [\n          \"Luis\",\n          \"Juan\",\n          \"Ana\"\n        ],\n        \"semantic_type\": \"\",\n        \"description\": \"\"\n      }\n    },\n    {\n      \"column\": \"Edad\",\n      \"properties\": {\n        \"dtype\": \"number\",\n        \"std\": 2,\n        \"min\": 20,\n        \"max\": 25,\n        \"num_unique_values\": 4,\n        \"samples\": [\n          22,\n          25,\n          21\n        ],\n        \"semantic_type\": \"\",\n        \"description\": \"\"\n      }\n    },\n    {\n      \"column\": \"Ciudad\",\n      \"properties\": {\n        \"dtype\": \"string\",\n        \"num_unique_values\": 4,\n        \"samples\": [\n          \"Cusco\",\n          \"Piura\",\n          \"Lima\"\n        ],\n        \"semantic_type\": \"\",\n        \"description\": \"\"\n      }\n    }\n  ]\n}"
            }
          },
          "metadata": {},
          "execution_count": 208
        }
      ]
    }
  ]
}