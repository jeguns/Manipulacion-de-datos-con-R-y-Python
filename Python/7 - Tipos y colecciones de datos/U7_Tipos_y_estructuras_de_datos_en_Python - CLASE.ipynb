{
  "nbformat": 4,
  "nbformat_minor": 0,
  "metadata": {
    "colab": {
      "provenance": [],
      "authorship_tag": "ABX9TyOZfv/81O30dX19ZMYJ2N4E",
      "include_colab_link": true
    },
    "kernelspec": {
      "name": "python3",
      "display_name": "Python 3"
    },
    "language_info": {
      "name": "python"
    }
  },
  "cells": [
    {
      "cell_type": "markdown",
      "metadata": {
        "id": "view-in-github",
        "colab_type": "text"
      },
      "source": [
        "<a href=\"https://colab.research.google.com/github/jeguns/Manipulacion-de-datos-con-R-y-Python/blob/main/Python/7%20-%20Tipos%20y%20colecciones%20de%20datos/U7_Tipos_y_estructuras_de_datos_en_Python%20-%20CLASE.ipynb\" target=\"_parent\"><img src=\"https://colab.research.google.com/assets/colab-badge.svg\" alt=\"Open In Colab\"/></a>"
      ]
    },
    {
      "cell_type": "markdown",
      "source": [
        "# Tipos de datos estructurados"
      ],
      "metadata": {
        "id": "3xVmO0vNmSRg"
      }
    },
    {
      "cell_type": "markdown",
      "source": [
        "## Integer"
      ],
      "metadata": {
        "id": "VhixfeQqmhd_"
      }
    },
    {
      "cell_type": "code",
      "source": [
        "x = 4\n",
        "type(x)"
      ],
      "metadata": {
        "id": "AtwzfJYA0lM1",
        "colab": {
          "base_uri": "https://localhost:8080/"
        },
        "outputId": "48c12b20-1044-49d1-a379-b5492a821a15"
      },
      "execution_count": 1,
      "outputs": [
        {
          "output_type": "execute_result",
          "data": {
            "text/plain": [
              "int"
            ]
          },
          "metadata": {},
          "execution_count": 1
        }
      ]
    },
    {
      "cell_type": "code",
      "source": [
        "isinstance(x, int)"
      ],
      "metadata": {
        "id": "McDB2cdOmaEP",
        "colab": {
          "base_uri": "https://localhost:8080/"
        },
        "outputId": "cd2fad6a-64ef-4b95-ba19-1c4abe2c0a69"
      },
      "execution_count": 2,
      "outputs": [
        {
          "output_type": "execute_result",
          "data": {
            "text/plain": [
              "True"
            ]
          },
          "metadata": {},
          "execution_count": 2
        }
      ]
    },
    {
      "cell_type": "code",
      "source": [
        "x = 4\n",
        "type(x)\n",
        "isinstance(x, int)"
      ],
      "metadata": {
        "colab": {
          "base_uri": "https://localhost:8080/"
        },
        "id": "82Ylcu84SkJx",
        "outputId": "5cd319db-6374-42cb-9d88-e274b6859183"
      },
      "execution_count": 3,
      "outputs": [
        {
          "output_type": "execute_result",
          "data": {
            "text/plain": [
              "True"
            ]
          },
          "metadata": {},
          "execution_count": 3
        }
      ]
    },
    {
      "cell_type": "code",
      "source": [
        "y = 4\n",
        "print(type(y)) # <class 'int'>\n",
        "print(type(y).__name__) # int\n",
        "print(isinstance(y, int)) # True"
      ],
      "metadata": {
        "id": "sMcfJGYJ1ljx",
        "colab": {
          "base_uri": "https://localhost:8080/"
        },
        "outputId": "e0f773a7-de0a-4803-9dca-32d8c7666478"
      },
      "execution_count": 4,
      "outputs": [
        {
          "output_type": "stream",
          "name": "stdout",
          "text": [
            "<class 'int'>\n",
            "int\n",
            "True\n"
          ]
        }
      ]
    },
    {
      "cell_type": "code",
      "source": [
        "y = 4.0\n",
        "print(type(y).__name__)\n",
        "print(isinstance(y, int))"
      ],
      "metadata": {
        "id": "S__YsXNMmbrn",
        "colab": {
          "base_uri": "https://localhost:8080/"
        },
        "outputId": "11652e60-c5e1-42c7-a2db-4f6b3037e088"
      },
      "execution_count": 5,
      "outputs": [
        {
          "output_type": "stream",
          "name": "stdout",
          "text": [
            "float\n",
            "False\n"
          ]
        }
      ]
    },
    {
      "cell_type": "markdown",
      "source": [
        "## Float"
      ],
      "metadata": {
        "id": "dOlnOKwfminy"
      }
    },
    {
      "cell_type": "code",
      "source": [
        "y = 40.3\n",
        "type(y)"
      ],
      "metadata": {
        "id": "pQvTVAPqmjtb",
        "colab": {
          "base_uri": "https://localhost:8080/"
        },
        "outputId": "c368641e-1567-447f-efa5-f751bdaf555b"
      },
      "execution_count": 6,
      "outputs": [
        {
          "output_type": "execute_result",
          "data": {
            "text/plain": [
              "float"
            ]
          },
          "metadata": {},
          "execution_count": 6
        }
      ]
    },
    {
      "cell_type": "code",
      "source": [
        "isinstance(y, int)"
      ],
      "metadata": {
        "id": "oBMAkxZDmtVz",
        "colab": {
          "base_uri": "https://localhost:8080/"
        },
        "outputId": "da9cc8a5-0d67-4230-c995-36a8753e9579"
      },
      "execution_count": 7,
      "outputs": [
        {
          "output_type": "execute_result",
          "data": {
            "text/plain": [
              "False"
            ]
          },
          "metadata": {},
          "execution_count": 7
        }
      ]
    },
    {
      "cell_type": "code",
      "source": [
        "isinstance(y, float)"
      ],
      "metadata": {
        "id": "O9X0EH3nmsdU",
        "colab": {
          "base_uri": "https://localhost:8080/"
        },
        "outputId": "594b79ff-9fe4-4352-a3ae-b516cbe31461"
      },
      "execution_count": 8,
      "outputs": [
        {
          "output_type": "execute_result",
          "data": {
            "text/plain": [
              "True"
            ]
          },
          "metadata": {},
          "execution_count": 8
        }
      ]
    },
    {
      "cell_type": "markdown",
      "source": [
        "## Complex"
      ],
      "metadata": {
        "id": "cwpeLhr-mxA9"
      }
    },
    {
      "cell_type": "code",
      "source": [
        "1j # número imaginario = i = raíz cuadrada de -1"
      ],
      "metadata": {
        "colab": {
          "base_uri": "https://localhost:8080/"
        },
        "id": "9ihwiCHbTxmf",
        "outputId": "6acb6fb2-409a-48a2-c416-17e26012f9d7"
      },
      "execution_count": 12,
      "outputs": [
        {
          "output_type": "execute_result",
          "data": {
            "text/plain": [
              "1j"
            ]
          },
          "metadata": {},
          "execution_count": 12
        }
      ]
    },
    {
      "cell_type": "code",
      "source": [
        "z = 1 + 2j\n",
        "type(z)"
      ],
      "metadata": {
        "id": "cPu5O5asm_9W",
        "colab": {
          "base_uri": "https://localhost:8080/"
        },
        "outputId": "64c66812-01e9-45da-cd50-cb2a1ed6857a"
      },
      "execution_count": 11,
      "outputs": [
        {
          "output_type": "execute_result",
          "data": {
            "text/plain": [
              "complex"
            ]
          },
          "metadata": {},
          "execution_count": 11
        }
      ]
    },
    {
      "cell_type": "code",
      "source": [
        "print(isinstance(z, int))\n",
        "print(isinstance(z, float))\n",
        "print(isinstance(z, complex))"
      ],
      "metadata": {
        "id": "gP9vODn9nDXv",
        "colab": {
          "base_uri": "https://localhost:8080/"
        },
        "outputId": "bc6f2759-7e7f-4cce-e6c6-bb324f614afa"
      },
      "execution_count": 13,
      "outputs": [
        {
          "output_type": "stream",
          "name": "stdout",
          "text": [
            "False\n",
            "False\n",
            "True\n"
          ]
        }
      ]
    },
    {
      "cell_type": "code",
      "source": [
        "t = 1j\n",
        "print(type(t).__name__)\n",
        "print(isinstance(t, int))\n",
        "print(isinstance(t, float))\n",
        "print(isinstance(t, complex))"
      ],
      "metadata": {
        "id": "1_Zy0V31m-e7",
        "colab": {
          "base_uri": "https://localhost:8080/"
        },
        "outputId": "daf7119b-f881-4687-95a3-24c2f9f1310a"
      },
      "execution_count": 14,
      "outputs": [
        {
          "output_type": "stream",
          "name": "stdout",
          "text": [
            "complex\n",
            "False\n",
            "False\n",
            "True\n"
          ]
        }
      ]
    },
    {
      "cell_type": "code",
      "source": [
        "w = 10 + 0j\n",
        "print(type(w).__name__)\n",
        "print(isinstance(w, int))\n",
        "print(isinstance(w, float))\n",
        "print(isinstance(w, complex))"
      ],
      "metadata": {
        "id": "Zx0IvNfBnMo2",
        "colab": {
          "base_uri": "https://localhost:8080/"
        },
        "outputId": "a5d7177a-3c53-46ec-ad30-e8fa284c271e"
      },
      "execution_count": 15,
      "outputs": [
        {
          "output_type": "stream",
          "name": "stdout",
          "text": [
            "complex\n",
            "False\n",
            "False\n",
            "True\n"
          ]
        }
      ]
    },
    {
      "cell_type": "code",
      "source": [
        "v = 10\n",
        "print(type(v).__name__)\n",
        "print(isinstance(v, int))\n",
        "print(isinstance(v, float))\n",
        "print(isinstance(v, complex))"
      ],
      "metadata": {
        "id": "rdaE9J-FnNtj",
        "colab": {
          "base_uri": "https://localhost:8080/"
        },
        "outputId": "865f3608-d856-467c-8607-117c948b9dc8"
      },
      "execution_count": 16,
      "outputs": [
        {
          "output_type": "stream",
          "name": "stdout",
          "text": [
            "int\n",
            "True\n",
            "False\n",
            "False\n"
          ]
        }
      ]
    },
    {
      "cell_type": "markdown",
      "source": [
        "## Booleano"
      ],
      "metadata": {
        "id": "MDg1CIuvnTzv"
      }
    },
    {
      "cell_type": "code",
      "source": [
        "a = True\n",
        "print(type(a).__name__)\n",
        "print(isinstance(a, int)) # True = 1\n",
        "print(isinstance(a, float))\n",
        "print(isinstance(a, complex))\n",
        "print(isinstance(a, bool))"
      ],
      "metadata": {
        "id": "1vn_PJwuncsT",
        "colab": {
          "base_uri": "https://localhost:8080/"
        },
        "outputId": "f4c178bd-768c-4614-c081-801bf1917303"
      },
      "execution_count": 27,
      "outputs": [
        {
          "output_type": "stream",
          "name": "stdout",
          "text": [
            "bool\n",
            "True\n",
            "False\n",
            "False\n",
            "True\n"
          ]
        }
      ]
    },
    {
      "cell_type": "code",
      "source": [
        "True + 2 # True = 1"
      ],
      "metadata": {
        "colab": {
          "base_uri": "https://localhost:8080/"
        },
        "id": "p_rikc3FWhUj",
        "outputId": "e9d007ba-22f1-4e1c-902a-e46d67dde508"
      },
      "execution_count": 20,
      "outputs": [
        {
          "output_type": "execute_result",
          "data": {
            "text/plain": [
              "3"
            ]
          },
          "metadata": {},
          "execution_count": 20
        }
      ]
    },
    {
      "cell_type": "code",
      "source": [
        "3 == 5.2 # ¿3 = 5.2?"
      ],
      "metadata": {
        "id": "prsbPYMAniXE",
        "colab": {
          "base_uri": "https://localhost:8080/"
        },
        "outputId": "c2989505-aeb0-468f-d58d-9f3751d57f06"
      },
      "execution_count": 21,
      "outputs": [
        {
          "output_type": "execute_result",
          "data": {
            "text/plain": [
              "False"
            ]
          },
          "metadata": {},
          "execution_count": 21
        }
      ]
    },
    {
      "cell_type": "code",
      "source": [
        "4.6 <= 8.1"
      ],
      "metadata": {
        "id": "ZhSMTyxNnjgq",
        "colab": {
          "base_uri": "https://localhost:8080/"
        },
        "outputId": "3868d1fe-fdd6-4ff4-ae4c-2eb689ef9d32"
      },
      "execution_count": 22,
      "outputs": [
        {
          "output_type": "execute_result",
          "data": {
            "text/plain": [
              "True"
            ]
          },
          "metadata": {},
          "execution_count": 22
        }
      ]
    },
    {
      "cell_type": "code",
      "source": [
        "12 > 3.5"
      ],
      "metadata": {
        "id": "Gd_US3ESnk2X",
        "colab": {
          "base_uri": "https://localhost:8080/"
        },
        "outputId": "a74b9254-e074-4b08-86cf-b74c9c5c3acd"
      },
      "execution_count": 23,
      "outputs": [
        {
          "output_type": "execute_result",
          "data": {
            "text/plain": [
              "True"
            ]
          },
          "metadata": {},
          "execution_count": 23
        }
      ]
    },
    {
      "cell_type": "code",
      "source": [
        "5 != 8 # != : Distinto"
      ],
      "metadata": {
        "id": "EFd-uis0nl7f",
        "colab": {
          "base_uri": "https://localhost:8080/"
        },
        "outputId": "71caddec-1d40-4ebc-abfe-7a15ace144cb"
      },
      "execution_count": 24,
      "outputs": [
        {
          "output_type": "execute_result",
          "data": {
            "text/plain": [
              "True"
            ]
          },
          "metadata": {},
          "execution_count": 24
        }
      ]
    },
    {
      "cell_type": "code",
      "source": [
        "b <- (4 == 5)\n",
        "b"
      ],
      "metadata": {
        "id": "fM2M2VSvnnDZ",
        "colab": {
          "base_uri": "https://localhost:8080/"
        },
        "outputId": "86a70f8e-0911-4d58-b78a-f48f8499cdba"
      },
      "execution_count": 28,
      "outputs": [
        {
          "output_type": "execute_result",
          "data": {
            "text/plain": [
              "False"
            ]
          },
          "metadata": {},
          "execution_count": 28
        }
      ]
    },
    {
      "cell_type": "markdown",
      "source": [
        "## String"
      ],
      "metadata": {
        "id": "8Kz8rwDInqKp"
      }
    },
    {
      "cell_type": "code",
      "source": [
        "p = \"Universidad Agraria\"\n",
        "print(type(p).__name__)\n",
        "print(isinstance(p, int))\n",
        "print(isinstance(p, float))\n",
        "print(isinstance(p, complex))\n",
        "print(isinstance(p, bool))\n",
        "print(isinstance(p, str))"
      ],
      "metadata": {
        "id": "gQ0grIhynrXX",
        "colab": {
          "base_uri": "https://localhost:8080/"
        },
        "outputId": "f90017d2-8812-4297-96d4-47013275bf1e"
      },
      "execution_count": 35,
      "outputs": [
        {
          "output_type": "stream",
          "name": "stdout",
          "text": [
            "str\n",
            "False\n",
            "False\n",
            "False\n",
            "False\n",
            "True\n"
          ]
        }
      ]
    },
    {
      "cell_type": "code",
      "source": [
        "q = '70096321'\n",
        "type(q)"
      ],
      "metadata": {
        "id": "wBg_P_14n4EZ",
        "colab": {
          "base_uri": "https://localhost:8080/"
        },
        "outputId": "eb683b07-5b44-4fa1-c255-56511422f7d7"
      },
      "execution_count": 36,
      "outputs": [
        {
          "output_type": "execute_result",
          "data": {
            "text/plain": [
              "str"
            ]
          },
          "metadata": {},
          "execution_count": 36
        }
      ]
    },
    {
      "cell_type": "code",
      "source": [
        "s = 'Python is a programming language that lets you work quickly and integrate systems more effectively.'\n",
        "type(s)"
      ],
      "metadata": {
        "id": "wy0YWk5Pn6eo",
        "colab": {
          "base_uri": "https://localhost:8080/"
        },
        "outputId": "5eb02543-dd9d-4ab0-9717-db30d0b4d43a"
      },
      "execution_count": 37,
      "outputs": [
        {
          "output_type": "execute_result",
          "data": {
            "text/plain": [
              "str"
            ]
          },
          "metadata": {},
          "execution_count": 37
        }
      ]
    },
    {
      "cell_type": "markdown",
      "source": [
        "# Colecciones de datos"
      ],
      "metadata": {
        "id": "9G50vCZ2n_Ze"
      }
    },
    {
      "cell_type": "markdown",
      "source": [
        "## Listas"
      ],
      "metadata": {
        "id": "SbylMkVEoAxY"
      }
    },
    {
      "cell_type": "markdown",
      "source": [
        "Es una estructura de datos ordenada y **mutable** que permite almacenar una colección de elementos. Los elementos de una lista pueden ser de cualquier tipo de datos (enteros, cadenas, otros objetos) y no necesariamente deben ser del mismo tipo. Las listas en Python son muy flexibles y permiten agregar, modificar, eliminar y ordenar elementos fácilmente.\n",
        "\n"
      ],
      "metadata": {
        "id": "ZllX8E_cob08"
      }
    },
    {
      "cell_type": "code",
      "source": [
        "x1 = [3, 4, 5, 12, 3.4]\n",
        "x1"
      ],
      "metadata": {
        "id": "jh-X56w-oEZU",
        "colab": {
          "base_uri": "https://localhost:8080/"
        },
        "outputId": "103468e1-2174-42b8-cf4c-ffd72d89c689"
      },
      "execution_count": 41,
      "outputs": [
        {
          "output_type": "execute_result",
          "data": {
            "text/plain": [
              "[3, 4, 5, 12, 3.4]"
            ]
          },
          "metadata": {},
          "execution_count": 41
        }
      ]
    },
    {
      "cell_type": "code",
      "source": [
        "type(x1)"
      ],
      "metadata": {
        "id": "Ugz7NC_56Vrv",
        "colab": {
          "base_uri": "https://localhost:8080/"
        },
        "outputId": "82b58f01-f841-4d97-8d90-1ce718b6b373"
      },
      "execution_count": 42,
      "outputs": [
        {
          "output_type": "execute_result",
          "data": {
            "text/plain": [
              "list"
            ]
          },
          "metadata": {},
          "execution_count": 42
        }
      ]
    },
    {
      "cell_type": "code",
      "source": [
        "isinstance(x1, list)"
      ],
      "metadata": {
        "id": "odrIoSHToMkS",
        "colab": {
          "base_uri": "https://localhost:8080/"
        },
        "outputId": "8fcb2a16-0982-42b5-8cb5-5c554b99c537"
      },
      "execution_count": 43,
      "outputs": [
        {
          "output_type": "execute_result",
          "data": {
            "text/plain": [
              "True"
            ]
          },
          "metadata": {},
          "execution_count": 43
        }
      ]
    },
    {
      "cell_type": "code",
      "source": [
        "x1[0]"
      ],
      "metadata": {
        "id": "Vba2nRwFoOlM",
        "colab": {
          "base_uri": "https://localhost:8080/"
        },
        "outputId": "dad27f8d-8055-4e3e-cb98-da2afd161148"
      },
      "execution_count": 44,
      "outputs": [
        {
          "output_type": "execute_result",
          "data": {
            "text/plain": [
              "3"
            ]
          },
          "metadata": {},
          "execution_count": 44
        }
      ]
    },
    {
      "cell_type": "code",
      "source": [
        "x1[0:3]"
      ],
      "metadata": {
        "id": "a_Muwk1LoPqi",
        "colab": {
          "base_uri": "https://localhost:8080/"
        },
        "outputId": "dde43022-2efa-47fc-cb94-c723e584dbfa"
      },
      "execution_count": 45,
      "outputs": [
        {
          "output_type": "execute_result",
          "data": {
            "text/plain": [
              "[3, 4, 5]"
            ]
          },
          "metadata": {},
          "execution_count": 45
        }
      ]
    },
    {
      "cell_type": "code",
      "source": [
        "x1[2:] # Extrae los datos desde la posición 2"
      ],
      "metadata": {
        "colab": {
          "base_uri": "https://localhost:8080/"
        },
        "id": "gyDMx704b000",
        "outputId": "58aa7647-5c38-4f62-a03a-32717f31e1a9"
      },
      "execution_count": 49,
      "outputs": [
        {
          "output_type": "execute_result",
          "data": {
            "text/plain": [
              "[5, 12, 3.4]"
            ]
          },
          "metadata": {},
          "execution_count": 49
        }
      ]
    },
    {
      "cell_type": "code",
      "source": [
        "x1[:2] # Extrae los datos hasta antes de la posición 2 (pos 1)"
      ],
      "metadata": {
        "colab": {
          "base_uri": "https://localhost:8080/"
        },
        "id": "4BikeuI5cbjF",
        "outputId": "bbcfe6bc-72d8-43d6-d2b5-0f6698f0c918"
      },
      "execution_count": 50,
      "outputs": [
        {
          "output_type": "execute_result",
          "data": {
            "text/plain": [
              "[3, 4]"
            ]
          },
          "metadata": {},
          "execution_count": 50
        }
      ]
    },
    {
      "cell_type": "code",
      "source": [
        "x1[:1] + x1[2:]"
      ],
      "metadata": {
        "id": "T_vHaPdq3DGc",
        "colab": {
          "base_uri": "https://localhost:8080/"
        },
        "outputId": "e398fa03-282e-478f-f07e-2c34043e914c"
      },
      "execution_count": 46,
      "outputs": [
        {
          "output_type": "execute_result",
          "data": {
            "text/plain": [
              "[3, 5, 12, 3.4]"
            ]
          },
          "metadata": {},
          "execution_count": 46
        }
      ]
    },
    {
      "cell_type": "code",
      "source": [
        "x1"
      ],
      "metadata": {
        "id": "eBFpG6ym3UH3",
        "colab": {
          "base_uri": "https://localhost:8080/"
        },
        "outputId": "9a16ac46-1a30-45c8-c276-8a6c8aed7e3e"
      },
      "execution_count": 55,
      "outputs": [
        {
          "output_type": "execute_result",
          "data": {
            "text/plain": [
              "[3, 4, 5, 12, 3.4]"
            ]
          },
          "metadata": {},
          "execution_count": 55
        }
      ]
    },
    {
      "cell_type": "code",
      "source": [
        "x1.pop(1)\n",
        "x1"
      ],
      "metadata": {
        "id": "fPM3OpKr3Gvz",
        "colab": {
          "base_uri": "https://localhost:8080/"
        },
        "outputId": "8549c0d8-f3b2-4f1b-d4cf-1eda486cd1b8"
      },
      "execution_count": 56,
      "outputs": [
        {
          "output_type": "execute_result",
          "data": {
            "text/plain": [
              "[3, 5, 12, 3.4]"
            ]
          },
          "metadata": {},
          "execution_count": 56
        }
      ]
    },
    {
      "cell_type": "code",
      "source": [
        "x1[-1]"
      ],
      "metadata": {
        "id": "GiFAPW21okBS",
        "colab": {
          "base_uri": "https://localhost:8080/"
        },
        "outputId": "ea478b05-6c25-42ea-df28-3dd9e3815248"
      },
      "execution_count": 57,
      "outputs": [
        {
          "output_type": "execute_result",
          "data": {
            "text/plain": [
              "3.4"
            ]
          },
          "metadata": {},
          "execution_count": 57
        }
      ]
    },
    {
      "cell_type": "code",
      "source": [
        "x1[-3]"
      ],
      "metadata": {
        "colab": {
          "base_uri": "https://localhost:8080/"
        },
        "id": "2LiOnKoLfQ8X",
        "outputId": "d7373e98-d700-48d8-afb0-d16be42548c2"
      },
      "execution_count": 59,
      "outputs": [
        {
          "output_type": "execute_result",
          "data": {
            "text/plain": [
              "5"
            ]
          },
          "metadata": {},
          "execution_count": 59
        }
      ]
    },
    {
      "cell_type": "code",
      "source": [
        "x1[-3:]"
      ],
      "metadata": {
        "id": "kxmGg8SU3cK3",
        "colab": {
          "base_uri": "https://localhost:8080/"
        },
        "outputId": "6249bd72-06fb-4307-ee15-bb6110a0a56d"
      },
      "execution_count": 60,
      "outputs": [
        {
          "output_type": "execute_result",
          "data": {
            "text/plain": [
              "[5, 12, 3.4]"
            ]
          },
          "metadata": {},
          "execution_count": 60
        }
      ]
    },
    {
      "cell_type": "code",
      "source": [
        "x1.append(10)\n",
        "x1"
      ],
      "metadata": {
        "id": "rbmarcOzolcA",
        "colab": {
          "base_uri": "https://localhost:8080/"
        },
        "outputId": "a3976660-95b2-49cc-d1c7-0a87c67fda7a"
      },
      "execution_count": 66,
      "outputs": [
        {
          "output_type": "execute_result",
          "data": {
            "text/plain": [
              "[3, 5, 12, 3.4, 10, 10, 10]"
            ]
          },
          "metadata": {},
          "execution_count": 66
        }
      ]
    },
    {
      "cell_type": "code",
      "source": [
        "x1.remove(5)\n",
        "x1"
      ],
      "metadata": {
        "id": "vwexv0A-onjd",
        "colab": {
          "base_uri": "https://localhost:8080/"
        },
        "outputId": "d0d1d9e5-e230-4c62-c3d0-d43173671a49"
      },
      "execution_count": 67,
      "outputs": [
        {
          "output_type": "execute_result",
          "data": {
            "text/plain": [
              "[3, 12, 3.4, 10, 10, 10]"
            ]
          },
          "metadata": {},
          "execution_count": 67
        }
      ]
    },
    {
      "cell_type": "code",
      "source": [
        "x1.remove(10)\n",
        "x1"
      ],
      "metadata": {
        "colab": {
          "base_uri": "https://localhost:8080/"
        },
        "id": "hDtfDmHugX2k",
        "outputId": "6e531bde-5bac-4719-dc63-b6e6cbcc80de"
      },
      "execution_count": 68,
      "outputs": [
        {
          "output_type": "execute_result",
          "data": {
            "text/plain": [
              "[3, 12, 3.4, 10, 10]"
            ]
          },
          "metadata": {},
          "execution_count": 68
        }
      ]
    },
    {
      "cell_type": "code",
      "source": [
        "len(x1)"
      ],
      "metadata": {
        "id": "nru_SuCxou70",
        "colab": {
          "base_uri": "https://localhost:8080/"
        },
        "outputId": "8a858d4a-7387-439f-fb85-7edc7d230e2a"
      },
      "execution_count": 69,
      "outputs": [
        {
          "output_type": "execute_result",
          "data": {
            "text/plain": [
              "5"
            ]
          },
          "metadata": {},
          "execution_count": 69
        }
      ]
    },
    {
      "cell_type": "code",
      "source": [
        "x2 = [4, 5, 6]\n",
        "x1 + x2"
      ],
      "metadata": {
        "id": "VvYEYnuFoxw4",
        "colab": {
          "base_uri": "https://localhost:8080/"
        },
        "outputId": "d2583a0e-d008-4519-a1c3-c6697a755e76"
      },
      "execution_count": 70,
      "outputs": [
        {
          "output_type": "execute_result",
          "data": {
            "text/plain": [
              "[3, 12, 3.4, 10, 10, 4, 5, 6]"
            ]
          },
          "metadata": {},
          "execution_count": 70
        }
      ]
    },
    {
      "cell_type": "code",
      "source": [
        "x2 * 3"
      ],
      "metadata": {
        "id": "oNwx_fbEpE0R",
        "colab": {
          "base_uri": "https://localhost:8080/"
        },
        "outputId": "4776c711-fbfa-4c50-ea23-ef0e3e888835"
      },
      "execution_count": 71,
      "outputs": [
        {
          "output_type": "execute_result",
          "data": {
            "text/plain": [
              "[4, 5, 6, 4, 5, 6, 4, 5, 6]"
            ]
          },
          "metadata": {},
          "execution_count": 71
        }
      ]
    },
    {
      "cell_type": "code",
      "source": [
        "list(range(1, 6))"
      ],
      "metadata": {
        "id": "-f9R3UWmpGua",
        "colab": {
          "base_uri": "https://localhost:8080/"
        },
        "outputId": "986094b3-4036-4123-cd2d-ff66ae59da8e"
      },
      "execution_count": 72,
      "outputs": [
        {
          "output_type": "execute_result",
          "data": {
            "text/plain": [
              "[1, 2, 3, 4, 5]"
            ]
          },
          "metadata": {},
          "execution_count": 72
        }
      ]
    },
    {
      "cell_type": "code",
      "source": [
        "import numpy\n",
        "numpy.arange(1, 5.25, 0.25).tolist()"
      ],
      "metadata": {
        "id": "9paa4myEpI2-",
        "colab": {
          "base_uri": "https://localhost:8080/"
        },
        "outputId": "d4e30eb9-b618-4501-9152-4c2f2b8bbc08"
      },
      "execution_count": 73,
      "outputs": [
        {
          "output_type": "execute_result",
          "data": {
            "text/plain": [
              "[1.0,\n",
              " 1.25,\n",
              " 1.5,\n",
              " 1.75,\n",
              " 2.0,\n",
              " 2.25,\n",
              " 2.5,\n",
              " 2.75,\n",
              " 3.0,\n",
              " 3.25,\n",
              " 3.5,\n",
              " 3.75,\n",
              " 4.0,\n",
              " 4.25,\n",
              " 4.5,\n",
              " 4.75,\n",
              " 5.0]"
            ]
          },
          "metadata": {},
          "execution_count": 73
        }
      ]
    },
    {
      "cell_type": "code",
      "source": [
        "import numpy as np\n",
        "np.arange(1, 5.25, 0.25).tolist()"
      ],
      "metadata": {
        "colab": {
          "base_uri": "https://localhost:8080/"
        },
        "id": "xc1ztN7_iRTV",
        "outputId": "df208d6f-e889-412f-fadc-b9407347e941"
      },
      "execution_count": 74,
      "outputs": [
        {
          "output_type": "execute_result",
          "data": {
            "text/plain": [
              "[1.0,\n",
              " 1.25,\n",
              " 1.5,\n",
              " 1.75,\n",
              " 2.0,\n",
              " 2.25,\n",
              " 2.5,\n",
              " 2.75,\n",
              " 3.0,\n",
              " 3.25,\n",
              " 3.5,\n",
              " 3.75,\n",
              " 4.0,\n",
              " 4.25,\n",
              " 4.5,\n",
              " 4.75,\n",
              " 5.0]"
            ]
          },
          "metadata": {},
          "execution_count": 74
        }
      ]
    },
    {
      "cell_type": "code",
      "source": [
        "x3 = [9, 4, 2, 3, 4, 6, 7, 8 ,10, 3, 2]\n",
        "x3[::-1]"
      ],
      "metadata": {
        "id": "pTmE8EMHpPI8",
        "colab": {
          "base_uri": "https://localhost:8080/"
        },
        "outputId": "74890826-c731-4973-cd37-f7685d5844f3"
      },
      "execution_count": 75,
      "outputs": [
        {
          "output_type": "execute_result",
          "data": {
            "text/plain": [
              "[2, 3, 10, 8, 7, 6, 4, 3, 2, 4, 9]"
            ]
          },
          "metadata": {},
          "execution_count": 75
        }
      ]
    },
    {
      "cell_type": "code",
      "source": [
        "x3[8:2:-2]"
      ],
      "metadata": {
        "id": "jFNfYnCX4fW3",
        "colab": {
          "base_uri": "https://localhost:8080/"
        },
        "outputId": "890505ee-009e-4a0c-e9a1-b982f27b10d7"
      },
      "execution_count": 76,
      "outputs": [
        {
          "output_type": "execute_result",
          "data": {
            "text/plain": [
              "[10, 7, 4]"
            ]
          },
          "metadata": {},
          "execution_count": 76
        }
      ]
    },
    {
      "cell_type": "code",
      "source": [
        "x3[2:8:2]"
      ],
      "metadata": {
        "id": "4aB0VIjg5B7e",
        "colab": {
          "base_uri": "https://localhost:8080/"
        },
        "outputId": "3a841ecf-c305-4471-9a38-ac91b7218a9f"
      },
      "execution_count": 77,
      "outputs": [
        {
          "output_type": "execute_result",
          "data": {
            "text/plain": [
              "[2, 4, 7]"
            ]
          },
          "metadata": {},
          "execution_count": 77
        }
      ]
    },
    {
      "cell_type": "code",
      "source": [
        "sorted(x3)"
      ],
      "metadata": {
        "id": "6SWmNlffpjSh",
        "colab": {
          "base_uri": "https://localhost:8080/"
        },
        "outputId": "59d0d4ba-44a0-4923-802e-82630e141987"
      },
      "execution_count": 78,
      "outputs": [
        {
          "output_type": "execute_result",
          "data": {
            "text/plain": [
              "[2, 2, 3, 3, 4, 4, 6, 7, 8, 9, 10]"
            ]
          },
          "metadata": {},
          "execution_count": 78
        }
      ]
    },
    {
      "cell_type": "code",
      "source": [
        "sorted(x3, reverse = True)"
      ],
      "metadata": {
        "colab": {
          "base_uri": "https://localhost:8080/"
        },
        "id": "YpeeIivSkOJS",
        "outputId": "121d0c62-2bcf-4050-f5d7-1358a06b4d8e"
      },
      "execution_count": 79,
      "outputs": [
        {
          "output_type": "execute_result",
          "data": {
            "text/plain": [
              "[10, 9, 8, 7, 6, 4, 4, 3, 3, 2, 2]"
            ]
          },
          "metadata": {},
          "execution_count": 79
        }
      ]
    },
    {
      "cell_type": "code",
      "source": [
        "import string\n",
        "x4 = list(string.ascii_lowercase)\n",
        "x4"
      ],
      "metadata": {
        "id": "yQn5lZWKpuIX",
        "colab": {
          "base_uri": "https://localhost:8080/"
        },
        "outputId": "3369a02c-c6f5-4813-dd38-983728a3377f"
      },
      "execution_count": 81,
      "outputs": [
        {
          "output_type": "execute_result",
          "data": {
            "text/plain": [
              "['a',\n",
              " 'b',\n",
              " 'c',\n",
              " 'd',\n",
              " 'e',\n",
              " 'f',\n",
              " 'g',\n",
              " 'h',\n",
              " 'i',\n",
              " 'j',\n",
              " 'k',\n",
              " 'l',\n",
              " 'm',\n",
              " 'n',\n",
              " 'o',\n",
              " 'p',\n",
              " 'q',\n",
              " 'r',\n",
              " 's',\n",
              " 't',\n",
              " 'u',\n",
              " 'v',\n",
              " 'w',\n",
              " 'x',\n",
              " 'y',\n",
              " 'z']"
            ]
          },
          "metadata": {},
          "execution_count": 81
        }
      ]
    },
    {
      "cell_type": "code",
      "source": [
        "x4.index(\"b\") + 1"
      ],
      "metadata": {
        "id": "9CWFBvvcp15Y",
        "colab": {
          "base_uri": "https://localhost:8080/"
        },
        "outputId": "e7cf9f67-6dc6-4ea3-94bc-cfc067b0faf2"
      },
      "execution_count": 85,
      "outputs": [
        {
          "output_type": "execute_result",
          "data": {
            "text/plain": [
              "2"
            ]
          },
          "metadata": {},
          "execution_count": 85
        }
      ]
    },
    {
      "cell_type": "code",
      "source": [
        "x5 = [[1,2], [3,4], [5,6,7,8,9,11,15,14,18,18,20]]\n",
        "x5"
      ],
      "metadata": {
        "id": "30ZfLIwL82j5",
        "colab": {
          "base_uri": "https://localhost:8080/"
        },
        "outputId": "068263ad-a2db-42df-cb81-46be03bdca40"
      },
      "execution_count": 86,
      "outputs": [
        {
          "output_type": "execute_result",
          "data": {
            "text/plain": [
              "[[1, 2], [3, 4], [5, 6, 7, 8, 9, 11, 15, 14, 18, 18, 20]]"
            ]
          },
          "metadata": {},
          "execution_count": 86
        }
      ]
    },
    {
      "cell_type": "code",
      "source": [
        "x5[0]"
      ],
      "metadata": {
        "id": "-uUVxXm3825L",
        "colab": {
          "base_uri": "https://localhost:8080/"
        },
        "outputId": "7551a12a-8dca-489d-aae6-9bc88c440c0a"
      },
      "execution_count": 87,
      "outputs": [
        {
          "output_type": "execute_result",
          "data": {
            "text/plain": [
              "[1, 2]"
            ]
          },
          "metadata": {},
          "execution_count": 87
        }
      ]
    },
    {
      "cell_type": "code",
      "source": [
        "x5[0][1]"
      ],
      "metadata": {
        "id": "MYNAILmM835W",
        "colab": {
          "base_uri": "https://localhost:8080/"
        },
        "outputId": "f3d23efd-b0a8-41fd-cdfd-d6c92502b8c8"
      },
      "execution_count": 88,
      "outputs": [
        {
          "output_type": "execute_result",
          "data": {
            "text/plain": [
              "2"
            ]
          },
          "metadata": {},
          "execution_count": 88
        }
      ]
    },
    {
      "cell_type": "code",
      "source": [
        "x5[2][0:3]"
      ],
      "metadata": {
        "colab": {
          "base_uri": "https://localhost:8080/"
        },
        "id": "rkhnyOmrlYP-",
        "outputId": "bf62ff73-9f10-4b55-80ca-6cd2343ddefc"
      },
      "execution_count": 92,
      "outputs": [
        {
          "output_type": "execute_result",
          "data": {
            "text/plain": [
              "[5, 6, 7]"
            ]
          },
          "metadata": {},
          "execution_count": 92
        }
      ]
    },
    {
      "cell_type": "code",
      "source": [
        "a, b, c = [1, 5, 10]\n",
        "a"
      ],
      "metadata": {
        "id": "yIzcH8TJ9OER",
        "colab": {
          "base_uri": "https://localhost:8080/"
        },
        "outputId": "abfa1f23-0879-4fcb-bc54-4a473bd76e1b"
      },
      "execution_count": 93,
      "outputs": [
        {
          "output_type": "execute_result",
          "data": {
            "text/plain": [
              "1"
            ]
          },
          "metadata": {},
          "execution_count": 93
        }
      ]
    },
    {
      "cell_type": "code",
      "source": [
        "b"
      ],
      "metadata": {
        "id": "5QbLN70C9RcP",
        "colab": {
          "base_uri": "https://localhost:8080/"
        },
        "outputId": "57abe707-019e-46b6-9693-140719c880a5"
      },
      "execution_count": 94,
      "outputs": [
        {
          "output_type": "execute_result",
          "data": {
            "text/plain": [
              "5"
            ]
          },
          "metadata": {},
          "execution_count": 94
        }
      ]
    },
    {
      "cell_type": "markdown",
      "source": [
        "## Tuplas"
      ],
      "metadata": {
        "id": "8fThVIMB6KjG"
      }
    },
    {
      "cell_type": "markdown",
      "source": [
        "Una tupla en Python es una colección ordenada e *inmutable* de elementos. Esto significa que, a diferencia de las listas, una tupla no puede ser modificada (no se pueden agregar, eliminar o cambiar elementos). Las tuplas son útiles cuando necesitas almacenar un conjunto de elementos que no deberían cambiar a lo largo del tiempo. Se definen usando paréntesis.\n",
        "\n"
      ],
      "metadata": {
        "id": "gKww4ZyY6ORy"
      }
    },
    {
      "cell_type": "code",
      "source": [
        "y1 = (3, 4, 5, 12, 3.4)\n",
        "y1"
      ],
      "metadata": {
        "id": "6zyFUxqm6MZn"
      },
      "execution_count": null,
      "outputs": []
    },
    {
      "cell_type": "code",
      "source": [
        "type(y1)"
      ],
      "metadata": {
        "id": "tXYS4qdj6XEM"
      },
      "execution_count": null,
      "outputs": []
    },
    {
      "cell_type": "code",
      "source": [
        "isinstance(y1, tuple)"
      ],
      "metadata": {
        "id": "7ji9DTR46ZUC"
      },
      "execution_count": null,
      "outputs": []
    },
    {
      "cell_type": "code",
      "source": [
        "y1[0]"
      ],
      "metadata": {
        "id": "6_l7FqH06bdW"
      },
      "execution_count": null,
      "outputs": []
    },
    {
      "cell_type": "code",
      "source": [
        "y1[0:3]"
      ],
      "metadata": {
        "id": "zGHnNQZ_6g3o"
      },
      "execution_count": null,
      "outputs": []
    },
    {
      "cell_type": "code",
      "source": [
        "y1[:1] + y1[2:]"
      ],
      "metadata": {
        "id": "xgICaaZn6j-E"
      },
      "execution_count": null,
      "outputs": []
    },
    {
      "cell_type": "code",
      "source": [
        "y1[-1]"
      ],
      "metadata": {
        "id": "6B86UNEX6oMu"
      },
      "execution_count": null,
      "outputs": []
    },
    {
      "cell_type": "code",
      "source": [
        "y1[-3]"
      ],
      "metadata": {
        "id": "qx90Koyu6p9J"
      },
      "execution_count": null,
      "outputs": []
    },
    {
      "cell_type": "code",
      "source": [
        "len(y1)"
      ],
      "metadata": {
        "id": "0nHRgu_88EZl"
      },
      "execution_count": null,
      "outputs": []
    },
    {
      "cell_type": "code",
      "source": [
        "y2 = (4, 5, 6)\n",
        "y1 + y2"
      ],
      "metadata": {
        "id": "NgL5YQB56rlN"
      },
      "execution_count": null,
      "outputs": []
    },
    {
      "cell_type": "code",
      "source": [
        "y2 * 3"
      ],
      "metadata": {
        "id": "LWVfT39_6u1g"
      },
      "execution_count": null,
      "outputs": []
    },
    {
      "cell_type": "code",
      "source": [
        "tuple(range(1, 6))"
      ],
      "metadata": {
        "id": "QZEqiKTJ6xh8"
      },
      "execution_count": null,
      "outputs": []
    },
    {
      "cell_type": "code",
      "source": [
        "import numpy as np\n",
        "tuple(np.arange(1, 5.25, 0.25).tolist())"
      ],
      "metadata": {
        "id": "tW8mHEsf60hL"
      },
      "execution_count": null,
      "outputs": []
    },
    {
      "cell_type": "code",
      "source": [
        "y3 = (9, 4, 2, 3, 4, 6, 7, 8, 10, 3, 2)\n",
        "y3[::-1]"
      ],
      "metadata": {
        "id": "2a1OCxS065VV"
      },
      "execution_count": null,
      "outputs": []
    },
    {
      "cell_type": "code",
      "source": [
        "y3[8:2:-2]"
      ],
      "metadata": {
        "id": "c2CFwnLX66CQ"
      },
      "execution_count": null,
      "outputs": []
    },
    {
      "cell_type": "code",
      "source": [
        "y3[2:8:2]"
      ],
      "metadata": {
        "id": "BISaPiVx6_hx"
      },
      "execution_count": null,
      "outputs": []
    },
    {
      "cell_type": "code",
      "source": [
        "tuple(sorted(x3))"
      ],
      "metadata": {
        "id": "m1Y4t3287Doq"
      },
      "execution_count": null,
      "outputs": []
    },
    {
      "cell_type": "code",
      "source": [
        "import string\n",
        "y4 = tuple(string.ascii_lowercase)\n",
        "y4"
      ],
      "metadata": {
        "id": "_myVagSc7HzG"
      },
      "execution_count": null,
      "outputs": []
    },
    {
      "cell_type": "code",
      "source": [
        "y4.index(\"b\") + 1"
      ],
      "metadata": {
        "id": "CN82K_ay7PzK"
      },
      "execution_count": null,
      "outputs": []
    },
    {
      "cell_type": "code",
      "source": [
        "y5 =  ((1, 2), (3, 4), (5, 6), [4,4,4,6])\n",
        "y5"
      ],
      "metadata": {
        "id": "Juu2Mlqt8aTX"
      },
      "execution_count": null,
      "outputs": []
    },
    {
      "cell_type": "code",
      "source": [
        "y5[0]"
      ],
      "metadata": {
        "id": "_TGBl-FY8dXz"
      },
      "execution_count": null,
      "outputs": []
    },
    {
      "cell_type": "code",
      "source": [
        "y5[0][1]"
      ],
      "metadata": {
        "id": "jS-xC3N98eTz"
      },
      "execution_count": null,
      "outputs": []
    },
    {
      "cell_type": "code",
      "source": [
        "y5[3][1]\n",
        "y5"
      ],
      "metadata": {
        "id": "2cmIGEgL9Acy"
      },
      "execution_count": null,
      "outputs": []
    },
    {
      "cell_type": "code",
      "source": [
        "y5[3][1] = 10\n",
        "y5"
      ],
      "metadata": {
        "id": "wb5pXdxW9G5I"
      },
      "execution_count": null,
      "outputs": []
    },
    {
      "cell_type": "code",
      "source": [
        "# y5[1][1] = 10"
      ],
      "metadata": {
        "id": "Es-t1P_B9JN_"
      },
      "execution_count": null,
      "outputs": []
    },
    {
      "cell_type": "code",
      "source": [
        "p, q, r = (1, 5, 10)\n",
        "p"
      ],
      "metadata": {
        "id": "51HjL4wD8h71"
      },
      "execution_count": null,
      "outputs": []
    },
    {
      "cell_type": "code",
      "source": [
        "q"
      ],
      "metadata": {
        "id": "Y87dK61T8nBg"
      },
      "execution_count": null,
      "outputs": []
    },
    {
      "cell_type": "markdown",
      "source": [
        "## Diccionarios"
      ],
      "metadata": {
        "id": "VzlbKSoF-E7D"
      }
    },
    {
      "cell_type": "markdown",
      "source": [
        "Un diccionario en Python es una estructura de datos que almacena pares clave-valor. Es similar a un \"mapa\" o \"tabla de búsqueda\" en la que puedes asociar una clave con un valor determinado. La clave actúa como un identificador único para acceder rápidamente al valor correspondiente. Los diccionarios son **mutables**, lo que significa que se pueden cambiar, agregar o eliminar elementos después de su creación. Se definen usando llaves {} y los pares clave-valor se separan por comas"
      ],
      "metadata": {
        "id": "YfYgylA_-oYy"
      }
    },
    {
      "cell_type": "code",
      "source": [
        "z1 = {\"a\": 3, \"b\": 4, \"c\": 5, \"d\": 12, \"e\": 3.4}\n",
        "z1"
      ],
      "metadata": {
        "id": "ufmGA-r1-hOi"
      },
      "execution_count": null,
      "outputs": []
    },
    {
      "cell_type": "code",
      "source": [
        "type(z1)"
      ],
      "metadata": {
        "id": "FXXHoOwO-zj8"
      },
      "execution_count": null,
      "outputs": []
    },
    {
      "cell_type": "code",
      "source": [
        "isinstance(z1, dict)"
      ],
      "metadata": {
        "id": "Q6_WcdOM-0bV"
      },
      "execution_count": null,
      "outputs": []
    },
    {
      "cell_type": "code",
      "source": [
        "z1['a'] # o z1[\"a\"]"
      ],
      "metadata": {
        "id": "I9rZfcQt-3bt"
      },
      "execution_count": null,
      "outputs": []
    },
    {
      "cell_type": "code",
      "source": [
        "for k in [\"a\", \"b\", \"c\"]:\n",
        "  print(z1[k])"
      ],
      "metadata": {
        "id": "sDGibhv9_AHD"
      },
      "execution_count": null,
      "outputs": []
    },
    {
      "cell_type": "code",
      "source": [
        "for k in z1:\n",
        "    if k != \"b\":\n",
        "        print(z1[k])"
      ],
      "metadata": {
        "id": "7ZbiE0fF_noJ"
      },
      "execution_count": null,
      "outputs": []
    },
    {
      "cell_type": "code",
      "source": [
        "z2 = {\"f\": 4, \"g\": 5, \"h\": 6}\n",
        "{**z1, **z2}"
      ],
      "metadata": {
        "id": "Cpd62Owh_hUc"
      },
      "execution_count": null,
      "outputs": []
    },
    {
      "cell_type": "markdown",
      "source": [
        "## Arrays"
      ],
      "metadata": {
        "id": "r5WVzst6AKux"
      }
    },
    {
      "cell_type": "markdown",
      "source": [
        "Colección ordenada de elementos, similar a las listas pero más eficientes para manejar grandes cantidades de datos numéricos. Comúnmente se usan a través del módulo numpy"
      ],
      "metadata": {
        "id": "jY1USPQNAMBz"
      }
    },
    {
      "cell_type": "code",
      "source": [
        "import numpy as np\n",
        "m1 = np.array([3,4,5,12,3.4])\n",
        "m1"
      ],
      "metadata": {
        "id": "D4vr5gF9AKdK"
      },
      "execution_count": null,
      "outputs": []
    },
    {
      "cell_type": "code",
      "source": [
        "type(m1)"
      ],
      "metadata": {
        "id": "OfAETSLiAUV3"
      },
      "execution_count": null,
      "outputs": []
    },
    {
      "cell_type": "code",
      "source": [
        "isinstance(m1,np.ndarray)"
      ],
      "metadata": {
        "id": "iIKnyvMwAVsV"
      },
      "execution_count": null,
      "outputs": []
    },
    {
      "cell_type": "code",
      "source": [
        "m1[0]"
      ],
      "metadata": {
        "id": "-JAPitXmAcaq"
      },
      "execution_count": null,
      "outputs": []
    },
    {
      "cell_type": "code",
      "source": [
        "m1[0:3]"
      ],
      "metadata": {
        "id": "76F08IP5Amcs"
      },
      "execution_count": null,
      "outputs": []
    },
    {
      "cell_type": "code",
      "source": [
        "np.concatenate((m1[:1], m1[2:]))"
      ],
      "metadata": {
        "id": "EtNT6tNgAodW"
      },
      "execution_count": null,
      "outputs": []
    },
    {
      "cell_type": "code",
      "source": [
        "np.delete(m1, 1)"
      ],
      "metadata": {
        "id": "_vGrpn7zArCf"
      },
      "execution_count": null,
      "outputs": []
    },
    {
      "cell_type": "code",
      "source": [
        "m1[-1]"
      ],
      "metadata": {
        "id": "1Bb_73JTAtOJ"
      },
      "execution_count": null,
      "outputs": []
    },
    {
      "cell_type": "code",
      "source": [
        "m1[-3:]"
      ],
      "metadata": {
        "id": "yccP2580At-3"
      },
      "execution_count": null,
      "outputs": []
    },
    {
      "cell_type": "code",
      "source": [
        "np.append(m1, 10)"
      ],
      "metadata": {
        "id": "jZbSZ1BRAweV"
      },
      "execution_count": null,
      "outputs": []
    },
    {
      "cell_type": "code",
      "source": [
        "len(m1)"
      ],
      "metadata": {
        "id": "KdlwT946Azd5"
      },
      "execution_count": null,
      "outputs": []
    },
    {
      "cell_type": "code",
      "source": [
        "m2 = np.array([4, 5, 6])\n",
        "np.concatenate((m1, m2))"
      ],
      "metadata": {
        "id": "B4LYsa7lA2X_"
      },
      "execution_count": null,
      "outputs": []
    },
    {
      "cell_type": "code",
      "source": [
        "np.tile(m2, 3)"
      ],
      "metadata": {
        "id": "NnZ9s28XA65W"
      },
      "execution_count": null,
      "outputs": []
    },
    {
      "cell_type": "code",
      "source": [
        "np.array(range(1, 6))"
      ],
      "metadata": {
        "id": "CfTCY-AyA8a0"
      },
      "execution_count": null,
      "outputs": []
    },
    {
      "cell_type": "code",
      "source": [
        "np.arange(1, 5.25, 0.25)"
      ],
      "metadata": {
        "id": "2-LYWAPiA-NQ"
      },
      "execution_count": null,
      "outputs": []
    },
    {
      "cell_type": "code",
      "source": [
        "m3 = np.array([9, 4, 2, 3, 4, 6, 7, 8, 10, 3, 2])\n",
        "m3[::-1]"
      ],
      "metadata": {
        "id": "k92TwQVvBAJs"
      },
      "execution_count": null,
      "outputs": []
    },
    {
      "cell_type": "code",
      "source": [
        "m3[8:2:-2]"
      ],
      "metadata": {
        "id": "p60jENeaBDYe"
      },
      "execution_count": null,
      "outputs": []
    },
    {
      "cell_type": "code",
      "source": [
        "m3[2:8:2]"
      ],
      "metadata": {
        "id": "kzlLV_KuBFEk"
      },
      "execution_count": null,
      "outputs": []
    },
    {
      "cell_type": "code",
      "source": [
        "np.sort(m3)"
      ],
      "metadata": {
        "id": "HweXTZVmBI9e"
      },
      "execution_count": null,
      "outputs": []
    },
    {
      "cell_type": "code",
      "source": [
        "m4 = np.array(list(string.ascii_lowercase))\n",
        "m4"
      ],
      "metadata": {
        "id": "D3MYHaxwBLYm"
      },
      "execution_count": null,
      "outputs": []
    },
    {
      "cell_type": "code",
      "source": [
        "np.where(m4 == \"b\")[0][0] + 1"
      ],
      "metadata": {
        "id": "K-9JSug-BNFg"
      },
      "execution_count": null,
      "outputs": []
    },
    {
      "cell_type": "code",
      "source": [
        "np.where(m4 == \"b\")"
      ],
      "metadata": {
        "id": "kA2cvsFTBPqU"
      },
      "execution_count": null,
      "outputs": []
    },
    {
      "cell_type": "code",
      "source": [
        "matriz = np.array([[1, 2, 3], [1,1,1], [7, 4, 9], [10,11,12]])\n",
        "matriz"
      ],
      "metadata": {
        "id": "uWk0PDtQDH4B"
      },
      "execution_count": null,
      "outputs": []
    },
    {
      "cell_type": "code",
      "source": [
        "matriz[1, 2]"
      ],
      "metadata": {
        "id": "uSeCh9R_DKT8"
      },
      "execution_count": null,
      "outputs": []
    },
    {
      "cell_type": "code",
      "source": [
        "matriz[0, :]"
      ],
      "metadata": {
        "id": "mNXjv9GzDM2R"
      },
      "execution_count": null,
      "outputs": []
    },
    {
      "cell_type": "code",
      "source": [
        "matriz[:,1]"
      ],
      "metadata": {
        "id": "C1ZBOuetDNWC"
      },
      "execution_count": null,
      "outputs": []
    },
    {
      "cell_type": "code",
      "source": [
        "matriz.ndim"
      ],
      "metadata": {
        "id": "55GXpDjoDXos"
      },
      "execution_count": null,
      "outputs": []
    },
    {
      "cell_type": "code",
      "source": [
        "matriz.shape"
      ],
      "metadata": {
        "id": "mbGy9349DY38"
      },
      "execution_count": null,
      "outputs": []
    },
    {
      "cell_type": "code",
      "source": [
        "matriz.size"
      ],
      "metadata": {
        "id": "8aqmtjomDZ90"
      },
      "execution_count": null,
      "outputs": []
    },
    {
      "cell_type": "markdown",
      "source": [
        "## Data Frames"
      ],
      "metadata": {
        "id": "EG6SP1R9DVD8"
      }
    },
    {
      "cell_type": "markdown",
      "source": [
        "Un DataFrame es una estructura de datos que se utiliza principalmente en pandas, una biblioteca de Python para análisis de datos. Un DataFrame es similar a una tabla en una base de datos o a una hoja de cálculo en Excel, donde los datos están organizados en filas y columnas.\n",
        "\n"
      ],
      "metadata": {
        "id": "z22JBzhgDjDY"
      }
    },
    {
      "cell_type": "code",
      "source": [
        "import pandas as pd\n",
        "\n",
        "data = {\n",
        "    'Nombre': ['Ana', 'Luis', 'María'],\n",
        "    'Edad': [21, 22, 20],\n",
        "    'Ciudad': ['Lima', 'Cusco', 'Arequipa']\n",
        "}\n",
        "\n",
        "d1 = pd.DataFrame(data)\n",
        "d1"
      ],
      "metadata": {
        "id": "z3iDX2jvDnC7"
      },
      "execution_count": null,
      "outputs": []
    }
  ]
}