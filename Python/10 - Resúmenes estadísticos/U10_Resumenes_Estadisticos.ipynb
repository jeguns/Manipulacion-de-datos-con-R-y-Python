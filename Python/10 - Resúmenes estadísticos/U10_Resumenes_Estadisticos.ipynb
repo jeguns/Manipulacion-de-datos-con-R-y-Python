{
  "nbformat": 4,
  "nbformat_minor": 0,
  "metadata": {
    "colab": {
      "provenance": [],
      "mount_file_id": "11O6wtnBHKClYNnls1YjqlBjrbkDd-zI4",
      "authorship_tag": "ABX9TyMQsgjQkksqX8Or0cm+CtZv",
      "include_colab_link": true
    },
    "kernelspec": {
      "name": "python3",
      "display_name": "Python 3"
    },
    "language_info": {
      "name": "python"
    }
  },
  "cells": [
    {
      "cell_type": "markdown",
      "metadata": {
        "id": "view-in-github",
        "colab_type": "text"
      },
      "source": [
        "<a href=\"https://colab.research.google.com/github/jeguns/Manipulacion-de-datos-con-R-y-Python/blob/main/Python/10%20-%20Res%C3%BAmenes%20estad%C3%ADsticos/U10_Resumenes_Estadisticos.ipynb\" target=\"_parent\"><img src=\"https://colab.research.google.com/assets/colab-badge.svg\" alt=\"Open In Colab\"/></a>"
      ]
    },
    {
      "cell_type": "markdown",
      "source": [
        "## Lectura"
      ],
      "metadata": {
        "id": "F_kEM-gHPzzw"
      }
    },
    {
      "cell_type": "code",
      "source": [
        "import pandas as pd\n",
        "datos1 = pd.read_csv('/content/drive/MyDrive/Cursos/Manipulación de datos con R y Python/U10 - DATOS1.csv', encoding='latin1')\n",
        "datos2 = pd.read_csv('/content/drive/MyDrive/Cursos/Manipulación de datos con R y Python/U10 - DATOS2.csv', encoding='latin1')"
      ],
      "metadata": {
        "id": "Hv7kkbBbP743"
      },
      "execution_count": null,
      "outputs": []
    },
    {
      "cell_type": "markdown",
      "source": [
        "## Repaso"
      ],
      "metadata": {
        "id": "gUKet1rbQE47"
      }
    },
    {
      "cell_type": "code",
      "source": [
        "import numpy as np\n",
        "\n",
        "datos_A = (\n",
        "    datos1\n",
        "    .assign(CODIGO=lambda x: x['CONGLOME'].astype(str) + x['VIVIENDA'].astype(str) + x['HOGAR'].astype(str) + x['CODPERSO'].astype(str))\n",
        "    .loc[:, ['CODIGO', 'DOMINIO', 'P207', 'P208A', 'P209']]\n",
        "    .assign(\n",
        "        DOMINIO=lambda x: x['DOMINIO'].map({1: \"Costa Norte\",\n",
        "                                            2: \"Costa Centro\",\n",
        "                                            3: \"Costa Sur\",\n",
        "                                            4: \"Sierra Norte\",\n",
        "                                            5: \"Sierra Centro\",\n",
        "                                            6: \"Sierra Sur\",\n",
        "                                            7: \"Selva\",\n",
        "                                            8: \"Lima Metropolitana\"}),\n",
        "        SEXO=lambda x: x['P207'].map({'1': \"Hombre\", '2': \"Mujer\"}),\n",
        "        EDAD=lambda x: pd.to_numeric(x['P208A'], errors='coerce'),\n",
        "        ECIV=lambda x: x['P209'].map({'1': \"Conviviente\",\n",
        "                                      '2': \"Casado(a)\",\n",
        "                                      '3': \"Viudo(a)\",\n",
        "                                      '4': \"Divorciado(a)\",\n",
        "                                      '5': \"Separado(a)\",\n",
        "                                      '6': \"Soltero(a)\"}))\n",
        "    .drop(columns=['P207', 'P208A', 'P209'])\n",
        ")\n",
        "\n",
        "datos_A.head()\n"
      ],
      "metadata": {
        "id": "xQEv-GLzQGxX"
      },
      "execution_count": null,
      "outputs": []
    },
    {
      "cell_type": "code",
      "source": [
        "datos_A.info()"
      ],
      "metadata": {
        "id": "qo66JD2w7PiF"
      },
      "execution_count": null,
      "outputs": []
    },
    {
      "cell_type": "code",
      "source": [
        "datos_B = (\n",
        "    datos2\n",
        "    .assign(CODIGO=lambda x: x['CONGLOME'].astype(str) + x['VIVIENDA'].astype(str) + x['HOGAR'].astype(str) + x['CODPERSO'].astype(str))\n",
        "    .loc[:, ['CODIGO', 'P314A', 'P314D']]\n",
        "    .rename(columns={'P314A': 'INTERNET', 'P314D': 'FREC_INT'})\n",
        "    .assign(\n",
        "        INTERNET=lambda x: x['INTERNET'].map({'1': \"Sí\", '2': \"No\"}).astype(\"category\"),\n",
        "        FREC_INT=lambda x: x['FREC_INT'].map({\n",
        "            '1': \"Una vez al día\",\n",
        "            '2': \"Una vez a la semana\",\n",
        "            '3': \"Una vez al mes\",\n",
        "            '4': \"Cada 2 meses o más\"\n",
        "        }).astype(\"category\")\n",
        "    )\n",
        ")\n",
        "\n",
        "datos_B.head()"
      ],
      "metadata": {
        "id": "ja3QRJBXQaJC"
      },
      "execution_count": null,
      "outputs": []
    },
    {
      "cell_type": "code",
      "source": [
        "datos = pd.merge(datos_A, datos_B, on=\"CODIGO\", how=\"inner\")\n",
        "datos.head()"
      ],
      "metadata": {
        "id": "H4mNjd3JQ7Lt"
      },
      "execution_count": null,
      "outputs": []
    },
    {
      "cell_type": "code",
      "source": [
        "datos['EDAD'].mean()"
      ],
      "metadata": {
        "id": "7aC1LhEUQ9y_"
      },
      "execution_count": null,
      "outputs": []
    },
    {
      "cell_type": "code",
      "source": [
        "datos['EDAD'].agg(mean='mean')"
      ],
      "metadata": {
        "id": "ipxUu3pgRC8a"
      },
      "execution_count": null,
      "outputs": []
    },
    {
      "cell_type": "code",
      "source": [
        "print(datos[datos['DOMINIO'] == \"Costa Sur\"]['EDAD'].mean())\n",
        "print(datos[datos['DOMINIO'] == \"Costa Centro\"]['EDAD'].mean())\n",
        "print(datos[datos['DOMINIO'] == \"Costa Norte\"]['EDAD'].mean())"
      ],
      "metadata": {
        "id": "xZTYJaki7yCK"
      },
      "execution_count": null,
      "outputs": []
    },
    {
      "cell_type": "code",
      "source": [
        "datos_grouped0 = (datos\n",
        "                 .groupby('DOMINIO', as_index=False)\n",
        "                 .agg(PromEdad=('EDAD', 'mean')))\n",
        "datos_grouped0"
      ],
      "metadata": {
        "id": "2UA8mlFJ8zvx"
      },
      "execution_count": null,
      "outputs": []
    },
    {
      "cell_type": "code",
      "source": [
        "datos_grouped1 = (datos\n",
        "                 .groupby('DOMINIO', as_index=False)\n",
        "                 .agg(PromEdad=('EDAD', 'mean'))\n",
        "                 .sort_values(by='PromEdad', ascending=False)\n",
        "                 .reset_index(drop=True))\n",
        "datos_grouped1"
      ],
      "metadata": {
        "id": "lVO6Crdp74jt"
      },
      "execution_count": null,
      "outputs": []
    },
    {
      "cell_type": "code",
      "source": [
        "datos_grouped2 = (datos\n",
        "                 .groupby('DOMINIO', as_index=False)\n",
        "                 .agg(Mediana_Edad=('EDAD', 'median'))\n",
        "                 .sort_values(by='Mediana_Edad', ascending=False)\n",
        "                 .reset_index(drop=True))\n",
        "datos_grouped2"
      ],
      "metadata": {
        "id": "0e_qzl9b8S_R"
      },
      "execution_count": null,
      "outputs": []
    },
    {
      "cell_type": "code",
      "source": [
        "datos_grouped3 = (datos\n",
        "                  .groupby('DOMINIO', as_index=False)\n",
        "                  .agg(P25_Edad     = ('EDAD', lambda x: x.quantile(0.25)),\n",
        "                       Mediana_Edad = ('EDAD', lambda x: x.quantile(0.5)),\n",
        "                       P75_Edad     = ('EDAD', lambda x: x.quantile(0.75))))\n",
        "datos_grouped3"
      ],
      "metadata": {
        "id": "G0thCDuY8fjj"
      },
      "execution_count": null,
      "outputs": []
    },
    {
      "cell_type": "code",
      "source": [
        "pip install ydata_profiling > /dev/null 2>&1"
      ],
      "metadata": {
        "id": "k0joqDXD9DZS"
      },
      "execution_count": null,
      "outputs": []
    },
    {
      "cell_type": "code",
      "source": [
        "from ydata_profiling import ProfileReport\n",
        "profile = ProfileReport(datos.iloc[0:100,:], title=\"Resumen de Datos\")\n",
        "profile.to_notebook_iframe()"
      ],
      "metadata": {
        "id": "KklcBsGT-F66"
      },
      "execution_count": null,
      "outputs": []
    },
    {
      "cell_type": "code",
      "source": [
        "profile.to_file(\"reporte_datos.html\")"
      ],
      "metadata": {
        "id": "aiKvLYjP-_cY"
      },
      "execution_count": null,
      "outputs": []
    }
  ]
}